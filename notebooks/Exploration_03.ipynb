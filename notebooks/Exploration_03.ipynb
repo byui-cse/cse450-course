{
  "cells": [
    {
      "cell_type": "markdown",
      "metadata": {
        "id": "LB9TN5GKEyhw"
      },
      "source": [
        "# Data Exploration 03\n",
        "\n",
        "You're working on an exhibit for a local museum called \"The Titanic Disaster\". They've asked you to analyze the passenger manifests and see if you can find any interesting information for the exhibit. \n",
        "\n",
        "The museum curator is particularly interested in why some people might have been more likely to survive than others."
      ]
    },
    {
      "cell_type": "markdown",
      "metadata": {
        "id": "agqlq8RKFbry"
      },
      "source": [
        "## Part 1: Import Pandas and load the data\n",
        "\n",
        "Remember to import Pandas the conventional way. If you've forgotten how, you may want to review [Data Exploration 01](https://byui-cse.github.io/cse450-course/module-01/exploration-01.html).\n",
        "\n",
        "The dataset for this exploration is stored at the following url:\n",
        "\n",
        "[https://raw.githubusercontent.com/byui-cse/cse450-course/master/data/titanic.csv](https://raw.githubusercontent.com/byui-cse/cse450-course/master/data/titanic.csv)\n",
        "\n",
        "There are lots of ways to load data into your workspace. The easiest way in this case is to [ask Pandas to do it for you](https://pandas.pydata.org/docs/getting_started/intro_tutorials/02_read_write.html).\n",
        "\n",
        "### Initial Data Analysis\n",
        "Once you've loaded the data, it's a good idea to poke around a little bit to find out what you're dealing with.\n",
        "\n",
        "Some questions you might ask include:\n",
        "\n",
        "* What does the data look like?\n",
        "* What kind of data is in each column? \n",
        "* Do any of the columns have missing values? "
      ]
    },
    {
      "cell_type": "code",
      "execution_count": null,
      "metadata": {
        "id": "14b9y6LKEvEm",
        "vscode": {
          "languageId": "python"
        }
      },
      "outputs": [],
      "source": [
        "# Part 1: Enter your code below to import Pandas according to the \n",
        "# conventional method. Then load the dataset into a Pandas dataframe.\n",
        "\n",
        "# Write any code needed to explore the data by seeing what the first few \n",
        "# rows look like. Then display a technical summary of the data to determine\n",
        "# the data types of each column, and which columns have missing data.\n"
      ]
    },
    {
      "cell_type": "code",
      "execution_count": null,
      "metadata": {
        "id": "4_xdjQtivfwe",
        "vscode": {
          "languageId": "python"
        }
      },
      "outputs": [],
      "source": []
    },
    {
      "cell_type": "markdown",
      "metadata": {
        "id": "q-O80D5JH9yA"
      },
      "source": [
        "## Part 2: Initial Exploration\n",
        "\n",
        "Using your visualization library of choice, let's first look at some features in isolation. Generate visualizations showing:\n",
        "\n",
        "- A comparison of the total number of passengers who survived compared to those that died.\n",
        "- A comparison of the total number of males compared to females\n",
        "- A histogram showing the distribution of sibling/spouse counts\n",
        "- A histogram showing the distribution of parent/child counts"
      ]
    },
    {
      "cell_type": "code",
      "execution_count": null,
      "metadata": {
        "id": "AMKxXySGJVnC",
        "vscode": {
          "languageId": "python"
        }
      },
      "outputs": [],
      "source": [
        "# Part 2: # Write the code needed to generate the visualizations specified.\n"
      ]
    },
    {
      "cell_type": "markdown",
      "metadata": {
        "id": "CqdAa4EfJ9T0"
      },
      "source": [
        "## Part 3: Pairwise Comparisons\n",
        "Use your visualization library of choice to look at how the survival distribution varied across different groups.\n",
        "\n",
        "- Choose some features that you think might have had some influence over the likelihood of a titanic passenger surviving.\n",
        "\n",
        "- For each of those features, generate a chart for each feature showing the survival distributions when taking that feature into account"
      ]
    },
    {
      "cell_type": "code",
      "execution_count": null,
      "metadata": {
        "id": "i8wdC-qpPjqF",
        "vscode": {
          "languageId": "python"
        }
      },
      "outputs": [],
      "source": [
        "# Write the code to explore how different features affect the survival distribution\n"
      ]
    },
    {
      "cell_type": "markdown",
      "metadata": {
        "id": "cl30h29pWp26"
      },
      "source": [
        "## Part 4: Feature Engineering\n",
        "\n",
        "The museum curator wonders if the passenger's rank and title might have anything to do with whether or not they survived. Since this information is embedded in their name, we'll use \"feature engineering\" to create two new columns:\n",
        "\n",
        "- Title: The passenger's title\n",
        "- Rank: A boolean (true/false) indicating if a passenger was someone of rank.\n",
        "\n",
        "For the first new column, you'll need to find a way to [extract the title portion of their name](https://pandas.pydata.org/docs/getting_started/intro_tutorials/10_text_data.html). Be sure to clean up any whitespace or extra punctuation.\n",
        "\n",
        "For the second new column, you'll need to first look at a summary of your list of titles and decide what exactly constitutes a title of rank. Will you include military and eccelsiastical titles? Once you've made your decision, create the second column.\n",
        "\n",
        "You may want to review prior Data Explorations for tips on creating new columns and checking for lists of values."
      ]
    },
    {
      "cell_type": "code",
      "execution_count": null,
      "metadata": {
        "id": "6UZKj1yMXTYg",
        "vscode": {
          "languageId": "python"
        }
      },
      "outputs": [],
      "source": [
        "# Enter the code needed to create the two new columns\n"
      ]
    },
    {
      "cell_type": "markdown",
      "metadata": {
        "id": "StdIGjYSMWLu"
      },
      "source": [
        "### Revisit Visualizations\n",
        "Now that you have the new columns in place. Revisit the pairwise comparison plots to see if the new columns reveal any interesting relationships."
      ]
    },
    {
      "cell_type": "code",
      "execution_count": null,
      "metadata": {
        "id": "y-F84gEyMnyk",
        "vscode": {
          "languageId": "python"
        }
      },
      "outputs": [],
      "source": [
        "# Enter the code needed to recheck the pairwise comparison.\n"
      ]
    },
    {
      "cell_type": "markdown",
      "metadata": {
        "id": "-wTKj6-1vGDh"
      },
      "source": [
        "## Part 5: Encoding\n",
        "\n",
        "The museum has partnered with a data science group to build some interactive predicitive models using the titanic passenger data.\n",
        "\n",
        "Many machine learning algorithms require categorical features to be **encoded** as numbers.\n",
        "\n",
        "There are two approaches to this, label encoding (sometimes called factorization), and \"one-hot\" encoding.\n",
        "\n",
        "### Label Encoding\n",
        "\n",
        "Label encoding creates numeric labels for each categorical value. For example, imagine we have a feature in the data called `Pet` with these values for the first five rows: `['Dog', 'Cat', 'Dog', 'Dog', 'Bird']`.\n",
        "\n",
        "We could create a new feature called `Pet_Encoded` where those values are represented as: `[0, 1, 0, 0, 2]`. Where `0 = Dog, 1 = Cat, and 2 = Bird`.\n",
        "\n",
        "In pandas there are two common ways to label encode a feature:\n",
        "\n",
        "#### Method 1: factorize()\n",
        "\n",
        "First, we could pandas' [factorize() method](https://pandas.pydata.org/docs/reference/api/pandas.factorize.html). It takes the series you want to encode as an argument and returns a list of two items. \n",
        "\n",
        "The first item is an array of encoded values. The second is the set of original values.\n",
        "\n",
        "\n",
        "    # The factorize() method returns the new values and the originals in a list. \n",
        "    # So the [0] at the end indicates we want only the new values.\n",
        "    myData['Pet_Encoded'] = pd.factorize(myData['Pet'])[0]\n",
        "\n",
        "\n",
        "#### Method 2: Category Data Type\n",
        "Every column in a pandas dataframe is a certain datatype. Usually, pandas infers which datatype to use based on the values of the column. However, we can use the `astype()` method to convert a feature from one type to another.\n",
        "\n",
        "If we first convert a feature to the `category` datatype, we can ask pandas to create a new column in the data frame based on the category codes:\n",
        "\n",
        "    # Convert our column to the category type\n",
        "    myData['Pet'] = myData['Pet'].astype('category')\n",
        "    myData['Pet_Encoded'] = myData['Pet'].cat.codes\n",
        "\n",
        "\n",
        "Whichever method we choose, our machine learning algorithm could use the new `Pet_Encoded` feature in place of the `Pet` feature.\n",
        "\n",
        "\n"
      ]
    },
    {
      "cell_type": "code",
      "execution_count": null,
      "metadata": {
        "id": "_T4JsGImIbXJ",
        "vscode": {
          "languageId": "python"
        }
      },
      "outputs": [],
      "source": [
        "# Create a new column in the dataset called \"Sex_Encoded\" containing the \n",
        "# label encoded values of the \"Sex\" column\n"
      ]
    },
    {
      "attachments": {},
      "cell_type": "markdown",
      "metadata": {
        "id": "6vvgOheB4NbV"
      },
      "source": [
        "### One-Hot Encoding\n",
        "\n",
        "One problem with label encoding is that it can make a categorical variable appear as if it contains a quantitative relationship between its values. \n",
        "\n",
        "In the example above, is Bird twice as important as Cat? Some algorithms might interpret those values that way.\n",
        "\n",
        "One-Hot encoding avoids this problem by creating a new feature for each category. The value of the new feature is either `0` (is not this value) or `1` (is this value).\n",
        "\n",
        "In pandas, we can use the [get_dummies()](https://pandas.pydata.org/docs/reference/api/pandas.get_dummies.html) method to deal with this problem:\n",
        "\n",
        "    myEncodedData = pd.get_dummies(myData, columns=['Pet'])\n",
        "\n",
        "In the case of our `Pet` example, the new features created by `get_dummies()` would be:\n",
        "\n",
        "| Pet_is_Dog | Pet_is_Cat | Pet_is_Bird |\n",
        "|:----------:|:----------:|:-----------:|\n",
        "|      1     |      0     |      0      |\n",
        "|      0     |      1     |      0      |\n",
        "|      1     |      0     |      0      |\n",
        "|      1     |      0     |      0      |\n",
        "|      0     |      0     |      1      |\n",
        "\n",
        "Notice that for our data, if `Pet_is_Bird` = 0 and `Pet_is_Cat` = 0, we know that the pet has to be a dog. So the `Pet_is_Dog` column contains redundant information. When this happens, we say that our data contains a _multicollinearity_ problem.\n",
        "\n",
        "To avoid this, we can tell `get_dummies()` that we want to get rid of one of the columns using the `drop_first` parameter:\n",
        "\n",
        "    myEncodedData = pd.get_dummies(myData, columns=['Pet'], drop_first=True)\n",
        "\n",
        "The main disadvantage to One-Hot encoding is that if the feature you're encoding has a lot of different values, it can result in a lot of extra features. This can sometimes lead to poor performance with some types of algorithms."
      ]
    },
    {
      "cell_type": "code",
      "execution_count": null,
      "metadata": {
        "id": "nMPtTt5i5S-Y",
        "vscode": {
          "languageId": "python"
        }
      },
      "outputs": [],
      "source": [
        "# Use the pandas get_dummies() method to one-hot encode the Embarked column.\n"
      ]
    },
    {
      "cell_type": "markdown",
      "metadata": {
        "id": "7EA2lAfbYRAc"
      },
      "source": [
        "## Part 6: Conclusions\n",
        "\n",
        "Based on your analysis, what interesting relationships did you find? Write three interesting facts the museum can use in their exhibit."
      ]
    },
    {
      "cell_type": "markdown",
      "metadata": {
        "id": "bcbAxaM_Ik6p"
      },
      "source": []
    },
    {
      "cell_type": "markdown",
      "metadata": {
        "id": "3tOuwFOZYvVP"
      },
      "source": [
        "## 🌟 Above and Beyond 🌟\n",
        "\n",
        "1. There appears to be a lot of different variations of similar titles. (such as abbreviations for Miss and Mademoiselle). \n",
        "\n",
        "   Scan through the different titles to see which titles can be consolidated, then use what you know about data manipulation to simplify the distribution.\n",
        "\n",
        "   Once you've finished, check the visualizations again to see if that made any difference.\n",
        "\n",
        "2. The museum curator has room for a couple of nice visualizations for the exhibit. Create additional visualizations that are suitable for public display.\n"
      ]
    }
  ],
  "metadata": {
    "colab": {
      "collapsed_sections": [],
      "name": "Exploration-03.ipynb",
      "provenance": [],
      "toc_visible": true
    },
    "kernelspec": {
      "display_name": "Python 3",
      "name": "python3"
    }
  },
  "nbformat": 4,
  "nbformat_minor": 0
}
