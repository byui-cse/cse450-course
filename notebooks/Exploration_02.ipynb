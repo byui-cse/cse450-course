{
  "nbformat": 4,
  "nbformat_minor": 0,
  "metadata": {
    "colab": {
      "name": "Exploration-02.ipynb",
      "provenance": [],
      "collapsed_sections": []
    },
    "kernelspec": {
      "name": "python3",
      "display_name": "Python 3"
    }
  },
  "cells": [
    {
      "cell_type": "markdown",
      "metadata": {
        "id": "LB9TN5GKEyhw",
        "colab_type": "text"
      },
      "source": [
        "# Data Exploration 02\n",
        "\n",
        "You're working as a data analyst at a cereal marketing company in New York. \n",
        "\n",
        "In a strategy meeting, the marketing director tells you that in 2018, the US weight loss industry was worth over $72 Billion dollars, growing 4% compared to the previous year.\n",
        "\n",
        "In contrast, sales of cold cereal fell 6% to $8.5 billion during the same time period.\n",
        "\n",
        "Cereal executives have approached the marketing company asking how they can somehow tap into the weight loss market growth to boost the sales of their cereal brands.\n",
        "\n",
        "Your assignment is to analyze a dataset of nutritional information for major US cereals, and calculate some metrics that can be used by the marketing team."
      ]
    },
    {
      "cell_type": "markdown",
      "metadata": {
        "id": "agqlq8RKFbry",
        "colab_type": "text"
      },
      "source": [
        "## Part 1: Import Pandas and load the data\n",
        "\n",
        "Remember to import Pandas the conventional way. If you've forgotten how, you may want to review [Data Exploration 01](https://byui-cse.github.io/cse450-course/module-01/exploration-01.html).\n",
        "\n",
        "The dataset for this exploration is stored at the following url:\n",
        "\n",
        "[https://raw.githubusercontent.com/byui-cse/cse450-course/master/data/cereal.csv](https://raw.githubusercontent.com/byui-cse/cse450-course/master/data/cereal.csv)\n",
        "\n",
        "There are lots of ways to load data into your workspace. The easiest way in this case is to [ask Pandas to do it for you](https://pandas.pydata.org/docs/getting_started/intro_tutorials/02_read_write.html).\n",
        "\n",
        "### Initial Data Analysis\n",
        "Once you've loaded the data, it's a good idea to poke around a little bit to find out what you're dealing with.\n",
        "\n",
        "Some questions you might ask include:\n",
        "\n",
        "* What does the data look like?\n",
        "* What kind of data is in each column? \n",
        "* Do any of the columns have missing values? "
      ]
    },
    {
      "cell_type": "code",
      "metadata": {
        "id": "14b9y6LKEvEm",
        "colab_type": "code",
        "colab": {}
      },
      "source": [
        "# Part 1: Enter your code below to import Pandas according to the \n",
        "# conventional method. Then load the dataset into a Pandas dataframe.\n",
        "\n",
        "\n",
        "# Write any code needed to explore the data by seeing what the first few \n",
        "# rows look like. Then display a technical summary of the data to determine\n",
        "# the data types of each column, and which columns have missing data.\n"
      ],
      "execution_count": null,
      "outputs": []
    },
    {
      "cell_type": "markdown",
      "metadata": {
        "id": "q-O80D5JH9yA",
        "colab_type": "text"
      },
      "source": [
        "## Part 2: Calculate Summary Statistics\n",
        "\n",
        "The marketing team has determined that when choosing a cereal, consumers are most interested in `calories`, `sugar`, `fiber`, `fat`, and `protein`.\n",
        "\n",
        "First, let's calcuate some summary statistics for these categories across the entire dataset. We're particularly intrested in the mean, median, standard deviation, min, and max values. \n",
        "\n",
        "There are [multiple ways to accomplish this](https://pandas.pydata.org/docs/getting_started/intro_tutorials/06_calculate_statistics.html)."
      ]
    },
    {
      "cell_type": "code",
      "metadata": {
        "id": "AMKxXySGJVnC",
        "colab_type": "code",
        "colab": {}
      },
      "source": [
        "# Part 2: Enter your code below to calculate summary statistics for the \n",
        "# calories, sugar, fiber, fat, and protein columns.\n",
        "\n"
      ],
      "execution_count": null,
      "outputs": []
    },
    {
      "cell_type": "markdown",
      "metadata": {
        "id": "CqdAa4EfJ9T0",
        "colab_type": "text"
      },
      "source": [
        "## Part 3: Transform Data\n",
        "\n",
        "To make analysis easier, you want to convert the manufacturer codes used in the dataset to the manufacturer names. \n",
        "\n",
        "First, display the count of each manufacturer code value used in the dataset (found in the `mfr` column). \n",
        "\n",
        "Then, [create a new column with the appropriate manufacturer name for each entry](https://pandas.pydata.org/docs/getting_started/intro_tutorials/10_text_data.html), using this mapping:\n",
        "\n",
        "    A = American Home Food Products\n",
        "    G = General Mills\n",
        "    K = Kelloggs\n",
        "    N = Nabisco\n",
        "    P = Post\n",
        "    Q = Quaker Oats\n",
        "    R = Ralston Purina\n",
        "\n",
        "> Note: While the tutorial linked above uses the [`replace`](https://pandas.pydata.org/pandas-docs/stable/reference/api/pandas.Series.replace.html) function, using the [`map`](https://pandas.pydata.org/pandas-docs/stable/reference/api/pandas.Series.map.html) function instead can often be much faster and more memory efficient, especially for large datasets."
      ]
    },
    {
      "cell_type": "code",
      "metadata": {
        "id": "i8wdC-qpPjqF",
        "colab_type": "code",
        "colab": {}
      },
      "source": [
        "# Display the count of values for the manufacturer code (\"mfr\" column), then \n",
        "# create a new column containing the appropriate manufacturer names.\n",
        "\n"
      ],
      "execution_count": null,
      "outputs": []
    },
    {
      "cell_type": "markdown",
      "metadata": {
        "id": "cl30h29pWp26",
        "colab_type": "text"
      },
      "source": [
        "## Part 4: Visualization \n",
        "\n",
        "Let's do some more data exploration visually.\n",
        "\n",
        "First, as you did in [Data Exploration 01](https://byui-cse.github.io/cse450-course/module-01/exploration-01.html), import the Seaborn library the conventional way, and optionally set some [default chart aesthetics](https://seaborn.pydata.org/tutorial/aesthetics.html)."
      ]
    },
    {
      "cell_type": "code",
      "metadata": {
        "id": "6UZKj1yMXTYg",
        "colab_type": "code",
        "colab": {}
      },
      "source": [
        "# Import the seaborn library the conventional way. Then optionally configure\n",
        "# the default chart style.\n"
      ],
      "execution_count": null,
      "outputs": []
    },
    {
      "cell_type": "markdown",
      "metadata": {
        "id": "AWlh7ipsXaYM",
        "colab_type": "text"
      },
      "source": [
        "### Sugar Distribution\n",
        "\n",
        "Marketing tells us that their surveys have revealed that sugar content is the number one concern of consumers when choosing cereal.\n",
        "\n",
        "They would like to see the following visualizations:\n",
        "\n",
        "*  A [distribution plot](https://seaborn.pydata.org/tutorial/distributions.html#plotting-univariate-distributions) of the sugar content in all cereals.\n",
        "\n",
        "* A [scatter plot](https://seaborn.pydata.org/tutorial/categorical.html#categorical-scatterplots) showing the distribution of sugar content by manufactuerer.\n",
        "\n",
        "* A [box plot](https://seaborn.pydata.org/tutorial/categorical.html#boxplots) showing the distribution of sugar content by manufacturer."
      ]
    },
    {
      "cell_type": "code",
      "metadata": {
        "id": "-T6xRLvAYJIf",
        "colab_type": "code",
        "colab": {}
      },
      "source": [
        "# Use seaborn to create the three visualzations requested by the the marketing team\n"
      ],
      "execution_count": null,
      "outputs": []
    },
    {
      "cell_type": "markdown",
      "metadata": {
        "id": "7EA2lAfbYRAc",
        "colab_type": "text"
      },
      "source": [
        "# Part 5: Dietary Calculations\n",
        "\n",
        "The marketing team has been able to arrange a partnership between the popular Weight Watchers diet brand and Kelloggs cereal.\n",
        "\n",
        "The [Weight Watchers system](https://www.weightwatchers.com/us/how-it-works/smartpoints) assigns a point value to each food, and participants in the program are allotted a certain number of points each day.\n",
        "\n",
        "One [recent formula](http://www.exercise4weightloss.com/smart-points-calculator.html) for calculating points is:\n",
        "\n",
        "    (Calories * .0305) + (Fat * .275) + (Sugar * .12) - (Protein * .098)\n",
        "\n",
        "First, [select a subset of the data](https://pandas.pydata.org/docs/getting_started/intro_tutorials/03_subset_data.html#how-do-i-filter-specific-rows-from-a-dataframe) containing just cereals manufactured by Kellogs.\n",
        "\n",
        "Then, [add a new column](https://pandas.pydata.org/docs/getting_started/intro_tutorials/05_add_columns.html) with the Weight Watchers point calculation derived from the data for each of that manufacturer's cereal brands.\n",
        "\n",
        "Finally, calculate the same summary statistics for the points calculations as earlier (mean, median, standard deviation, min, and max)."
      ]
    },
    {
      "cell_type": "code",
      "metadata": {
        "id": "MOxV7Fy232GM",
        "colab_type": "code",
        "colab": {}
      },
      "source": [
        "# First, filter the dataset to include on cereals manufactured by Kellogs\n",
        "\n",
        "# Then, add a new column containing the Weight Watchers point calculations\n",
        "\n",
        "# Finally, calculate summary statistics for the new column\n"
      ],
      "execution_count": null,
      "outputs": []
    },
    {
      "cell_type": "markdown",
      "metadata": {
        "id": "3tOuwFOZYvVP",
        "colab_type": "text"
      },
      "source": [
        "## 🌟 Above and Beyond 🌟\n",
        "\n",
        "The marketing team is pleased with what you've accomplished so far. They have a meeting with top cereal executives in the morning, and they'd like you to do as many of the following additional tasks as you have time for:\n",
        "\n",
        "1. Weight Watchers used to have an older points system that used this formula: `(calories / 50) + (fat / 12) - (fiber / 5)`, but only the first 4 grams of fiber were included in the calculation. For comparison's sake, create an additional column with the calculation for the old points system.\n",
        "\n",
        "2. Marketing really likes the boxplot of the sugar content for each cereal, but they'd like it if you could create another version of the plot [with the outliers labeled](https://stackoverflow.com/questions/61734304/label-outliers-in-a-boxplot-python)."
      ]
    }
  ]
}