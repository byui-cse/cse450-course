{
  "nbformat": 4,
  "nbformat_minor": 0,
  "metadata": {
    "colab": {
      "name": "Exploration-05.ipynb",
      "provenance": [],
      "authorship_tag": "ABX9TyONSuXB/yjHAEWWxRRCJ2ak"
    },
    "kernelspec": {
      "name": "python3",
      "display_name": "Python 3"
    }
  },
  "cells": [
    {
      "cell_type": "markdown",
      "metadata": {
        "id": "ferRqThzfTTg",
        "colab_type": "text"
      },
      "source": [
        "# Covid 19 Probabilities\n",
        "\n",
        "The data analyst firm you work for has been contracted by a local Health Authority to conduct a risk assessment of Covid-19.\n",
        "\n",
        "Your research supervisor has asked you to use the latest CDC case data to preform a Bayesian analysis to calculate the probability of death from Covid-19 among certain demographics."
      ]
    },
    {
      "cell_type": "markdown",
      "metadata": {
        "id": "7T2v_mBtgmOZ",
        "colab_type": "text"
      },
      "source": [
        "# Part 1 - Download data\n",
        "In order to import the data from the CDC, you'll first need to install a python library to give you access to the Socrata API used by the CDC:\n",
        "\n",
        "    !pip install sodapy\n",
        "\n",
        "After that, you'll need to import the latest Covid-19 case data. For an example of how to do so, visit the [Socrata CDC API Site for the Covid-19 case data](https://dev.socrata.com/foundry/data.cdc.gov/vbim-akqf/), scroll down to the section labeled `Code Snippets`, and click on the `Python Pandas` tab.\n",
        "\n",
        "*Some things to note:*\n",
        "\n",
        "* Since this is public data, you do not need to use an authentication token. \n",
        "\n",
        "* Instead of fetching 2,000 records as in the example, set your limit to 3,000,000 records. This will retrieve approximately 3/4 of the data.\n",
        "\n",
        "* You can name your variables whatever you want. For example, when converting the data into a dataframe, you could do:\n",
        "\n",
        "\n",
        "    cases = pd.DataFrame.from_records(results)\n",
        "\n",
        "* With that many records, it will take a bit of time to download. Be careful to put the download command in a separate code cell from the rest of your analysis work, so that Colab doesn't rerun the download command everytime you make a change to your analysis."
      ]
    },
    {
      "cell_type": "code",
      "metadata": {
        "id": "iucCTDLijjZl",
        "colab_type": "code",
        "colab": {}
      },
      "source": [
        "# Install sodapy and import libraries\n"
      ],
      "execution_count": 1,
      "outputs": []
    },
    {
      "cell_type": "markdown",
      "metadata": {
        "id": "OGOGWKLUj_QH",
        "colab_type": "text"
      },
      "source": [
        "### Initial data analysis\n",
        "Once you have imported the data, perform a brief analysis to become familiar with the data.\n"
      ]
    },
    {
      "cell_type": "code",
      "metadata": {
        "id": "OKy4tDgdj7y8",
        "colab_type": "code",
        "colab": {}
      },
      "source": [
        "# Initial data analysis\n"
      ],
      "execution_count": 2,
      "outputs": []
    },
    {
      "cell_type": "markdown",
      "metadata": {
        "id": "4nx7Hdmxkntb",
        "colab_type": "text"
      },
      "source": [
        "# Part 2 - Age Demographics\n",
        "\n",
        "The research director would like you to start by doing a simple age-based risk assessment. To do so, complete the following tasks:\n",
        "\n",
        "* First, check to see [how many samples there are in each age bracket](https://pandas.pydata.org/pandas-docs/stable/getting_started/intro_tutorials/06_calculate_statistics.html#count-number-of-records-by-category).\n",
        "* Next, [filter out any records](https://pandas.pydata.org/pandas-docs/stable/getting_started/intro_tutorials/03_subset_data.html#how-do-i-filter-specific-rows-from-a-dataframe) that have the values `NA` or `Unknown` for the `age_group` column, and check the counts again.  (You may find this task easier if you use a \"negation\" of the `isin()` function, as [discussed here](https://stackoverflow.com/questions/19960077/how-to-filter-pandas-dataframe-using-in-and-not-in-like-in-sql).\n"
      ]
    },
    {
      "cell_type": "code",
      "metadata": {
        "id": "MKIYffbIq3sM",
        "colab_type": "code",
        "colab": {}
      },
      "source": [
        "# See what the values are\n"
      ],
      "execution_count": 3,
      "outputs": []
    },
    {
      "cell_type": "code",
      "metadata": {
        "id": "I14J0UjykOxJ",
        "colab_type": "code",
        "colab": {}
      },
      "source": [
        "# Filter out rows with missing age group values\n",
        "\n",
        "# Check the updated counts\n"
      ],
      "execution_count": 4,
      "outputs": []
    },
    {
      "cell_type": "markdown",
      "metadata": {
        "id": "hcOF5YM6o3f8",
        "colab_type": "text"
      },
      "source": [
        "### Additional Cleanup\n",
        "The research director tells you that you're going to be primarily working answer questions regarding age (`age_group`), pre-existing medical conditions (`medcond_yn`), and whether or not the patient died (`death_yn`). \n",
        "\n",
        "You've alread filtered out rows that were missing data for the `age_group` column, now check for missing values in the other two columns you'll be working with, then filter the data as needed, and see how many samples that leaves in the data set.\n",
        "\n",
        "* Make sure you start with the filtered dataset, not the original.\n",
        "* Make sure you pay attention to which values represent missing or unknown data for each column and filter accordingly."
      ]
    },
    {
      "cell_type": "code",
      "metadata": {
        "id": "yXfXEh3hoV1E",
        "colab_type": "code",
        "colab": {}
      },
      "source": [
        "# Perform additional filtering\n"
      ],
      "execution_count": 5,
      "outputs": []
    },
    {
      "cell_type": "markdown",
      "metadata": {
        "id": "gwl81MLurby-",
        "colab_type": "text"
      },
      "source": [
        "# Part 3 - Marginal Probabilities\n",
        "\n",
        "Your research director would now like you to calculate the probability that someone in a given age demographic, given that they have Covid-19.\n",
        "\n",
        "Use the [`crosstab()` function](https://pandas.pydata.org/pandas-docs/stable/user_guide/reshaping.html#cross-tabulations) to answer this qustion. You may find [this guide](https://pbpython.com/pandas-crosstab.html) useful.\n",
        "\n",
        "* Be careful how your normalize...we want the probabilties within each age group.\n",
        "\n",
        "\n"
      ]
    },
    {
      "cell_type": "code",
      "metadata": {
        "id": "fsPoKu2crDFv",
        "colab_type": "code",
        "colab": {}
      },
      "source": [
        "# Use the crosstab function to calcuate the probabilties, normalized across columns\n"
      ],
      "execution_count": 6,
      "outputs": []
    },
    {
      "cell_type": "markdown",
      "metadata": {
        "id": "B-T6wtgHufes",
        "colab_type": "text"
      },
      "source": [
        "### Visualize the data\n",
        "\n",
        "Use Pandas' [built in plotting functions](https://pandas.pydata.org/docs/user_guide/visualization.html#bar-plots) to create a stacked bar chart of the crosstab summary.\n",
        "\n",
        "* In order to get a visualization that makes sense, you will first need to [Transpose](https://pandas.pydata.org/pandas-docs/stable/reference/api/pandas.DataFrame.transpose.html) the summary table."
      ]
    },
    {
      "cell_type": "code",
      "metadata": {
        "id": "Fw0bAv_fufKe",
        "colab_type": "code",
        "colab": {}
      },
      "source": [
        "# Transpose and plot the summary table as a stacked bar chart\n"
      ],
      "execution_count": 7,
      "outputs": []
    },
    {
      "cell_type": "markdown",
      "metadata": {
        "id": "Hw9V7yMqtPwA",
        "colab_type": "text"
      },
      "source": [
        "# Part 4 - Bayesian Prediction\n",
        "\n",
        "Your research director would like you to use a Bayesian Classifier to predict the probability of someone with dying from Covid-19 given their age bracket and whether or not they have pre-existing medical conditions.\n",
        "\n",
        "You'll be using [SciKit Learn's Bayesian Classifer](https://scikit-learn.org/stable/modules/generated/sklearn.naive_bayes.GaussianNB.html) for this task.\n",
        "\n",
        "Our use of the Bayseian Classifier in SciKit learn will have four steps. As you'll see later in the semester, some machine learning taks involve additional steps:\n",
        "\n",
        "1. Create an instance of the classifer\n",
        "2. Provide the classifier with the data it will use to build its prediction model. This is sometimes called \"fitting\" or \"training\" the model.\n",
        "3. Ask the model to make a prediction by providing it with new data.\n",
        "4. Interpret the prediction.\n",
        "\n",
        "Parts of these steps will be provided for you in this exercise:"
      ]
    },
    {
      "cell_type": "code",
      "metadata": {
        "id": "wmc7vYm5tLQG",
        "colab_type": "code",
        "colab": {}
      },
      "source": [
        "# Step 1\n",
        "from sklearn.naive_bayes import GaussianNB\n",
        "classifier = GaussianNB()"
      ],
      "execution_count": null,
      "outputs": []
    },
    {
      "cell_type": "markdown",
      "metadata": {
        "id": "VPTiDJ_GxIMD",
        "colab_type": "text"
      },
      "source": [
        "### Train the Classifer\n",
        "Now we need to teach the classifier how to make a prediction based on historic data. In terms of Bayes' Theorem, we are providing the classifier with the data it needs to calculate hte conditional and joint probabilties for a particuar event.\n",
        "\n",
        "One caveat to using most machine learning libraries is that they don't do well with textural feature data. For example, our `age_group` column contains strings indicating the patient's age bracket. The `medcond_yn` column contains strings (\"Yes\" or \"No\") indicating whether the patient had a pre-existing medical condition.\n",
        "\n",
        "Before we can give this data to the classifier, we'll need to \"encode\" it unto numeric form. There are lots of ways to do this, including some built-in ways in SciKit Learn, but for now we'll use the Pandas `map()` function, which we've used before. (If you've forgotten, see the teacher's solution to [Data Exploration 02](https://byui-cse.github.io/cse450-course/module-01/exploration-02.html))\n",
        "\n",
        "Below, the `age_group` column has been encoded into a set of numeric values. You may want to verify using the `value_counts()` function that the counts of the encoded values match up with the originals."
      ]
    },
    {
      "cell_type": "code",
      "metadata": {
        "id": "8M1XLeH6y0-L",
        "colab_type": "code",
        "colab": {}
      },
      "source": [
        "# This code assumes your filtered dataset is stored in a variable called \"filtered\". \n",
        "# If it isn't, you'll need to update the code accordingly.\n",
        "filtered['age_group_encoded'] = filtered['age_group'].map({\n",
        "    '0 - 9 Years' : 0,\n",
        "    '10 - 19 Years' : 1,\n",
        "    '20 - 29 Years' : 2,\n",
        "    '30 - 39 Years' : 3,\n",
        "    '40 - 49 Years' : 4,\n",
        "    '50 - 59 Years' : 5,\n",
        "    '60 - 69 Years' : 6,\n",
        "    '70 - 79 Years' : 7,\n",
        "    '80+ Years': 8})\n",
        "\n",
        "# Compare the below result to filtered['age_group'].value_counts()\n",
        "filtered['age_group_encoded'].value_counts()"
      ],
      "execution_count": null,
      "outputs": []
    },
    {
      "cell_type": "markdown",
      "metadata": {
        "id": "YopnmQj-z7df",
        "colab_type": "text"
      },
      "source": [
        "Create two new columns called `death_yn_encoded` and `medcond_yn_encoded` by encoding the values of the `death_yn` and `medcond_yn` columns. \n",
        "\n",
        "For each column, encode \"Yes\" as `1` and \"No\" as `0`."
      ]
    },
    {
      "cell_type": "code",
      "metadata": {
        "id": "lLgfXMgqzo9J",
        "colab_type": "code",
        "colab": {}
      },
      "source": [
        "# Encode the columns\n"
      ],
      "execution_count": null,
      "outputs": []
    },
    {
      "cell_type": "markdown",
      "metadata": {
        "id": "oJ93umb_0btm",
        "colab_type": "text"
      },
      "source": [
        "Now that you've encoded the textual features, the following code passes the data to the classifier to \"train\" or \"fit\" the model, allowing it to make predictions.\n",
        "\n",
        "* The first parameter to the `fit()` function is called \"X\" and is the set of features we want to use to make our predictions. In our case, that is age group, and pre-existing medical condition status.\n",
        "\n",
        "* The second parameter is called \"Y\" and is the target feature we're trying to predict. In our case, that is whether or not the patient died.\n",
        "\n",
        "Nearly all SciKit Learn algorithms follow this pattern."
      ]
    },
    {
      "cell_type": "code",
      "metadata": {
        "id": "YLZc-h1jzsXF",
        "colab_type": "code",
        "colab": {}
      },
      "source": [
        "# Fit the data to the model\n",
        "# Again, this code assumes your filtered data is stored in a variable called\n",
        "# filtered. If not, update this code accordingly\n",
        "classifier.fit( filtered[ ['age_group_encoded', 'medcond_yn_encoded'] ], filtered['death_yn_encoded'])"
      ],
      "execution_count": null,
      "outputs": []
    },
    {
      "cell_type": "markdown",
      "metadata": {
        "id": "5Oh1fAAA1RkN",
        "colab_type": "text"
      },
      "source": [
        "### Make Predictions\n",
        "Now that the model is trained, it's time to use it to make predictions. To do so, we can either use:\n",
        "\n",
        "* The [`predict()`](https://scikit-learn.org/stable/modules/generated/sklearn.naive_bayes.GaussianNB.html#sklearn.naive_bayes.GaussianNB.predict) function, which in this case would tell us which event is most likely to occur.\n",
        "* The [`predict_proba()`](https://scikit-learn.org/stable/modules/generated/sklearn.naive_bayes.GaussianNB.html#sklearn.naive_bayes.GaussianNB.predict_proba) function, which tells us the probability that each event would occur.\n",
        "\n",
        "Since our research director wants to know the probabilities, we'll use the second option.\n",
        "\n",
        "For each prediction we want to make, we would pass the classifier an array of data containing an array of *encoded* values for the features it knows about.\n",
        "\n",
        "For example, for the first question (a 25 year-old with no pre-existing medical conditions):\n",
        "\n",
        "    # 20 - 29 year olds = 2\n",
        "    # No pre-existing medial condition = 0\n",
        "    classifier.predict_proba( [ [2, 0] ] )\n",
        "\n",
        "    # Result [ Probability of 0 (No), Probability of 1 (Yes)]\n",
        "    array([[1.00000000e+00, 9.58683956e-11]])\n",
        "\n",
        "By default, the classifier returns a numpy array using scientific notation to represent very small numbers. We can use [NumPy's set_printoptions function](https://numpy.org/doc/stable/reference/generated/numpy.set_printoptions.html) to change that, as shown in the code below.\n",
        "\n"
      ]
    },
    {
      "cell_type": "code",
      "metadata": {
        "id": "zDbMzVY81FMe",
        "colab_type": "code",
        "colab": {}
      },
      "source": [
        "import numpy as np\n",
        "# How many decimal places\n",
        "np.set_printoptions(precision=8)\n",
        "# Don't use scientitic notation\n",
        "np.set_printoptions(suppress=True)\n",
        "\n",
        "classifier.predict_proba( [ [2, 0] ] )"
      ],
      "execution_count": null,
      "outputs": []
    },
    {
      "cell_type": "markdown",
      "metadata": {
        "id": "A_l047My3cmC",
        "colab_type": "text"
      },
      "source": [
        "For each of the following situations, use the classifier's `predict_proba()` function to predict the probability that a patient will die from Covid-19.\n",
        "\n",
        "* A 25 year-old with no pre-existing medical conditions.\n",
        "* A 25 year-old with pre-existing medical conditions.\n",
        "* A 55 year-old with no pre-existing medical conditions.\n",
        "* A 55 year-old with pre-existing medical conditions.\n",
        "* An 80 year-old with no pre-existing medical conditions.\n",
        "* An 80 year-old with pre-existing medical conditions.\n",
        "\n",
        "Note that you can make these predictions one at a time, or all at once by passing multiple sets of data to the classifier. The results will be returned in the same order as the sample data provided:\n",
        "\n",
        "    # Predict the probabilities for a 20 - 29 year old with and without pre-existing\n",
        "    # medical conditions, and a 50 - 59 year old with pre-existing medical \n",
        "    # conditions.\n",
        "    classifier.predict_proba( [ [2, 0], [2, 1], [5, 1] ] )\n",
        "\n",
        "    # Results\n",
        "    array([[1.        , 0.        ],\n",
        "       [0.99923393, 0.00076607],\n",
        "       [0.75363889, 0.24636111]])"
      ]
    },
    {
      "cell_type": "code",
      "metadata": {
        "id": "9qCeuZEg2ot7",
        "colab_type": "code",
        "colab": {}
      },
      "source": [
        "# Make the requested predictions\n"
      ],
      "execution_count": null,
      "outputs": []
    },
    {
      "cell_type": "markdown",
      "metadata": {
        "id": "pZzZXBPM4Mkl",
        "colab_type": "text"
      },
      "source": [
        "# Part 5: Conclusions\n",
        "\n",
        "Based on your results, what conclusions would your provide to your research manager to pass along to the health authority? What caveats about the analysis would you include?"
      ]
    },
    {
      "cell_type": "markdown",
      "metadata": {
        "id": "TvQDfdyyBM6N",
        "colab_type": "text"
      },
      "source": [
        ""
      ]
    },
    {
      "cell_type": "markdown",
      "metadata": {
        "id": "YXdttP20-MuX",
        "colab_type": "text"
      },
      "source": [
        "## 🌟 Above and Beyond 🌟\n",
        "\n",
        "The research director would like you to answer the following questions:\n",
        "\n",
        "* How does gender affect the probability of death from Covid-19?\n",
        "* If we look at likelihood of being admitted to the ICU instead of the likelihood of death, what are the probabilties across different age groups and medical statuses?\n",
        "* How do the probabilities you calculated compare to the probabilties you would get if you looked only at the last three months worth of cases? You may need to review the Pandas tutorial on [How to Handle Timeseries Data](https://pandas.pydata.org/pandas-docs/stable/getting_started/intro_tutorials/09_timeseries.html).\n",
        "* SciKit Learn has [several different Bayesian classifiers](https://scikit-learn.org/stable/modules/naive_bayes.html). Would a different classifier produce better results? How could you test that hypothesis?"
      ]
    }
  ]
}