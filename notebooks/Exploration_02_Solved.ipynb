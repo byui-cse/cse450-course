{
  "nbformat": 4,
  "nbformat_minor": 0,
  "metadata": {
    "colab": {
      "name": "Exploration-02-Solved.ipynb",
      "provenance": [],
      "collapsed_sections": []
    },
    "kernelspec": {
      "name": "python3",
      "display_name": "Python 3"
    }
  },
  "cells": [
    {
      "cell_type": "markdown",
      "metadata": {
        "id": "LB9TN5GKEyhw",
        "colab_type": "text"
      },
      "source": [
        "# Data Exploration 02\n",
        "\n",
        "You're working as a data analyst at a cereal marketing company in New York. \n",
        "\n",
        "In a strategy meeting, the marketing director tells you that in 2018, the US weight loss industry was worth over $72 Billion dollars, growing 4% compared to the previous year.\n",
        "\n",
        "In contrast, sales of cold cereal fell 6% to $8.5 billion during the same time period.\n",
        "\n",
        "Cereal executives have approached the marketing company asking how they can somehow tap into the weight loss market growth to boost the sales of their cereal brands.\n",
        "\n",
        "Your assignment is to analyze a dataset of nutritional information for major US cereals, and calculate some metrics that can be used by the marketing team."
      ]
    },
    {
      "cell_type": "markdown",
      "metadata": {
        "id": "agqlq8RKFbry",
        "colab_type": "text"
      },
      "source": [
        "## Part 1: Import Pandas and load the data\n",
        "\n",
        "Remember to import Pandas the conventional way. If you've forgotten how, you may want to review [Data Exploration 01](https://byui-cse.github.io/cse450-course/module-01/exploration-01.html).\n",
        "\n",
        "The dataset for this exploration is stored at the following url:\n",
        "\n",
        "`https://raw.githubusercontent.com/byui-cse/cse450-course/master/data/cereal.csv`\n",
        "\n",
        "There are lots of ways to load data into your workspace. The easiest way in this case is to [ask Pandas to do it for you](https://pandas.pydata.org/docs/getting_started/intro_tutorials/02_read_write.html).\n",
        "\n",
        "### Initial Data Analysis\n",
        "Once you've loaded the data, it's a good idea to poke around a little bit to find out what you're dealing with.\n",
        "\n",
        "Some questions you might ask include:\n",
        "\n",
        "* What does the data look like?\n",
        "* What kind of data is in each column? \n",
        "* Do any of the columns have missing values? "
      ]
    },
    {
      "cell_type": "code",
      "metadata": {
        "id": "14b9y6LKEvEm",
        "colab_type": "code",
        "colab": {
          "base_uri": "https://localhost:8080/",
          "height": 595
        },
        "outputId": "188c6685-6280-4e56-edea-a81e58873492"
      },
      "source": [
        "# Part 1: Enter your code below to import Pandas according to the \n",
        "# conventional method. Then load the dataset into a Pandas dataframe.\n",
        "import pandas as pd\n",
        "cereal = pd.read_csv('https://raw.githubusercontent.com/byui-cse/cse450-course/master/data/cereal.csv')\n",
        "\n",
        "# Write any code needed to explore the data by seeing what the first few \n",
        "# rows look like. Then display a technical summary of the data to determine\n",
        "# the data types of each column, and which columns have missing data.\n",
        "cereal.info()\n",
        "cereal.head()"
      ],
      "execution_count": 1,
      "outputs": [
        {
          "output_type": "stream",
          "text": [
            "<class 'pandas.core.frame.DataFrame'>\n",
            "RangeIndex: 77 entries, 0 to 76\n",
            "Data columns (total 16 columns):\n",
            " #   Column    Non-Null Count  Dtype  \n",
            "---  ------    --------------  -----  \n",
            " 0   name      77 non-null     object \n",
            " 1   mfr       77 non-null     object \n",
            " 2   type      77 non-null     object \n",
            " 3   calories  77 non-null     int64  \n",
            " 4   protein   77 non-null     int64  \n",
            " 5   fat       77 non-null     int64  \n",
            " 6   sodium    77 non-null     int64  \n",
            " 7   fiber     77 non-null     float64\n",
            " 8   carbo     77 non-null     float64\n",
            " 9   sugars    77 non-null     int64  \n",
            " 10  potass    77 non-null     int64  \n",
            " 11  vitamins  77 non-null     int64  \n",
            " 12  shelf     77 non-null     int64  \n",
            " 13  weight    77 non-null     float64\n",
            " 14  cups      77 non-null     float64\n",
            " 15  rating    77 non-null     float64\n",
            "dtypes: float64(5), int64(8), object(3)\n",
            "memory usage: 9.8+ KB\n"
          ],
          "name": "stdout"
        },
        {
          "output_type": "execute_result",
          "data": {
            "text/html": [
              "<div>\n",
              "<style scoped>\n",
              "    .dataframe tbody tr th:only-of-type {\n",
              "        vertical-align: middle;\n",
              "    }\n",
              "\n",
              "    .dataframe tbody tr th {\n",
              "        vertical-align: top;\n",
              "    }\n",
              "\n",
              "    .dataframe thead th {\n",
              "        text-align: right;\n",
              "    }\n",
              "</style>\n",
              "<table border=\"1\" class=\"dataframe\">\n",
              "  <thead>\n",
              "    <tr style=\"text-align: right;\">\n",
              "      <th></th>\n",
              "      <th>name</th>\n",
              "      <th>mfr</th>\n",
              "      <th>type</th>\n",
              "      <th>calories</th>\n",
              "      <th>protein</th>\n",
              "      <th>fat</th>\n",
              "      <th>sodium</th>\n",
              "      <th>fiber</th>\n",
              "      <th>carbo</th>\n",
              "      <th>sugars</th>\n",
              "      <th>potass</th>\n",
              "      <th>vitamins</th>\n",
              "      <th>shelf</th>\n",
              "      <th>weight</th>\n",
              "      <th>cups</th>\n",
              "      <th>rating</th>\n",
              "    </tr>\n",
              "  </thead>\n",
              "  <tbody>\n",
              "    <tr>\n",
              "      <th>0</th>\n",
              "      <td>100% Bran</td>\n",
              "      <td>N</td>\n",
              "      <td>C</td>\n",
              "      <td>70</td>\n",
              "      <td>4</td>\n",
              "      <td>1</td>\n",
              "      <td>130</td>\n",
              "      <td>10.0</td>\n",
              "      <td>5.0</td>\n",
              "      <td>6</td>\n",
              "      <td>280</td>\n",
              "      <td>25</td>\n",
              "      <td>3</td>\n",
              "      <td>1.0</td>\n",
              "      <td>0.33</td>\n",
              "      <td>68.402973</td>\n",
              "    </tr>\n",
              "    <tr>\n",
              "      <th>1</th>\n",
              "      <td>100% Natural Bran</td>\n",
              "      <td>Q</td>\n",
              "      <td>C</td>\n",
              "      <td>120</td>\n",
              "      <td>3</td>\n",
              "      <td>5</td>\n",
              "      <td>15</td>\n",
              "      <td>2.0</td>\n",
              "      <td>8.0</td>\n",
              "      <td>8</td>\n",
              "      <td>135</td>\n",
              "      <td>0</td>\n",
              "      <td>3</td>\n",
              "      <td>1.0</td>\n",
              "      <td>1.00</td>\n",
              "      <td>33.983679</td>\n",
              "    </tr>\n",
              "    <tr>\n",
              "      <th>2</th>\n",
              "      <td>All-Bran</td>\n",
              "      <td>K</td>\n",
              "      <td>C</td>\n",
              "      <td>70</td>\n",
              "      <td>4</td>\n",
              "      <td>1</td>\n",
              "      <td>260</td>\n",
              "      <td>9.0</td>\n",
              "      <td>7.0</td>\n",
              "      <td>5</td>\n",
              "      <td>320</td>\n",
              "      <td>25</td>\n",
              "      <td>3</td>\n",
              "      <td>1.0</td>\n",
              "      <td>0.33</td>\n",
              "      <td>59.425505</td>\n",
              "    </tr>\n",
              "    <tr>\n",
              "      <th>3</th>\n",
              "      <td>All-Bran with Extra Fiber</td>\n",
              "      <td>K</td>\n",
              "      <td>C</td>\n",
              "      <td>50</td>\n",
              "      <td>4</td>\n",
              "      <td>0</td>\n",
              "      <td>140</td>\n",
              "      <td>14.0</td>\n",
              "      <td>8.0</td>\n",
              "      <td>0</td>\n",
              "      <td>330</td>\n",
              "      <td>25</td>\n",
              "      <td>3</td>\n",
              "      <td>1.0</td>\n",
              "      <td>0.50</td>\n",
              "      <td>93.704912</td>\n",
              "    </tr>\n",
              "    <tr>\n",
              "      <th>4</th>\n",
              "      <td>Almond Delight</td>\n",
              "      <td>R</td>\n",
              "      <td>C</td>\n",
              "      <td>110</td>\n",
              "      <td>2</td>\n",
              "      <td>2</td>\n",
              "      <td>200</td>\n",
              "      <td>1.0</td>\n",
              "      <td>14.0</td>\n",
              "      <td>8</td>\n",
              "      <td>-1</td>\n",
              "      <td>25</td>\n",
              "      <td>3</td>\n",
              "      <td>1.0</td>\n",
              "      <td>0.75</td>\n",
              "      <td>34.384843</td>\n",
              "    </tr>\n",
              "  </tbody>\n",
              "</table>\n",
              "</div>"
            ],
            "text/plain": [
              "                        name mfr type  calories  ...  shelf  weight  cups     rating\n",
              "0                  100% Bran   N    C        70  ...      3     1.0  0.33  68.402973\n",
              "1          100% Natural Bran   Q    C       120  ...      3     1.0  1.00  33.983679\n",
              "2                   All-Bran   K    C        70  ...      3     1.0  0.33  59.425505\n",
              "3  All-Bran with Extra Fiber   K    C        50  ...      3     1.0  0.50  93.704912\n",
              "4             Almond Delight   R    C       110  ...      3     1.0  0.75  34.384843\n",
              "\n",
              "[5 rows x 16 columns]"
            ]
          },
          "metadata": {
            "tags": []
          },
          "execution_count": 1
        }
      ]
    },
    {
      "cell_type": "markdown",
      "metadata": {
        "id": "q-O80D5JH9yA",
        "colab_type": "text"
      },
      "source": [
        "## Part 2: Calculate Summary Statistics\n",
        "\n",
        "The marketing team has determined that when choosing a cereal, consumers are most interested in `calories`, `sugar`, `fiber`, `fat`, and `protein`.\n",
        "\n",
        "First, let's calcuate some summary statistics for these categories across the entire dataset. We're particularly intrested in the mean, median, standard deviation, min, and max values. \n",
        "\n",
        "There are [multiple ways to accomplish this](https://pandas.pydata.org/docs/getting_started/intro_tutorials/06_calculate_statistics.html)."
      ]
    },
    {
      "cell_type": "code",
      "metadata": {
        "id": "AMKxXySGJVnC",
        "colab_type": "code",
        "colab": {
          "base_uri": "https://localhost:8080/",
          "height": 297
        },
        "outputId": "8f73237f-0853-4b08-d9bb-ef639dcdfa10"
      },
      "source": [
        "# Part 2: Enter your code below to calculate summary statistics for the \n",
        "# calories, sugar, fiber, fat, and protein columns.\n",
        "\n",
        "# The describe() function gives us almost everything we need (and more), but \n",
        "# doesn't include the median\n",
        "cereal[ ['calories', 'sugars', 'fiber', 'fat', 'protein'] ].describe()"
      ],
      "execution_count": 2,
      "outputs": [
        {
          "output_type": "execute_result",
          "data": {
            "text/html": [
              "<div>\n",
              "<style scoped>\n",
              "    .dataframe tbody tr th:only-of-type {\n",
              "        vertical-align: middle;\n",
              "    }\n",
              "\n",
              "    .dataframe tbody tr th {\n",
              "        vertical-align: top;\n",
              "    }\n",
              "\n",
              "    .dataframe thead th {\n",
              "        text-align: right;\n",
              "    }\n",
              "</style>\n",
              "<table border=\"1\" class=\"dataframe\">\n",
              "  <thead>\n",
              "    <tr style=\"text-align: right;\">\n",
              "      <th></th>\n",
              "      <th>calories</th>\n",
              "      <th>sugars</th>\n",
              "      <th>fiber</th>\n",
              "      <th>fat</th>\n",
              "      <th>protein</th>\n",
              "    </tr>\n",
              "  </thead>\n",
              "  <tbody>\n",
              "    <tr>\n",
              "      <th>count</th>\n",
              "      <td>77.000000</td>\n",
              "      <td>77.000000</td>\n",
              "      <td>77.000000</td>\n",
              "      <td>77.000000</td>\n",
              "      <td>77.000000</td>\n",
              "    </tr>\n",
              "    <tr>\n",
              "      <th>mean</th>\n",
              "      <td>106.883117</td>\n",
              "      <td>6.922078</td>\n",
              "      <td>2.151948</td>\n",
              "      <td>1.012987</td>\n",
              "      <td>2.545455</td>\n",
              "    </tr>\n",
              "    <tr>\n",
              "      <th>std</th>\n",
              "      <td>19.484119</td>\n",
              "      <td>4.444885</td>\n",
              "      <td>2.383364</td>\n",
              "      <td>1.006473</td>\n",
              "      <td>1.094790</td>\n",
              "    </tr>\n",
              "    <tr>\n",
              "      <th>min</th>\n",
              "      <td>50.000000</td>\n",
              "      <td>-1.000000</td>\n",
              "      <td>0.000000</td>\n",
              "      <td>0.000000</td>\n",
              "      <td>1.000000</td>\n",
              "    </tr>\n",
              "    <tr>\n",
              "      <th>25%</th>\n",
              "      <td>100.000000</td>\n",
              "      <td>3.000000</td>\n",
              "      <td>1.000000</td>\n",
              "      <td>0.000000</td>\n",
              "      <td>2.000000</td>\n",
              "    </tr>\n",
              "    <tr>\n",
              "      <th>50%</th>\n",
              "      <td>110.000000</td>\n",
              "      <td>7.000000</td>\n",
              "      <td>2.000000</td>\n",
              "      <td>1.000000</td>\n",
              "      <td>3.000000</td>\n",
              "    </tr>\n",
              "    <tr>\n",
              "      <th>75%</th>\n",
              "      <td>110.000000</td>\n",
              "      <td>11.000000</td>\n",
              "      <td>3.000000</td>\n",
              "      <td>2.000000</td>\n",
              "      <td>3.000000</td>\n",
              "    </tr>\n",
              "    <tr>\n",
              "      <th>max</th>\n",
              "      <td>160.000000</td>\n",
              "      <td>15.000000</td>\n",
              "      <td>14.000000</td>\n",
              "      <td>5.000000</td>\n",
              "      <td>6.000000</td>\n",
              "    </tr>\n",
              "  </tbody>\n",
              "</table>\n",
              "</div>"
            ],
            "text/plain": [
              "         calories     sugars      fiber        fat    protein\n",
              "count   77.000000  77.000000  77.000000  77.000000  77.000000\n",
              "mean   106.883117   6.922078   2.151948   1.012987   2.545455\n",
              "std     19.484119   4.444885   2.383364   1.006473   1.094790\n",
              "min     50.000000  -1.000000   0.000000   0.000000   1.000000\n",
              "25%    100.000000   3.000000   1.000000   0.000000   2.000000\n",
              "50%    110.000000   7.000000   2.000000   1.000000   3.000000\n",
              "75%    110.000000  11.000000   3.000000   2.000000   3.000000\n",
              "max    160.000000  15.000000  14.000000   5.000000   6.000000"
            ]
          },
          "metadata": {
            "tags": []
          },
          "execution_count": 2
        }
      ]
    },
    {
      "cell_type": "code",
      "metadata": {
        "id": "ul2E9zkaHcN3",
        "colab_type": "code",
        "colab": {
          "base_uri": "https://localhost:8080/",
          "height": 119
        },
        "outputId": "2474051c-fbb3-4717-ac2b-66a74f67f848"
      },
      "source": [
        "# We can get the median separately this way:\n",
        "cereal[ ['calories', 'sugars', 'fiber', 'fat', 'protein'] ].median()\n"
      ],
      "execution_count": 3,
      "outputs": [
        {
          "output_type": "execute_result",
          "data": {
            "text/plain": [
              "calories    110.0\n",
              "sugars        7.0\n",
              "fiber         2.0\n",
              "fat           1.0\n",
              "protein       3.0\n",
              "dtype: float64"
            ]
          },
          "metadata": {
            "tags": []
          },
          "execution_count": 3
        }
      ]
    },
    {
      "cell_type": "code",
      "metadata": {
        "id": "nFBbwFy6Hdjj",
        "colab_type": "code",
        "colab": {
          "base_uri": "https://localhost:8080/",
          "height": 204
        },
        "outputId": "617121bc-a91a-4223-8382-c0c1b8dcfa7a"
      },
      "source": [
        "# Or we can ask for exactly what we want using the aggregate function:\n",
        "cereal[ ['calories', 'sugars', 'fiber', 'fat', 'protein'] ].agg(['mean', 'median', 'std', 'min', 'max'])"
      ],
      "execution_count": 4,
      "outputs": [
        {
          "output_type": "execute_result",
          "data": {
            "text/html": [
              "<div>\n",
              "<style scoped>\n",
              "    .dataframe tbody tr th:only-of-type {\n",
              "        vertical-align: middle;\n",
              "    }\n",
              "\n",
              "    .dataframe tbody tr th {\n",
              "        vertical-align: top;\n",
              "    }\n",
              "\n",
              "    .dataframe thead th {\n",
              "        text-align: right;\n",
              "    }\n",
              "</style>\n",
              "<table border=\"1\" class=\"dataframe\">\n",
              "  <thead>\n",
              "    <tr style=\"text-align: right;\">\n",
              "      <th></th>\n",
              "      <th>calories</th>\n",
              "      <th>sugars</th>\n",
              "      <th>fiber</th>\n",
              "      <th>fat</th>\n",
              "      <th>protein</th>\n",
              "    </tr>\n",
              "  </thead>\n",
              "  <tbody>\n",
              "    <tr>\n",
              "      <th>mean</th>\n",
              "      <td>106.883117</td>\n",
              "      <td>6.922078</td>\n",
              "      <td>2.151948</td>\n",
              "      <td>1.012987</td>\n",
              "      <td>2.545455</td>\n",
              "    </tr>\n",
              "    <tr>\n",
              "      <th>median</th>\n",
              "      <td>110.000000</td>\n",
              "      <td>7.000000</td>\n",
              "      <td>2.000000</td>\n",
              "      <td>1.000000</td>\n",
              "      <td>3.000000</td>\n",
              "    </tr>\n",
              "    <tr>\n",
              "      <th>std</th>\n",
              "      <td>19.484119</td>\n",
              "      <td>4.444885</td>\n",
              "      <td>2.383364</td>\n",
              "      <td>1.006473</td>\n",
              "      <td>1.094790</td>\n",
              "    </tr>\n",
              "    <tr>\n",
              "      <th>min</th>\n",
              "      <td>50.000000</td>\n",
              "      <td>-1.000000</td>\n",
              "      <td>0.000000</td>\n",
              "      <td>0.000000</td>\n",
              "      <td>1.000000</td>\n",
              "    </tr>\n",
              "    <tr>\n",
              "      <th>max</th>\n",
              "      <td>160.000000</td>\n",
              "      <td>15.000000</td>\n",
              "      <td>14.000000</td>\n",
              "      <td>5.000000</td>\n",
              "      <td>6.000000</td>\n",
              "    </tr>\n",
              "  </tbody>\n",
              "</table>\n",
              "</div>"
            ],
            "text/plain": [
              "          calories     sugars      fiber       fat   protein\n",
              "mean    106.883117   6.922078   2.151948  1.012987  2.545455\n",
              "median  110.000000   7.000000   2.000000  1.000000  3.000000\n",
              "std      19.484119   4.444885   2.383364  1.006473  1.094790\n",
              "min      50.000000  -1.000000   0.000000  0.000000  1.000000\n",
              "max     160.000000  15.000000  14.000000  5.000000  6.000000"
            ]
          },
          "metadata": {
            "tags": []
          },
          "execution_count": 4
        }
      ]
    },
    {
      "cell_type": "markdown",
      "metadata": {
        "id": "CqdAa4EfJ9T0",
        "colab_type": "text"
      },
      "source": [
        "## Part 3: Transform Data\n",
        "\n",
        "To make analysis easier, you want to convert the manufacturer codes used in the dataset to the manufacturer names. \n",
        "\n",
        "First, display the count of each manufacturer code value used in the dataset (found in the `mfr` column). \n",
        "\n",
        "Then, [create a new column with the appropriate manufacturer name for each entry](https://pandas.pydata.org/docs/getting_started/intro_tutorials/10_text_data.html), using this mapping:\n",
        "\n",
        "    A = American Home Food Products\n",
        "    G = General Mills\n",
        "    K = Kelloggs\n",
        "    N = Nabisco\n",
        "    P = Post\n",
        "    Q = Quaker Oats\n",
        "    R = Ralston Purina\n",
        "\n",
        "> Note: While the tutorial linked above uses the [`replace`](https://pandas.pydata.org/pandas-docs/stable/reference/api/pandas.Series.replace.html) function, using the [`map`](https://pandas.pydata.org/pandas-docs/stable/reference/api/pandas.Series.map.html) function instead can often be much faster and more memory efficient, especially for large datasets."
      ]
    },
    {
      "cell_type": "code",
      "metadata": {
        "id": "i8wdC-qpPjqF",
        "colab_type": "code",
        "colab": {
          "base_uri": "https://localhost:8080/",
          "height": 153
        },
        "outputId": "c3a6b941-2e4b-43b8-d661-f4df8ebdfb65"
      },
      "source": [
        "# Display the count of values for the manufacturer code (\"mfr\" column), then \n",
        "# create a new column containing the appropriate manufacturer names.\n",
        "\n",
        "# See which manufacturer codes we have\n",
        "cereal['mfr'].value_counts()"
      ],
      "execution_count": 5,
      "outputs": [
        {
          "output_type": "execute_result",
          "data": {
            "text/plain": [
              "K    23\n",
              "G    22\n",
              "P     9\n",
              "R     8\n",
              "Q     8\n",
              "N     6\n",
              "A     1\n",
              "Name: mfr, dtype: int64"
            ]
          },
          "metadata": {
            "tags": []
          },
          "execution_count": 5
        }
      ]
    },
    {
      "cell_type": "code",
      "metadata": {
        "id": "k0JsIqCt_gME",
        "colab_type": "code",
        "colab": {
          "base_uri": "https://localhost:8080/",
          "height": 669
        },
        "outputId": "2d2ec07d-f8e9-4473-88c1-6f611d17da75"
      },
      "source": [
        "# Now do the mapping (could also use replace() instead of map(), but map is faster)\n",
        "cereal['mfr_name'] = cereal['mfr'].map({\n",
        "    'A' : 'American Home Food Products',\n",
        "    'G' : 'General Mills',\n",
        "    'K' : 'Kelloggs',\n",
        "    'N' : 'Nabisco',\n",
        "    'P' : 'Post',\n",
        "    'Q' : 'Quaker Oats',\n",
        "    'R' : 'Ralston Purina'})\n",
        "\n",
        "# Check a few rows to see if it worked\n",
        "cereal[['name', 'mfr', 'mfr_name']].head(20)"
      ],
      "execution_count": 6,
      "outputs": [
        {
          "output_type": "execute_result",
          "data": {
            "text/html": [
              "<div>\n",
              "<style scoped>\n",
              "    .dataframe tbody tr th:only-of-type {\n",
              "        vertical-align: middle;\n",
              "    }\n",
              "\n",
              "    .dataframe tbody tr th {\n",
              "        vertical-align: top;\n",
              "    }\n",
              "\n",
              "    .dataframe thead th {\n",
              "        text-align: right;\n",
              "    }\n",
              "</style>\n",
              "<table border=\"1\" class=\"dataframe\">\n",
              "  <thead>\n",
              "    <tr style=\"text-align: right;\">\n",
              "      <th></th>\n",
              "      <th>name</th>\n",
              "      <th>mfr</th>\n",
              "      <th>mfr_name</th>\n",
              "    </tr>\n",
              "  </thead>\n",
              "  <tbody>\n",
              "    <tr>\n",
              "      <th>0</th>\n",
              "      <td>100% Bran</td>\n",
              "      <td>N</td>\n",
              "      <td>Nabisco</td>\n",
              "    </tr>\n",
              "    <tr>\n",
              "      <th>1</th>\n",
              "      <td>100% Natural Bran</td>\n",
              "      <td>Q</td>\n",
              "      <td>Quaker Oats</td>\n",
              "    </tr>\n",
              "    <tr>\n",
              "      <th>2</th>\n",
              "      <td>All-Bran</td>\n",
              "      <td>K</td>\n",
              "      <td>Kelloggs</td>\n",
              "    </tr>\n",
              "    <tr>\n",
              "      <th>3</th>\n",
              "      <td>All-Bran with Extra Fiber</td>\n",
              "      <td>K</td>\n",
              "      <td>Kelloggs</td>\n",
              "    </tr>\n",
              "    <tr>\n",
              "      <th>4</th>\n",
              "      <td>Almond Delight</td>\n",
              "      <td>R</td>\n",
              "      <td>Ralston Purina</td>\n",
              "    </tr>\n",
              "    <tr>\n",
              "      <th>5</th>\n",
              "      <td>Apple Cinnamon Cheerios</td>\n",
              "      <td>G</td>\n",
              "      <td>General Mills</td>\n",
              "    </tr>\n",
              "    <tr>\n",
              "      <th>6</th>\n",
              "      <td>Apple Jacks</td>\n",
              "      <td>K</td>\n",
              "      <td>Kelloggs</td>\n",
              "    </tr>\n",
              "    <tr>\n",
              "      <th>7</th>\n",
              "      <td>Basic 4</td>\n",
              "      <td>G</td>\n",
              "      <td>General Mills</td>\n",
              "    </tr>\n",
              "    <tr>\n",
              "      <th>8</th>\n",
              "      <td>Bran Chex</td>\n",
              "      <td>R</td>\n",
              "      <td>Ralston Purina</td>\n",
              "    </tr>\n",
              "    <tr>\n",
              "      <th>9</th>\n",
              "      <td>Bran Flakes</td>\n",
              "      <td>P</td>\n",
              "      <td>Post</td>\n",
              "    </tr>\n",
              "    <tr>\n",
              "      <th>10</th>\n",
              "      <td>Cap'n'Crunch</td>\n",
              "      <td>Q</td>\n",
              "      <td>Quaker Oats</td>\n",
              "    </tr>\n",
              "    <tr>\n",
              "      <th>11</th>\n",
              "      <td>Cheerios</td>\n",
              "      <td>G</td>\n",
              "      <td>General Mills</td>\n",
              "    </tr>\n",
              "    <tr>\n",
              "      <th>12</th>\n",
              "      <td>Cinnamon Toast Crunch</td>\n",
              "      <td>G</td>\n",
              "      <td>General Mills</td>\n",
              "    </tr>\n",
              "    <tr>\n",
              "      <th>13</th>\n",
              "      <td>Clusters</td>\n",
              "      <td>G</td>\n",
              "      <td>General Mills</td>\n",
              "    </tr>\n",
              "    <tr>\n",
              "      <th>14</th>\n",
              "      <td>Cocoa Puffs</td>\n",
              "      <td>G</td>\n",
              "      <td>General Mills</td>\n",
              "    </tr>\n",
              "    <tr>\n",
              "      <th>15</th>\n",
              "      <td>Corn Chex</td>\n",
              "      <td>R</td>\n",
              "      <td>Ralston Purina</td>\n",
              "    </tr>\n",
              "    <tr>\n",
              "      <th>16</th>\n",
              "      <td>Corn Flakes</td>\n",
              "      <td>K</td>\n",
              "      <td>Kelloggs</td>\n",
              "    </tr>\n",
              "    <tr>\n",
              "      <th>17</th>\n",
              "      <td>Corn Pops</td>\n",
              "      <td>K</td>\n",
              "      <td>Kelloggs</td>\n",
              "    </tr>\n",
              "    <tr>\n",
              "      <th>18</th>\n",
              "      <td>Count Chocula</td>\n",
              "      <td>G</td>\n",
              "      <td>General Mills</td>\n",
              "    </tr>\n",
              "    <tr>\n",
              "      <th>19</th>\n",
              "      <td>Cracklin' Oat Bran</td>\n",
              "      <td>K</td>\n",
              "      <td>Kelloggs</td>\n",
              "    </tr>\n",
              "  </tbody>\n",
              "</table>\n",
              "</div>"
            ],
            "text/plain": [
              "                         name mfr        mfr_name\n",
              "0                   100% Bran   N         Nabisco\n",
              "1           100% Natural Bran   Q     Quaker Oats\n",
              "2                    All-Bran   K        Kelloggs\n",
              "3   All-Bran with Extra Fiber   K        Kelloggs\n",
              "4              Almond Delight   R  Ralston Purina\n",
              "5     Apple Cinnamon Cheerios   G   General Mills\n",
              "6                 Apple Jacks   K        Kelloggs\n",
              "7                     Basic 4   G   General Mills\n",
              "8                   Bran Chex   R  Ralston Purina\n",
              "9                 Bran Flakes   P            Post\n",
              "10               Cap'n'Crunch   Q     Quaker Oats\n",
              "11                   Cheerios   G   General Mills\n",
              "12      Cinnamon Toast Crunch   G   General Mills\n",
              "13                   Clusters   G   General Mills\n",
              "14                Cocoa Puffs   G   General Mills\n",
              "15                  Corn Chex   R  Ralston Purina\n",
              "16                Corn Flakes   K        Kelloggs\n",
              "17                  Corn Pops   K        Kelloggs\n",
              "18              Count Chocula   G   General Mills\n",
              "19         Cracklin' Oat Bran   K        Kelloggs"
            ]
          },
          "metadata": {
            "tags": []
          },
          "execution_count": 6
        }
      ]
    },
    {
      "cell_type": "markdown",
      "metadata": {
        "id": "cl30h29pWp26",
        "colab_type": "text"
      },
      "source": [
        "## Part 4: Visualization \n",
        "\n",
        "Let's do some more data exploration visually.\n",
        "\n",
        "First, as you did in [Data Exploration 01](https://byui-cse.github.io/cse450-course/module-01/exploration-01.html), import the Seaborn library the conventional way, and optionally set some [default chart aesthetics](https://seaborn.pydata.org/tutorial/aesthetics.html)."
      ]
    },
    {
      "cell_type": "code",
      "metadata": {
        "id": "6UZKj1yMXTYg",
        "colab_type": "code",
        "colab": {
          "base_uri": "https://localhost:8080/",
          "height": 71
        },
        "outputId": "04938456-918b-4d4d-e0f3-3977facc0bcd"
      },
      "source": [
        "# Import the seaborn library the conventional way. Then optionally configure\n",
        "# the default chart style.\n",
        "import seaborn as sns\n",
        "sns.set()\n",
        "sns.set_style('ticks')"
      ],
      "execution_count": 7,
      "outputs": []
    },
    {
      "cell_type": "markdown",
      "metadata": {
        "id": "AWlh7ipsXaYM",
        "colab_type": "text"
      },
      "source": [
        "### Sugar Distribution\n",
        "\n",
        "Marketing tells us that their surveys have revealed that sugar content is the number one concern of consumers when choosing cereal.\n",
        "\n",
        "They would like to see the following visualizations:\n",
        "\n",
        "*  A [distribution plot](https://seaborn.pydata.org/tutorial/distributions.html#plotting-univariate-distributions) of the sugar content in all cereals.\n",
        "\n",
        "* A [scatter plot](https://seaborn.pydata.org/tutorial/categorical.html#categorical-scatterplots) showing the distribution of sugar content by manufactuerer.\n",
        "\n",
        "* A [box plot](https://seaborn.pydata.org/tutorial/categorical.html#boxplots) showing the distribution of sugar content by manufacturer."
      ]
    },
    {
      "cell_type": "code",
      "metadata": {
        "id": "-T6xRLvAYJIf",
        "colab_type": "code",
        "colab": {
          "base_uri": "https://localhost:8080/",
          "height": 303
        },
        "outputId": "b9cb0132-8b46-458e-8f96-4222a98a1b3a"
      },
      "source": [
        "# Use seaborn to create the three visualzations requested by the the marketing team\n",
        "\n",
        "# The distribution plot just uses default settings\n",
        "sns.distplot(cereal['sugars'])"
      ],
      "execution_count": 8,
      "outputs": [
        {
          "output_type": "execute_result",
          "data": {
            "text/plain": [
              "<matplotlib.axes._subplots.AxesSubplot at 0x7f36af30c588>"
            ]
          },
          "metadata": {
            "tags": []
          },
          "execution_count": 8
        },
        {
          "output_type": "display_data",
          "data": {
            "image/png": "[encoded data removed]",
            "text/plain": [
              "<Figure size 432x288 with 1 Axes>"
            ]
          },
          "metadata": {
            "tags": []
          }
        }
      ]
    },
    {
      "cell_type": "code",
      "metadata": {
        "id": "1Oyp914IJw5w",
        "colab_type": "code",
        "colab": {
          "base_uri": "https://localhost:8080/",
          "height": 302
        },
        "outputId": "c8661f88-db0e-49ca-864e-d5835e94741c"
      },
      "source": [
        "# We'll use the swarm variation \n",
        "sns.swarmplot(data=cereal, x='mfr', y='sugars')\n"
      ],
      "execution_count": 9,
      "outputs": [
        {
          "output_type": "execute_result",
          "data": {
            "text/plain": [
              "<matplotlib.axes._subplots.AxesSubplot at 0x7f36af2e1c18>"
            ]
          },
          "metadata": {
            "tags": []
          },
          "execution_count": 9
        },
        {
          "output_type": "display_data",
          "data": {
            "image/png": "[encoded data removed]",
            "text/plain": [
              "<Figure size 432x288 with 1 Axes>"
            ]
          },
          "metadata": {
            "tags": []
          }
        }
      ]
    },
    {
      "cell_type": "code",
      "metadata": {
        "id": "Ys9hxXaGAhaH",
        "colab_type": "code",
        "colab": {
          "base_uri": "https://localhost:8080/",
          "height": 372
        },
        "outputId": "64c2bd1d-fef1-4a37-bf0e-a3505187d7d9"
      },
      "source": [
        "# Let's make this look nicer for marketing. Seaborn is based on matplotlib\n",
        "# and its graph functions typically return a matplot lib Axes object\n",
        "# which we can customize further. (see https://matplotlib.org/3.3.1/api/axes_api.html)\n",
        "\n",
        "import matplotlib.pyplot as plt\n",
        "\n",
        "# First, let's make it wider so we can use the manufacturer name instead\n",
        "# of the code. We have to set this before drawing the chart.\n",
        "plt.figure(figsize=(15,5))\n",
        "\n",
        "# Draw that chart, keeping a reference to the axes object\n",
        "ax = sns.swarmplot(data=cereal, x='mfr_name', y='sugars')\n",
        "\n",
        "# Once the chart is drawn, we can set the labels\n",
        "ax.set_title('Sugar content of cereal brands')\n",
        "ax.set_xlabel('Manufacturer')\n",
        "ax.set_ylabel('Sugar (grams)')\n"
      ],
      "execution_count": 10,
      "outputs": [
        {
          "output_type": "execute_result",
          "data": {
            "text/plain": [
              "Text(0, 0.5, 'Sugar (grams)')"
            ]
          },
          "metadata": {
            "tags": []
          },
          "execution_count": 10
        },
        {
          "output_type": "display_data",
          "data": {
            "image/png": "[encoded data removed]",
            "text/plain": [
              "<Figure size 1080x360 with 1 Axes>"
            ]
          },
          "metadata": {
            "tags": []
          }
        }
      ]
    },
    {
      "cell_type": "code",
      "metadata": {
        "id": "IgxtNrijLIGb",
        "colab_type": "code",
        "colab": {
          "base_uri": "https://localhost:8080/",
          "height": 356
        },
        "outputId": "762c9228-8680-495f-f89a-68cf2557e52c"
      },
      "source": [
        "# Now here's the boxchart\n",
        "plt.figure(figsize=(15,5))\n",
        "\n",
        "ax = sns.boxplot(data=cereal, x='mfr_name', y='sugars')\n",
        "ax.set_xlabel('Manufacturer')\n",
        "ax.set_ylabel('Sugar (grams)')"
      ],
      "execution_count": 11,
      "outputs": [
        {
          "output_type": "execute_result",
          "data": {
            "text/plain": [
              "Text(0, 0.5, 'Sugar (grams)')"
            ]
          },
          "metadata": {
            "tags": []
          },
          "execution_count": 11
        },
        {
          "output_type": "display_data",
          "data": {
            "image/png": "[encoded data removed]",
            "text/plain": [
              "<Figure size 1080x360 with 1 Axes>"
            ]
          },
          "metadata": {
            "tags": []
          }
        }
      ]
    },
    {
      "cell_type": "markdown",
      "metadata": {
        "id": "7EA2lAfbYRAc",
        "colab_type": "text"
      },
      "source": [
        "# Part 5: Dietary Calculations\n",
        "\n",
        "The marketing team has been able to arrange a partnership between the popular Weight Watchers diet brand and Kelloggs cereal.\n",
        "\n",
        "The [Weight Watchers system](https://www.weightwatchers.com/us/how-it-works/smartpoints) assigns a point value to each food, and participants in the program are allotted a certain number of points each day.\n",
        "\n",
        "One [recent formula](http://www.exercise4weightloss.com/smart-points-calculator.html) for calculating points is:\n",
        "\n",
        "    (Calories * .0305) + (Fat * .275) + (Sugar * .12) - (Protein * .098)\n",
        "\n",
        "First, [select a subset of the data](https://pandas.pydata.org/docs/getting_started/intro_tutorials/03_subset_data.html#how-do-i-filter-specific-rows-from-a-dataframe) containing just cereals manufactured by Kellogs.\n",
        "\n",
        "Then, [add a new column](https://pandas.pydata.org/docs/getting_started/intro_tutorials/05_add_columns.html) with the Weight Watchers point calculation derived from the data for each of that manufacturer's cereal brands.\n",
        "\n",
        "Finally, calculate the same summary statistics for the points calculations as earlier (mean, median, standard deviation, min, and max)."
      ]
    },
    {
      "cell_type": "code",
      "metadata": {
        "id": "MOxV7Fy232GM",
        "colab_type": "code",
        "colab": {
          "base_uri": "https://localhost:8080/",
          "height": 204
        },
        "outputId": "b79fc80a-2e6c-4529-fbc0-bf442f3b3580"
      },
      "source": [
        "# First, filter the dataset to include only cereals manufactured by Kellogs\n",
        "kellogs = cereal[ cereal['mfr'] == 'K' ].copy()\n",
        "\n",
        "# Note the addition of the \"copy()\" command at the end. This is to prevent\n",
        "# a SettingWithCopyWarning that Pandas will throw at us if we accidentally\n",
        "# perform a \"chained assignment\" operation. \n",
        "#\n",
        "# There are two ways to fix this. One is to use a copy of the data instead, \n",
        "# which is what we've done here. This works fine if your dataset is small\n",
        "# (this one is).\n",
        "#\n",
        "# The other is to use loc() for indexing instead:\n",
        "#\n",
        "#   cereal.loc[ cereal['mfr'] == 'K', 'name': 'mfr_name' ]\n",
        "#\n",
        "# This basically says: give me the row locations in the data where mfr is equal to K and \n",
        "# include all columns between name and mfr_name (inclusive)\n",
        "#\n",
        "# The docs give a small warning at the end here about this: \n",
        "# https://pandas.pydata.org/pandas-docs/stable/getting_started/intro_tutorials/03_subset_data.html\n",
        "#\n",
        "# For an overview of this problem (which is quote common) see this article:\n",
        "# https://www.dataquest.io/blog/settingwithcopywarning/\n",
        "#\n",
        "# For the technical details, read the Pandas docs section on views vs copies: \n",
        "# https://pandas.pydata.org/pandas-docs/stable/user_guide/indexing.html#returning-a-view-versus-a-copy\n",
        "\n",
        "\n",
        "# Finally, add a new column containing the Weight Watchers point calculations\n",
        "kellogs['WW Points'] = (kellogs['calories'] * .0305) + (kellogs['fat'] * .275) + (kellogs['sugars'] * .12) + (kellogs['protein'] * .098)\n",
        "kellogs[ ['name', 'WW Points', 'calories', 'fat', 'sugars', 'protein'] ].head()"
      ],
      "execution_count": 12,
      "outputs": [
        {
          "output_type": "execute_result",
          "data": {
            "text/html": [
              "<div>\n",
              "<style scoped>\n",
              "    .dataframe tbody tr th:only-of-type {\n",
              "        vertical-align: middle;\n",
              "    }\n",
              "\n",
              "    .dataframe tbody tr th {\n",
              "        vertical-align: top;\n",
              "    }\n",
              "\n",
              "    .dataframe thead th {\n",
              "        text-align: right;\n",
              "    }\n",
              "</style>\n",
              "<table border=\"1\" class=\"dataframe\">\n",
              "  <thead>\n",
              "    <tr style=\"text-align: right;\">\n",
              "      <th></th>\n",
              "      <th>name</th>\n",
              "      <th>WW Points</th>\n",
              "      <th>calories</th>\n",
              "      <th>fat</th>\n",
              "      <th>sugars</th>\n",
              "      <th>protein</th>\n",
              "    </tr>\n",
              "  </thead>\n",
              "  <tbody>\n",
              "    <tr>\n",
              "      <th>2</th>\n",
              "      <td>All-Bran</td>\n",
              "      <td>3.402</td>\n",
              "      <td>70</td>\n",
              "      <td>1</td>\n",
              "      <td>5</td>\n",
              "      <td>4</td>\n",
              "    </tr>\n",
              "    <tr>\n",
              "      <th>3</th>\n",
              "      <td>All-Bran with Extra Fiber</td>\n",
              "      <td>1.917</td>\n",
              "      <td>50</td>\n",
              "      <td>0</td>\n",
              "      <td>0</td>\n",
              "      <td>4</td>\n",
              "    </tr>\n",
              "    <tr>\n",
              "      <th>6</th>\n",
              "      <td>Apple Jacks</td>\n",
              "      <td>5.231</td>\n",
              "      <td>110</td>\n",
              "      <td>0</td>\n",
              "      <td>14</td>\n",
              "      <td>2</td>\n",
              "    </tr>\n",
              "    <tr>\n",
              "      <th>16</th>\n",
              "      <td>Corn Flakes</td>\n",
              "      <td>3.486</td>\n",
              "      <td>100</td>\n",
              "      <td>0</td>\n",
              "      <td>2</td>\n",
              "      <td>2</td>\n",
              "    </tr>\n",
              "    <tr>\n",
              "      <th>17</th>\n",
              "      <td>Corn Pops</td>\n",
              "      <td>4.893</td>\n",
              "      <td>110</td>\n",
              "      <td>0</td>\n",
              "      <td>12</td>\n",
              "      <td>1</td>\n",
              "    </tr>\n",
              "  </tbody>\n",
              "</table>\n",
              "</div>"
            ],
            "text/plain": [
              "                         name  WW Points  calories  fat  sugars  protein\n",
              "2                    All-Bran      3.402        70    1       5        4\n",
              "3   All-Bran with Extra Fiber      1.917        50    0       0        4\n",
              "6                 Apple Jacks      5.231       110    0      14        2\n",
              "16                Corn Flakes      3.486       100    0       2        2\n",
              "17                  Corn Pops      4.893       110    0      12        1"
            ]
          },
          "metadata": {
            "tags": []
          },
          "execution_count": 12
        }
      ]
    },
    {
      "cell_type": "markdown",
      "metadata": {
        "id": "3tOuwFOZYvVP",
        "colab_type": "text"
      },
      "source": [
        "## 🌟 Above and Beyond 🌟\n",
        "\n",
        "The marketing team is pleased with what you've accomplished so far. They have a meeting with top cereal executives in the morning, and they'd like you to do as many of the following additional tasks as you have time for:\n",
        "\n",
        "1. Weight Watchers used to have an older points system that used this formula: `(calories / 50) + (fat / 12) - (fiber / 5)`, but only the first 4 grams of fiber were included in the calculation. For comparison's sake, create an additional column with the calculation for the old points system.\n",
        "\n",
        "2. Marketing really likes the boxplot of the sugar content for each cereal, but they'd like it if you could create another version of the plot [with the outliers labeled](https://stackoverflow.com/questions/61734304/label-outliers-in-a-boxplot-python)."
      ]
    }
  ]
}
