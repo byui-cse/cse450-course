{
  "nbformat": 4,
  "nbformat_minor": 0,
  "metadata": {
    "colab": {
      "name": "Exploration-04-Solved.ipynb",
      "provenance": [],
      "collapsed_sections": []
    },
    "kernelspec": {
      "name": "python3",
      "display_name": "Python 3"
    }
  },
  "cells": [
    {
      "cell_type": "markdown",
      "metadata": {
        "id": "LB9TN5GKEyhw",
        "colab_type": "text"
      },
      "source": [
        "# Data Exploration 04\n",
        "\n",
        "A political think tank is preparing a public relations campain on a variety of policy issues.\n",
        "\n",
        "In order to understand how they should best allocate their time, they've asked you to calculate some probabilities based on prior Congressional voting history."
      ]
    },
    {
      "cell_type": "markdown",
      "metadata": {
        "id": "agqlq8RKFbry",
        "colab_type": "text"
      },
      "source": [
        "## Part 1: Import Pandas and load the data\n",
        "\n",
        "The dataset for this exploration is stored at the following url:\n",
        "\n",
        "[https://raw.githubusercontent.com/byui-cse/cse450-course/master/data/house-votes-84.csv](https://raw.githubusercontent.com/byui-cse/cse450-course/master/data/house-votes-84.csv)\n",
        "\n",
        "\n",
        "### Initial Data Analysis\n",
        "Once you've loaded the data, it's a good idea to poke around a little bit to find out what you're dealing with.\n",
        "\n",
        "Some questions you might ask include:\n",
        "\n",
        "* What does the data look like?\n",
        "* What kind of data is in each column? \n",
        "* Do any of the columns have missing values? "
      ]
    },
    {
      "cell_type": "code",
      "metadata": {
        "id": "14b9y6LKEvEm",
        "colab_type": "code",
        "colab": {
          "base_uri": "https://localhost:8080/",
          "height": 683
        },
        "outputId": "4cc07442-6eaf-4f50-d7e6-1de2f4a5b8cd"
      },
      "source": [
        "# Part 1: Enter your code below to import Pandas according to the \n",
        "# conventional method. Then load the dataset into a Pandas dataframe.\n",
        "import pandas as pd\n",
        "votes = pd.read_csv('https://raw.githubusercontent.com/byui-cse/cse450-course/master/data/house-votes-84.csv')\n",
        "\n",
        "# Write any code needed to explore the data by seeing what the first few \n",
        "# rows look like. Then display a technical summary of the data to determine\n",
        "# the data types of each column, and which columns have missing data.\n",
        "votes.info()\n",
        "votes.head()\n"
      ],
      "execution_count": null,
      "outputs": [
        {
          "output_type": "stream",
          "text": [
            "<class 'pandas.core.frame.DataFrame'>\n",
            "RangeIndex: 435 entries, 0 to 434\n",
            "Data columns (total 17 columns):\n",
            " #   Column                                  Non-Null Count  Dtype \n",
            "---  ------                                  --------------  ----- \n",
            " 0   class                                   435 non-null    object\n",
            " 1   handicapped-infants                     435 non-null    object\n",
            " 2   water-project-cost-sharing              435 non-null    object\n",
            " 3   adoption-of-the-budget-resolution       435 non-null    object\n",
            " 4   physician-fee-freeze                    435 non-null    object\n",
            " 5   el-salvador-aid                         435 non-null    object\n",
            " 6   religious-groups-in-schools             435 non-null    object\n",
            " 7   anti-satellite-test-ban                 435 non-null    object\n",
            " 8   aid-to-nicaraguan-contras               435 non-null    object\n",
            " 9   mx-missile                              435 non-null    object\n",
            " 10  immigration                             435 non-null    object\n",
            " 11  synfuels-corporation-cutback            435 non-null    object\n",
            " 12  education-spending                      435 non-null    object\n",
            " 13  superfund-right-to-sue                  435 non-null    object\n",
            " 14  crime                                   435 non-null    object\n",
            " 15  duty-free-exports                       435 non-null    object\n",
            " 16  export-administration-act-south-africa  435 non-null    object\n",
            "dtypes: object(17)\n",
            "memory usage: 57.9+ KB\n"
          ],
          "name": "stdout"
        },
        {
          "output_type": "execute_result",
          "data": {
            "text/html": [
              "<div>\n",
              "<style scoped>\n",
              "    .dataframe tbody tr th:only-of-type {\n",
              "        vertical-align: middle;\n",
              "    }\n",
              "\n",
              "    .dataframe tbody tr th {\n",
              "        vertical-align: top;\n",
              "    }\n",
              "\n",
              "    .dataframe thead th {\n",
              "        text-align: right;\n",
              "    }\n",
              "</style>\n",
              "<table border=\"1\" class=\"dataframe\">\n",
              "  <thead>\n",
              "    <tr style=\"text-align: right;\">\n",
              "      <th></th>\n",
              "      <th>class</th>\n",
              "      <th>handicapped-infants</th>\n",
              "      <th>water-project-cost-sharing</th>\n",
              "      <th>adoption-of-the-budget-resolution</th>\n",
              "      <th>physician-fee-freeze</th>\n",
              "      <th>el-salvador-aid</th>\n",
              "      <th>religious-groups-in-schools</th>\n",
              "      <th>anti-satellite-test-ban</th>\n",
              "      <th>aid-to-nicaraguan-contras</th>\n",
              "      <th>mx-missile</th>\n",
              "      <th>immigration</th>\n",
              "      <th>synfuels-corporation-cutback</th>\n",
              "      <th>education-spending</th>\n",
              "      <th>superfund-right-to-sue</th>\n",
              "      <th>crime</th>\n",
              "      <th>duty-free-exports</th>\n",
              "      <th>export-administration-act-south-africa</th>\n",
              "    </tr>\n",
              "  </thead>\n",
              "  <tbody>\n",
              "    <tr>\n",
              "      <th>0</th>\n",
              "      <td>republican</td>\n",
              "      <td>n</td>\n",
              "      <td>y</td>\n",
              "      <td>n</td>\n",
              "      <td>y</td>\n",
              "      <td>y</td>\n",
              "      <td>y</td>\n",
              "      <td>n</td>\n",
              "      <td>n</td>\n",
              "      <td>n</td>\n",
              "      <td>y</td>\n",
              "      <td>?</td>\n",
              "      <td>y</td>\n",
              "      <td>y</td>\n",
              "      <td>y</td>\n",
              "      <td>n</td>\n",
              "      <td>y</td>\n",
              "    </tr>\n",
              "    <tr>\n",
              "      <th>1</th>\n",
              "      <td>republican</td>\n",
              "      <td>n</td>\n",
              "      <td>y</td>\n",
              "      <td>n</td>\n",
              "      <td>y</td>\n",
              "      <td>y</td>\n",
              "      <td>y</td>\n",
              "      <td>n</td>\n",
              "      <td>n</td>\n",
              "      <td>n</td>\n",
              "      <td>n</td>\n",
              "      <td>n</td>\n",
              "      <td>y</td>\n",
              "      <td>y</td>\n",
              "      <td>y</td>\n",
              "      <td>n</td>\n",
              "      <td>?</td>\n",
              "    </tr>\n",
              "    <tr>\n",
              "      <th>2</th>\n",
              "      <td>democrat</td>\n",
              "      <td>?</td>\n",
              "      <td>y</td>\n",
              "      <td>y</td>\n",
              "      <td>?</td>\n",
              "      <td>y</td>\n",
              "      <td>y</td>\n",
              "      <td>n</td>\n",
              "      <td>n</td>\n",
              "      <td>n</td>\n",
              "      <td>n</td>\n",
              "      <td>y</td>\n",
              "      <td>n</td>\n",
              "      <td>y</td>\n",
              "      <td>y</td>\n",
              "      <td>n</td>\n",
              "      <td>n</td>\n",
              "    </tr>\n",
              "    <tr>\n",
              "      <th>3</th>\n",
              "      <td>democrat</td>\n",
              "      <td>n</td>\n",
              "      <td>y</td>\n",
              "      <td>y</td>\n",
              "      <td>n</td>\n",
              "      <td>?</td>\n",
              "      <td>y</td>\n",
              "      <td>n</td>\n",
              "      <td>n</td>\n",
              "      <td>n</td>\n",
              "      <td>n</td>\n",
              "      <td>y</td>\n",
              "      <td>n</td>\n",
              "      <td>y</td>\n",
              "      <td>n</td>\n",
              "      <td>n</td>\n",
              "      <td>y</td>\n",
              "    </tr>\n",
              "    <tr>\n",
              "      <th>4</th>\n",
              "      <td>democrat</td>\n",
              "      <td>y</td>\n",
              "      <td>y</td>\n",
              "      <td>y</td>\n",
              "      <td>n</td>\n",
              "      <td>y</td>\n",
              "      <td>y</td>\n",
              "      <td>n</td>\n",
              "      <td>n</td>\n",
              "      <td>n</td>\n",
              "      <td>n</td>\n",
              "      <td>y</td>\n",
              "      <td>?</td>\n",
              "      <td>y</td>\n",
              "      <td>y</td>\n",
              "      <td>y</td>\n",
              "      <td>y</td>\n",
              "    </tr>\n",
              "  </tbody>\n",
              "</table>\n",
              "</div>"
            ],
            "text/plain": [
              "        class  ... export-administration-act-south-africa\n",
              "0  republican  ...                                      y\n",
              "1  republican  ...                                      ?\n",
              "2    democrat  ...                                      n\n",
              "3    democrat  ...                                      y\n",
              "4    democrat  ...                                      y\n",
              "\n",
              "[5 rows x 17 columns]"
            ]
          },
          "metadata": {
            "tags": []
          },
          "execution_count": 1
        }
      ]
    },
    {
      "cell_type": "markdown",
      "metadata": {
        "id": "q-O80D5JH9yA",
        "colab_type": "text"
      },
      "source": [
        "## Part 2: Simple Probabilities\n",
        "\n",
        "An easy way to calcuate simple categorical feature probabilities in Pandas is through the [value_counts() function](https://pandas.pydata.org/pandas-docs/stable/reference/api/pandas.DataFrame.value_counts.html).\n",
        "\n",
        "Calculate the following:\n",
        "   * P(class = 'republican')\n",
        "   * P(class = 'democrat')\n",
        "   * P(voted 'Y' on education-spending)"
      ]
    },
    {
      "cell_type": "code",
      "metadata": {
        "id": "AMKxXySGJVnC",
        "colab_type": "code",
        "colab": {
          "base_uri": "https://localhost:8080/",
          "height": 68
        },
        "outputId": "cb6269e0-e9fe-42af-e119-def9fad4b859"
      },
      "source": [
        "# Write the code to calculate the specified probabilities\n",
        "\n",
        "# We could do the value_counts, then divide by the length of the data set,\n",
        "# but using normalized value counts gives us the probabilities directly.\n",
        "votes['class'].value_counts(normalize=True)"
      ],
      "execution_count": null,
      "outputs": [
        {
          "output_type": "execute_result",
          "data": {
            "text/plain": [
              "democrat      0.613793\n",
              "republican    0.386207\n",
              "Name: class, dtype: float64"
            ]
          },
          "metadata": {
            "tags": []
          },
          "execution_count": 2
        }
      ]
    },
    {
      "cell_type": "code",
      "metadata": {
        "id": "ThUy30KqTZAI",
        "colab_type": "code",
        "colab": {
          "base_uri": "https://localhost:8080/",
          "height": 85
        },
        "outputId": "2b083f55-eb46-4eb0-e602-7e8f956837ac"
      },
      "source": [
        "votes['education-spending'].value_counts(normalize=True)"
      ],
      "execution_count": null,
      "outputs": [
        {
          "output_type": "execute_result",
          "data": {
            "text/plain": [
              "n    0.535632\n",
              "y    0.393103\n",
              "?    0.071264\n",
              "Name: education-spending, dtype: float64"
            ]
          },
          "metadata": {
            "tags": []
          },
          "execution_count": 3
        }
      ]
    },
    {
      "cell_type": "markdown",
      "metadata": {
        "id": "CqdAa4EfJ9T0",
        "colab_type": "text"
      },
      "source": [
        "## Part 3: Joint Probabilities\n",
        "An easy way to calculate joint probabilities in Pandas is by combining the [groupby() function](https://pandas.pydata.org/pandas-docs/stable/getting_started/intro_tutorials/06_calculate_statistics.html#aggregating-statistics-grouped-by-category) with the [value_counts() function](https://pandas.pydata.org/pandas-docs/stable/reference/api/pandas.DataFrame.value_counts.html).\n",
        "\n",
        "Though note that value_counts() is a Pandas Series method, and will therefore not work on an entire DataFrame. See [this article](https://pandas.pydata.org/pandas-docs/stable/getting_started/intro_tutorials/01_table_oriented.html#each-column-in-a-dataframe-is-a-series) for details on the difference.\n",
        "\n",
        "In 1984, congress [voted on two similar foreign-aid bills](https://www.nytimes.com/1984/05/25/world/military-aid-bill-for-el-salvador-passed-by-house.html), one to provide military aid to El Salvador `el-salvador-aid`, the other to provide military aid to rebels in Nicaragua `aid-to-nicaraguan-contras`.\n",
        "\n",
        "Calculate the following probabilities:\n",
        "\n",
        "* The probability that a representative voted *for* both aid packages.\n",
        "* The probability that a representative voted *against* both aid packages.\n",
        "* The probability that a representative voted to provide aid to El Salvador, but not Nicaragua.\n",
        "* The probability that a representative voted to provide aid to Nicaragua, but not El Savador.\n"
      ]
    },
    {
      "cell_type": "code",
      "metadata": {
        "id": "i8wdC-qpPjqF",
        "colab_type": "code",
        "colab": {
          "base_uri": "https://localhost:8080/",
          "height": 204
        },
        "outputId": "74a006e1-377b-470b-f7ca-47abf72e5132"
      },
      "source": [
        "# Write the code to calculate the specified probabilities\n",
        "\n",
        "# If we define E as the event: \"voting in favor of aid for El Salvador\"\n",
        "# and N as the event\": \"voting in favor of aid for Nicaragua\"\n",
        "#\n",
        "# Grouping by one column and then doing a value count of the other\n",
        "# will give us the tallies we need to figure out the marginal probabilities\n",
        "#\n",
        "#   votes.groupby('el-salvador-aid')['aid-to-nicaraguan-contras'].value_counts()\n",
        "#\n",
        "# We can't use the same normalize=True trick from earlier, because Pandas will\n",
        "# calculate the precentages within each group, and we need them across the \n",
        "# entire dataset.\n",
        "#\n",
        "# So instead, we can either manually divide the tallies by the length:\n",
        "#\n",
        "#     We know that n = 435 from our data exploration earlier, so...\n",
        "#\n",
        "#       P(E, N) = 31 / 435 = 0.071\n",
        "#       P(¬E, ¬N) = 2 / 435 = 0.01\n",
        "#       P(E,¬N) = 172 / 435 = 0.40\n",
        "#       P(¬E, N) = 204 / 435 = 0.47\n",
        "#\n",
        "# or, we can take advantage of Pandas's ability to perform mathematical operations\n",
        "# in a vectorized way. See https://pandas.pydata.org/pandas-docs/stable/getting_started/intro_tutorials/05_add_columns.html#min-tut-05-columns \n",
        "# for an intro, or https://pandas.pydata.org/pandas-docs/stable/user_guide/basics.html#flexible-binary-operations for more details.\n",
        "\n",
        "votes.groupby('el-salvador-aid')['aid-to-nicaraguan-contras'].value_counts() / len(votes)\n",
        "\n",
        "# Note that we would have gotten the same results if we had grouped and aggregated\n",
        "# in the other direction:\n",
        "#\n",
        "# votes.groupby('aid-to-nicaraguan-contras')['el-salvador-aid'].value_counts() / len(votes)\n",
        "#\n"
      ],
      "execution_count": null,
      "outputs": [
        {
          "output_type": "execute_result",
          "data": {
            "text/plain": [
              "el-salvador-aid  aid-to-nicaraguan-contras\n",
              "?                y                            0.016092\n",
              "                 ?                            0.009195\n",
              "                 n                            0.009195\n",
              "n                y                            0.468966\n",
              "                 ?                            0.004598\n",
              "                 n                            0.004598\n",
              "y                n                            0.395402\n",
              "                 y                            0.071264\n",
              "                 ?                            0.020690\n",
              "Name: aid-to-nicaraguan-contras, dtype: float64"
            ]
          },
          "metadata": {
            "tags": []
          },
          "execution_count": 4
        }
      ]
    },
    {
      "cell_type": "markdown",
      "metadata": {
        "id": "cl30h29pWp26",
        "colab_type": "text"
      },
      "source": [
        "## Part 4: Conditional Probabilities\n",
        "\n",
        "In 1984, congress passed the [Equal Access Act](https://mtsu.edu/first-amendment/article/1077/equal-access-act-of-1984), which forbids public secondary schools from receiving federal funds if they deny students the First Amendment right to conduct meetings because of the “religious, political, philosophical, or other content of the speech at such meetings.”\n",
        "\n",
        "The results of this vote are recorded in the `religious-groups-in-schools` column of the dataset, coded as one of the following:\n",
        "\n",
        "* Y - Voted yea (in favor of passage)\n",
        "* N - Voted nay (against passage)\n",
        "* ? - Abstained\n",
        "\n",
        "Calcualte the following joint probabilities:\n",
        "\n",
        "* The probability of a Democratic representative voting Yea on the Equal Access Act.\n",
        "* The probability of a Republica representative voting Yea on the Equal Access Act.\n"
      ]
    },
    {
      "cell_type": "code",
      "metadata": {
        "id": "6UZKj1yMXTYg",
        "colab_type": "code",
        "colab": {
          "base_uri": "https://localhost:8080/",
          "height": 173
        },
        "outputId": "9dfb6282-5f93-4a6d-b3b3-de90e9dadcdc"
      },
      "source": [
        "# Write the code to calculate the specified probabilities\n",
        "\n",
        "# If we define Y as the event: \"Voted Yea for Equal Access Act\"\n",
        "# and D as the event: \"The representative is a Democrat\"\n",
        "# and R as the event: \"The representative is a Republican\"\n",
        "#\n",
        "\n",
        "# There are lots of ways to do this, including variations on things we've done\n",
        "# earlier and lambda functions we could use to solve it in a command.\n",
        "#\n",
        "# I'm going to use the crosstab function:\n",
        "pd.crosstab(votes['class'], votes['religious-groups-in-schools'], margins=True)\n",
        "\n",
        "# P(Y | D) = P(Y,D) / P(D)\n",
        "#          = 123 / 267 = 0.46\n",
        "\n",
        "# P(Y | R) = P(Y,R) / P(R)\n",
        "#          = 149 / 168 = 0.89\n",
        "\n",
        "# Note that if we use normalize=True in our cross tab, we'll get the marginal\n",
        "# probabilities instead of tallies. In that case we still need to divide them\n",
        "#\n",
        "#     pd.crosstab(votes['class'], votes['religious-groups-in-schools'], margins=True, normalize=True)\n",
        "#\n",
        "# P(Y | R) = P(Y,R) / P(R)\n",
        "#          = 0.342529 / 0.386207 = 0.89\n",
        "# etc..."
      ],
      "execution_count": null,
      "outputs": [
        {
          "output_type": "execute_result",
          "data": {
            "text/html": [
              "<div>\n",
              "<style scoped>\n",
              "    .dataframe tbody tr th:only-of-type {\n",
              "        vertical-align: middle;\n",
              "    }\n",
              "\n",
              "    .dataframe tbody tr th {\n",
              "        vertical-align: top;\n",
              "    }\n",
              "\n",
              "    .dataframe thead th {\n",
              "        text-align: right;\n",
              "    }\n",
              "</style>\n",
              "<table border=\"1\" class=\"dataframe\">\n",
              "  <thead>\n",
              "    <tr style=\"text-align: right;\">\n",
              "      <th>religious-groups-in-schools</th>\n",
              "      <th>?</th>\n",
              "      <th>n</th>\n",
              "      <th>y</th>\n",
              "      <th>All</th>\n",
              "    </tr>\n",
              "    <tr>\n",
              "      <th>class</th>\n",
              "      <th></th>\n",
              "      <th></th>\n",
              "      <th></th>\n",
              "      <th></th>\n",
              "    </tr>\n",
              "  </thead>\n",
              "  <tbody>\n",
              "    <tr>\n",
              "      <th>democrat</th>\n",
              "      <td>9</td>\n",
              "      <td>135</td>\n",
              "      <td>123</td>\n",
              "      <td>267</td>\n",
              "    </tr>\n",
              "    <tr>\n",
              "      <th>republican</th>\n",
              "      <td>2</td>\n",
              "      <td>17</td>\n",
              "      <td>149</td>\n",
              "      <td>168</td>\n",
              "    </tr>\n",
              "    <tr>\n",
              "      <th>All</th>\n",
              "      <td>11</td>\n",
              "      <td>152</td>\n",
              "      <td>272</td>\n",
              "      <td>435</td>\n",
              "    </tr>\n",
              "  </tbody>\n",
              "</table>\n",
              "</div>"
            ],
            "text/plain": [
              "religious-groups-in-schools   ?    n    y  All\n",
              "class                                         \n",
              "democrat                      9  135  123  267\n",
              "republican                    2   17  149  168\n",
              "All                          11  152  272  435"
            ]
          },
          "metadata": {
            "tags": []
          },
          "execution_count": 5
        }
      ]
    },
    {
      "cell_type": "markdown",
      "metadata": {
        "id": "7EA2lAfbYRAc",
        "colab_type": "text"
      },
      "source": [
        "# Part 5: Bayes' Theorem\n",
        "\n",
        "Page 252 of your text defines Bayes' Theorem, a formula that is used in a few area of machine learning.\n",
        "\n",
        "Using Bayes' Theorem, calculate the following probability:\n",
        "\n",
        "* The probability that a representative is a Democrat given that they voted Nay on the Equal Access Act."
      ]
    },
    {
      "cell_type": "code",
      "metadata": {
        "id": "lpqLCZhQLLU1",
        "colab_type": "code",
        "colab": {}
      },
      "source": [
        "# If we define our events as:\n",
        "#\n",
        "# D = Representative is a Democrat\n",
        "# N = Voted Nay on the Equal Access Act\n",
        "#\n",
        "# Then according to Bayes' Theorem, we have:\n",
        "#\n",
        "#  P(D|N) = ( P(N|D) * P(D) ) / P(N)\n",
        "#\n",
        "# We can get all of these values from our earlier calculations:\n",
        "#   P(N|D) = 135 / 267 = 0.51 (Crosstab in Part 4)\n",
        "#   P(D) = 0.61 (Part 2 or Crosstab in Part 4)\n",
        "#   P(N) = 0.35 (Crosstab in Part 4)\n",
        "#\n",
        "#   P(D|N) = (0.51 * 0.61) / 0.35 = 0.89\n",
        "#\n",
        "# Note that in this case, we could have calculated this directly from our crosstab\n",
        "# results in Part 4, but in some cases it's impossible to calculate a probability\n",
        "# like this without using Bayes' Theorem."
      ],
      "execution_count": null,
      "outputs": []
    },
    {
      "cell_type": "markdown",
      "metadata": {
        "id": "3tOuwFOZYvVP",
        "colab_type": "text"
      },
      "source": [
        "## 🌟 Above and Beyond 🌟\n",
        "\n",
        "1. Create some visualizations that demonstrate party values based on candidate voting history.\n",
        "\n",
        "2. Explore other interesting relationships. Some examples might include: How likely is a candidate to vote for military spending in general if they also support religious freedom? How does party affiliation affect a candidate's likelihood to vote for or against spending in general? "
      ]
    }
  ]
}