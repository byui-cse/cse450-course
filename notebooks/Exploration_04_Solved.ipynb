{
  "nbformat": 4,
  "nbformat_minor": 0,
  "metadata": {
    "colab": {
      "name": "Exploration-04-Solved.ipynb",
      "provenance": [],
      "collapsed_sections": []
    },
    "kernelspec": {
      "name": "python3",
      "display_name": "Python 3"
    }
  },
  "cells": [
    {
      "cell_type": "markdown",
      "metadata": {
        "id": "LB9TN5GKEyhw",
        "colab_type": "text"
      },
      "source": [
        "# Data Exploration 04\n",
        "\n",
        "A political think tank is preparing a public relations campain on a variety of policy issues.\n",
        "\n",
        "In order to understand how they should best allocate their time, they've asked you to calculate some probabilities based on prior Congressional voting history."
      ]
    },
    {
      "cell_type": "markdown",
      "metadata": {
        "id": "agqlq8RKFbry",
        "colab_type": "text"
      },
      "source": [
        "## Part 1: Import Pandas and load the data\n",
        "\n",
        "The dataset for this exploration is stored at the following url:\n",
        "\n",
        "`https://raw.githubusercontent.com/byui-cse/cse450-course/master/data/house-votes-84.csv`\n",
        "\n",
        "\n",
        "### Initial Data Analysis\n",
        "Once you've loaded the data, it's a good idea to poke around a little bit to find out what you're dealing with.\n",
        "\n",
        "Some questions you might ask include:\n",
        "\n",
        "* What does the data look like?\n",
        "* What kind of data is in each column? \n",
        "* Do any of the columns have missing values? "
      ]
    },
    {
      "cell_type": "code",
      "metadata": {
        "id": "14b9y6LKEvEm",
        "colab_type": "code",
        "colab": {}
      },
      "source": [
        "# Part 1: Enter your code below to import Pandas according to the \n",
        "# conventional method. Then load the dataset into a Pandas dataframe.\n",
        "\n",
        "# Write any code needed to explore the data by seeing what the first few \n",
        "# rows look like. Then display a technical summary of the data to determine\n",
        "# the data types of each column, and which columns have missing data.\n"
      ],
      "execution_count": null,
      "outputs": []
    },
    {
      "cell_type": "markdown",
      "metadata": {
        "id": "q-O80D5JH9yA",
        "colab_type": "text"
      },
      "source": [
        "## Part 2: Probabilities\n",
        "\n",
        "An easy way to calcuate the probabilities "
      ]
    },
    {
      "cell_type": "code",
      "metadata": {
        "id": "AMKxXySGJVnC",
        "colab_type": "code",
        "colab": {}
      },
      "source": [
        "# Part 2: # Import the seaborn library the conventional way. Then optionally \n",
        "# configure the default chart style. Then, write the code needed to generate \n",
        "# the visualizations specified.\n",
        " \n"
      ],
      "execution_count": null,
      "outputs": []
    },
    {
      "cell_type": "markdown",
      "metadata": {
        "id": "CqdAa4EfJ9T0",
        "colab_type": "text"
      },
      "source": [
        "## Part 3: Pairwise Comparisons\n",
        "Using seaborn's barchart function we can look at how the survival distribution varied across different groups.\n",
        "\n",
        "- Choose some features that you think might have had some influence over the likelihood of a titanic passenger surviving.\n",
        "\n",
        "- For each of those features, generate visualizations using the [`barchart` function](https://seaborn.pydata.org/tutorial/categorical.html) to show the survival distributions."
      ]
    },
    {
      "cell_type": "code",
      "metadata": {
        "id": "i8wdC-qpPjqF",
        "colab_type": "code",
        "colab": {}
      },
      "source": [
        "# Write the code to explore how different features affect the survival distribution\n"
      ],
      "execution_count": null,
      "outputs": []
    },
    {
      "cell_type": "markdown",
      "metadata": {
        "id": "pbWoEw50GsmZ",
        "colab_type": "text"
      },
      "source": [
        "### Adding Another Dimension\n",
        "Now, let's use the `hue` parameter to allow us to add a third dimension to our data.\n",
        "\n",
        "- Choose pairs of features you think are interesting and chart them against the survival distribution."
      ]
    },
    {
      "cell_type": "code",
      "metadata": {
        "id": "4Vz12gFOHRcH",
        "colab_type": "code",
        "colab": {}
      },
      "source": [
        "# Write the code to visualize passenger survival rates based on two different\n",
        "# features."
      ],
      "execution_count": null,
      "outputs": []
    },
    {
      "cell_type": "markdown",
      "metadata": {
        "id": "cl30h29pWp26",
        "colab_type": "text"
      },
      "source": [
        "## Part 4: Feature Engineering\n",
        "\n",
        "The museum curator wonders if the passenger's rank and title might have anything to do with whether or not they survived. Since this information is embedded in their name, we'll use \"feature engineering\" to create two new columns:\n",
        "\n",
        "- Title: The passenger's title\n",
        "- Rank: A boolean (true/false) indicating if a passenger was someone of rank.\n",
        "\n",
        "For the first new column, you'll need to find a way to [extract the title portion of their name](https://pandas.pydata.org/docs/getting_started/intro_tutorials/10_text_data.html). Be sure to clean up any whitespace or extra punctuation.\n",
        "\n",
        "For the second new column, you'll need to first look at a summary of your list of titles and decide what exactly constitutes a title of rank. Will you include military and eccelsiastical titles? Once you've made your decision, create the second column.\n",
        "\n",
        "You may want to review prior Data Explorations for tips on creating new columns and checking for lists of values."
      ]
    },
    {
      "cell_type": "code",
      "metadata": {
        "id": "6UZKj1yMXTYg",
        "colab_type": "code",
        "colab": {}
      },
      "source": [
        "# Enter the code needed to create the two new columns"
      ],
      "execution_count": null,
      "outputs": []
    },
    {
      "cell_type": "markdown",
      "metadata": {
        "id": "StdIGjYSMWLu",
        "colab_type": "text"
      },
      "source": [
        "### Revisit Visualizations\n",
        "Now that you have the new columns in place. Revisit the pairwise comparison plots to see if the new columns reveal any interesting relationships. Don't forget to check with and without different `hue` variations."
      ]
    },
    {
      "cell_type": "code",
      "metadata": {
        "id": "y-F84gEyMnyk",
        "colab_type": "code",
        "colab": {}
      },
      "source": [
        "# Enter the code needed to recheck the pairwise comparison. Try different variations of the hue parameter."
      ],
      "execution_count": null,
      "outputs": []
    },
    {
      "cell_type": "markdown",
      "metadata": {
        "id": "QYzO-aanI1Qh",
        "colab_type": "text"
      },
      "source": [
        "### Simplifying Data\n",
        "There appears to be a lot of different variations of similar titles. (such as abbreviations for Miss and Mademoiselle). \n",
        "\n",
        "Scan through the different titles to see which titles can be consolidated, then use what you know about data manipulation to simplify the distribution.\n",
        "\n",
        "Once you've finished, check the visualizations again to see if that made any difference."
      ]
    },
    {
      "cell_type": "code",
      "metadata": {
        "id": "Bp1u2NXYNoS0",
        "colab_type": "code",
        "colab": {}
      },
      "source": [
        "# Enter the code needed to consolidate some of the different title variations \n",
        "# Recheck the pairwise distributions to see if it made a difference."
      ],
      "execution_count": null,
      "outputs": []
    },
    {
      "cell_type": "markdown",
      "metadata": {
        "id": "7EA2lAfbYRAc",
        "colab_type": "text"
      },
      "source": [
        "# Part 5: Conclusions\n",
        "\n",
        "Based on your analysis, what interesting relationships did you find? Write three interesting facts the museum can use in their exhibit."
      ]
    },
    {
      "cell_type": "markdown",
      "metadata": {
        "id": "3tOuwFOZYvVP",
        "colab_type": "text"
      },
      "source": [
        "## 🌟 Above and Beyond 🌟\n",
        "\n",
        "The museum curator has room for a couple of nice visualizations for the exhibit. \n",
        "\n",
        "1. Use Seaborn's customization features to clean up some of the more interesting visualizations to make them suitable for public display.\n",
        "\n",
        "2. Use the [GeoPandas library](https://geopandas.org) to create a [Choropleth Map](https://geopandas.org/mapping.html#choropleth-maps) of the likelihood of a Titanic passenger surviving based on their port of embarkation."
      ]
    }
  ]
}