{
  "cells": [
    {
      "cell_type": "markdown",
      "metadata": {
        "id": "dYY_wyUQuxmS"
      },
      "source": [
        "Prep work:\n",
        "\n",
        "*   Download student csv predictions from I-Learn\n",
        "*   Rename files to team8-module2-predictions.csv where team8 is the name of the team\n",
        "*   Make sure file is one column and remove any extra columns\n",
        "*   Make sure the heading is set to \"predictions\" (without quotes)\n",
        "*   Upload student csv predictions to session storage area.\n",
        "*   Upload module2-holdout-answers.csv found in the Canvas module (DO NOT SHARE THIS FILE)\n",
        "*   Run the notebook\n",
        "\n",
        "\n",
        "\n",
        "\n"
      ]
    },
    {
      "cell_type": "code",
      "execution_count": null,
      "metadata": {
        "id": "ZeZMLW3ytz01"
      },
      "outputs": [],
      "source": [
        "# MODULE 02 - BANK HOLDOUT GRADING\n",
        "\n",
        "from pathlib import Path\n",
        "import pandas as pd\n",
        "import seaborn as sns\n",
        "import matplotlib.pyplot as plt\n",
        "import numpy as np\n",
        "from sklearn.metrics import confusion_matrix\n",
        "\n",
        "level_for_top_score = 7200\n",
        "level_for_bottom_score = 5500\n",
        "\n",
        "# READ IN THE CSV FILES\n",
        "team_dir = Path(\"./\")\n",
        "teams = team_dir.glob(\"*-predictions.csv\")\n",
        "team_list = []\n",
        "for team in teams:\n",
        "  # print(latent_file)\n",
        "  team_list.append((str(team).split(\"-\",1)[0],team))\n",
        "\n",
        "# print(team_list)"
      ]
    },
    {
      "cell_type": "code",
      "execution_count": null,
      "metadata": {
        "id": "HhWSijWbvqMW"
      },
      "outputs": [],
      "source": [
        "# READ IN THE HOLDOUT ANSWERS\n",
        "targets_file = \"module2-holdout-answers.csv\"\n",
        "targets = pd.read_csv(targets_file)\n",
        "# targets"
      ]
    },
    {
      "cell_type": "code",
      "execution_count": null,
      "metadata": {
        "colab": {
          "base_uri": "https://localhost:8080/"
        },
        "id": "gSHn-_3f0eqx",
        "outputId": "f6ae51a5-1907-4681-cfaa-f05a32ff9491"
      },
      "outputs": [
        {
          "name": "stdout",
          "output_type": "stream",
          "text": [
            "Group team3 added successfully\n",
            "Group team9 added successfully\n",
            "Group team2 added successfully\n",
            "Group team8 added successfully\n",
            "Group team6 added successfully\n",
            "Group team5 added successfully\n",
            "Error group team10_bank ds had 1515 rows instead of the expected 4119. It will be excluded.\n",
            "Group team4 added successfully\n",
            "Group team1 added successfully\n"
          ]
        }
      ],
      "source": [
        "# ARE THE STUDENT DATASETS THE CORRECT LENGTH\n",
        "student_datasets = {}\n",
        "for (group, file) in team_list:\n",
        "  ds = pd.read_csv(file)\n",
        "  \n",
        "  if ds.shape != targets.shape:\n",
        "    if ds.shape[1] == 2 and ds.shape[0] == targets.shape[0]:\n",
        "      ds = ds.drop(ds.columns[[0]],axis = 1)\n",
        "      student_datasets[group] = ds\n",
        "      print(f\"Group {group} added successfully after removing extra index column\")      \n",
        "    else:\n",
        "      print(f\"Error group {group} ds had {ds.shape} rows and columns instead of the expected {targets.shape}. It will be excluded.\")\n",
        "  else:\n",
        "    student_datasets[group] = ds\n",
        "    print(f\"Group {group} added successfully\")"
      ]
    },
    {
      "cell_type": "code",
      "execution_count": null,
      "metadata": {
        "id": "9sBeLEAl1OXi"
      },
      "outputs": [],
      "source": [
        "# student_datasets"
      ]
    },
    {
      "cell_type": "code",
      "execution_count": null,
      "metadata": {
        "id": "jT2EIFkK-z9c"
      },
      "outputs": [],
      "source": [
        "def recommended_grade(amount):\n",
        "  '''\n",
        "  A simple min max scaler to identify a recommended score for the holdout set\n",
        "  '''\n",
        "  min_allowed = level_for_bottom_score\n",
        "  max_allowed = level_for_top_score\n",
        "  if amount>max_allowed:\n",
        "    return 100\n",
        "  elif amount<min_allowed:\n",
        "    return 0\n",
        "  else:\n",
        "    return (amount - min_allowed) / (max_allowed - min_allowed)*100\n",
        "    "
      ]
    },
    {
      "cell_type": "code",
      "execution_count": null,
      "metadata": {
        "id": "I6TFZng56xoL"
      },
      "outputs": [],
      "source": [
        "def value_of_calls(incorrect_calls, correct_calls):\n",
        "  '''\n",
        "  This function is based on assumptions about bank employee wages, time requirements,\n",
        "  average savings amounts, and net interest margin. Wages, average savings, and net interest margin,\n",
        "  were pulled from the time range of the dataset. Assumptions were made about time on call and the \n",
        "  percentage of a person's total savings they'd be willing to put into a term deposit.\n",
        "  '''\n",
        "  time_on_call = .5\n",
        "  wage = -11 # minimum wage is 6.50 and typicall teller wage is 11\n",
        "  call_cost = wage*time_on_call\n",
        "  average_savings = 4960\n",
        "  percent_in_term_deposit = .75\n",
        "  net_interest_margin = .012\n",
        "  positive_call_benefit = average_savings*percent_in_term_deposit*net_interest_margin\n",
        "  total_earned = incorrect_calls*call_cost + correct_calls*call_cost + correct_calls*positive_call_benefit\n",
        "  return total_earned\n"
      ]
    },
    {
      "cell_type": "code",
      "execution_count": null,
      "metadata": {
        "id": "LhxXUH3d2Lqy"
      },
      "outputs": [],
      "source": [
        "results_dict = {}"
      ]
    },
    {
      "cell_type": "code",
      "execution_count": null,
      "metadata": {
        "id": "mS0t9a551Pbw"
      },
      "outputs": [],
      "source": [
        "for group, student_ds in student_datasets.items():\n",
        "  student_dict = {}\n",
        "  cm = confusion_matrix(student_ds, targets)\n",
        "  # print(group,cm)\n",
        "  student_dict[\"Incorrect Calls\"] = cm[1][0]\n",
        "  student_dict[\"Correct Calls\"] = cm[1][1]\n",
        "  student_dict[\"Value of Calls\"] = value_of_calls(cm[1][0],cm[1][1])\n",
        "  student_dict[\"Grade\"] = recommended_grade(student_dict['Value of Calls'])\n",
        "\n",
        "  results_dict[group] = student_dict"
      ]
    },
    {
      "cell_type": "code",
      "execution_count": null,
      "metadata": {
        "id": "TOe4NUIX36KP"
      },
      "outputs": [],
      "source": [
        "# results_dict"
      ]
    },
    {
      "cell_type": "code",
      "execution_count": null,
      "metadata": {
        "id": "DfrNcraU2VwJ"
      },
      "outputs": [],
      "source": [
        "results_df = pd.DataFrame(results_dict)\n",
        "results_ds_trans = results_df.transpose()\n",
        "results_ds_trans = results_ds_trans.drop(columns=[\"Grade\"])\n",
        "results_ds_trans = results_ds_trans.round(2)\n",
        "results_ds_trans = results_ds_trans.sort_values(by=\"Value of Calls\",ascending=False)\n",
        "# results_ds_trans.to_csv(\"class_results.csv\")\n",
        "# results_ds_trans"
      ]
    },
    {
      "cell_type": "code",
      "execution_count": null,
      "metadata": {
        "colab": {
          "base_uri": "https://localhost:8080/",
          "height": 564
        },
        "id": "D3fwfvsg9K3D",
        "outputId": "723d0d18-6288-4da9-ba54-8d51217879e2"
      },
      "outputs": [
        {
          "data": {
            "image/png": "[encoded data removed]",
            "text/plain": [
              "<Figure size 432x288 with 1 Axes>"
            ]
          },
          "metadata": {
            "needs_background": "light"
          },
          "output_type": "display_data"
        },
        {
          "data": {
            "text/html": [
              "<div>\n",
              "<style scoped>\n",
              "    .dataframe tbody tr th:only-of-type {\n",
              "        vertical-align: middle;\n",
              "    }\n",
              "\n",
              "    .dataframe tbody tr th {\n",
              "        vertical-align: top;\n",
              "    }\n",
              "\n",
              "    .dataframe thead th {\n",
              "        text-align: right;\n",
              "    }\n",
              "</style>\n",
              "<table border=\"1\" class=\"dataframe\">\n",
              "  <thead>\n",
              "    <tr style=\"text-align: right;\">\n",
              "      <th></th>\n",
              "      <th>Incorrect Calls</th>\n",
              "      <th>Correct Calls</th>\n",
              "      <th>Value of Calls</th>\n",
              "    </tr>\n",
              "  </thead>\n",
              "  <tbody>\n",
              "    <tr>\n",
              "      <th>team5</th>\n",
              "      <td>166.0</td>\n",
              "      <td>374.0</td>\n",
              "      <td>13725.36</td>\n",
              "    </tr>\n",
              "    <tr>\n",
              "      <th>team1</th>\n",
              "      <td>459.0</td>\n",
              "      <td>291.0</td>\n",
              "      <td>8865.24</td>\n",
              "    </tr>\n",
              "    <tr>\n",
              "      <th>team9</th>\n",
              "      <td>186.0</td>\n",
              "      <td>248.0</td>\n",
              "      <td>8683.72</td>\n",
              "    </tr>\n",
              "    <tr>\n",
              "      <th>team6</th>\n",
              "      <td>357.0</td>\n",
              "      <td>261.0</td>\n",
              "      <td>8252.04</td>\n",
              "    </tr>\n",
              "    <tr>\n",
              "      <th>team8</th>\n",
              "      <td>512.0</td>\n",
              "      <td>279.0</td>\n",
              "      <td>8104.06</td>\n",
              "    </tr>\n",
              "    <tr>\n",
              "      <th>team3</th>\n",
              "      <td>616.0</td>\n",
              "      <td>281.0</td>\n",
              "      <td>7610.34</td>\n",
              "    </tr>\n",
              "    <tr>\n",
              "      <th>team4</th>\n",
              "      <td>968.0</td>\n",
              "      <td>313.0</td>\n",
              "      <td>6926.82</td>\n",
              "    </tr>\n",
              "    <tr>\n",
              "      <th>team2</th>\n",
              "      <td>3001.0</td>\n",
              "      <td>402.0</td>\n",
              "      <td>-771.22</td>\n",
              "    </tr>\n",
              "  </tbody>\n",
              "</table>\n",
              "</div>"
            ],
            "text/plain": [
              "       Incorrect Calls  Correct Calls  Value of Calls\n",
              "team5            166.0          374.0        13725.36\n",
              "team1            459.0          291.0         8865.24\n",
              "team9            186.0          248.0         8683.72\n",
              "team6            357.0          261.0         8252.04\n",
              "team8            512.0          279.0         8104.06\n",
              "team3            616.0          281.0         7610.34\n",
              "team4            968.0          313.0         6926.82\n",
              "team2           3001.0          402.0         -771.22"
            ]
          },
          "execution_count": 240,
          "metadata": {},
          "output_type": "execute_result"
        }
      ],
      "source": [
        "# GENERATE GRAPHICS FOR TEAMS \n",
        "# THESE CAN BE SHARED WITH THE STUDENTS\n",
        "\n",
        "graph = sns.barplot(data=results_ds_trans,y=\"Value of Calls\",x=results_ds_trans.index)\n",
        "graph.set_title(\"Amount Earned by Team\")\n",
        "graph.axhline(level_for_top_score)\n",
        "for bar in graph.patches:\n",
        "    if bar.get_height() > level_for_top_score:\n",
        "        bar.set_color('tab:blue') \n",
        "    elif bar.get_height() <0:\n",
        "      bar.set_color('tab:red')         \n",
        "    elif bar.get_height() < level_for_bottom_score:\n",
        "      bar.set_color('tab:orange')  \n",
        "    else:\n",
        "        bar.set_color('tab:grey')\n",
        "#The plot is shown\n",
        "plt.show()\n",
        "results_ds_trans"
      ]
    },
    {
      "cell_type": "code",
      "execution_count": null,
      "metadata": {
        "colab": {
          "base_uri": "https://localhost:8080/",
          "height": 300
        },
        "id": "92k4OAHCFZp7",
        "outputId": "edb6f5ff-8150-4b99-95bc-d4582b358598"
      },
      "outputs": [
        {
          "data": {
            "text/html": [
              "<div>\n",
              "<style scoped>\n",
              "    .dataframe tbody tr th:only-of-type {\n",
              "        vertical-align: middle;\n",
              "    }\n",
              "\n",
              "    .dataframe tbody tr th {\n",
              "        vertical-align: top;\n",
              "    }\n",
              "\n",
              "    .dataframe thead th {\n",
              "        text-align: right;\n",
              "    }\n",
              "</style>\n",
              "<table border=\"1\" class=\"dataframe\">\n",
              "  <thead>\n",
              "    <tr style=\"text-align: right;\">\n",
              "      <th></th>\n",
              "      <th>Incorrect Calls</th>\n",
              "      <th>Correct Calls</th>\n",
              "      <th>Value of Calls</th>\n",
              "      <th>Grade</th>\n",
              "    </tr>\n",
              "  </thead>\n",
              "  <tbody>\n",
              "    <tr>\n",
              "      <th>team5</th>\n",
              "      <td>166.0</td>\n",
              "      <td>374.0</td>\n",
              "      <td>13725.0</td>\n",
              "      <td>100.0</td>\n",
              "    </tr>\n",
              "    <tr>\n",
              "      <th>team1</th>\n",
              "      <td>459.0</td>\n",
              "      <td>291.0</td>\n",
              "      <td>8865.0</td>\n",
              "      <td>100.0</td>\n",
              "    </tr>\n",
              "    <tr>\n",
              "      <th>team9</th>\n",
              "      <td>186.0</td>\n",
              "      <td>248.0</td>\n",
              "      <td>8684.0</td>\n",
              "      <td>100.0</td>\n",
              "    </tr>\n",
              "    <tr>\n",
              "      <th>team6</th>\n",
              "      <td>357.0</td>\n",
              "      <td>261.0</td>\n",
              "      <td>8252.0</td>\n",
              "      <td>100.0</td>\n",
              "    </tr>\n",
              "    <tr>\n",
              "      <th>team8</th>\n",
              "      <td>512.0</td>\n",
              "      <td>279.0</td>\n",
              "      <td>8104.0</td>\n",
              "      <td>96.0</td>\n",
              "    </tr>\n",
              "    <tr>\n",
              "      <th>team3</th>\n",
              "      <td>616.0</td>\n",
              "      <td>281.0</td>\n",
              "      <td>7610.0</td>\n",
              "      <td>73.0</td>\n",
              "    </tr>\n",
              "    <tr>\n",
              "      <th>team4</th>\n",
              "      <td>968.0</td>\n",
              "      <td>313.0</td>\n",
              "      <td>6927.0</td>\n",
              "      <td>42.0</td>\n",
              "    </tr>\n",
              "    <tr>\n",
              "      <th>team2</th>\n",
              "      <td>3001.0</td>\n",
              "      <td>402.0</td>\n",
              "      <td>-771.0</td>\n",
              "      <td>0.0</td>\n",
              "    </tr>\n",
              "  </tbody>\n",
              "</table>\n",
              "</div>"
            ],
            "text/plain": [
              "       Incorrect Calls  Correct Calls  Value of Calls  Grade\n",
              "team5            166.0          374.0         13725.0  100.0\n",
              "team1            459.0          291.0          8865.0  100.0\n",
              "team9            186.0          248.0          8684.0  100.0\n",
              "team6            357.0          261.0          8252.0  100.0\n",
              "team8            512.0          279.0          8104.0   96.0\n",
              "team3            616.0          281.0          7610.0   73.0\n",
              "team4            968.0          313.0          6927.0   42.0\n",
              "team2           3001.0          402.0          -771.0    0.0"
            ]
          },
          "execution_count": 242,
          "metadata": {},
          "output_type": "execute_result"
        }
      ],
      "source": [
        "results_df = pd.DataFrame(results_dict)\n",
        "results_ds_trans = results_df.transpose()\n",
        "results_ds_trans = results_ds_trans.round(0)\n",
        "results_ds_trans = results_ds_trans.sort_values(by=\"Value of Calls\",ascending=False)\n",
        "results_ds_trans.to_csv(\"class_results.csv\")\n",
        "results_ds_trans"
      ]
    }
  ],
  "metadata": {
    "colab": {
      "collapsed_sections": [],
      "name": "Module02-bank-grading.ipynb",
      "provenance": []
    },
    "kernelspec": {
      "display_name": "Python 3",
      "language": "python",
      "name": "python3"
    },
    "language_info": {
      "name": "python",
      "version": "3.8.5 (tags/v3.8.5:580fbb0, Jul 20 2020, 15:43:08) [MSC v.1926 32 bit (Intel)]"
    },
    "vscode": {
      "interpreter": {
        "hash": "011be37f879e0ba7a3d94f28c1e9a24aca4c9c0e96be9163ce8dabdf859b445e"
      }
    }
  },
  "nbformat": 4,
  "nbformat_minor": 0
}
