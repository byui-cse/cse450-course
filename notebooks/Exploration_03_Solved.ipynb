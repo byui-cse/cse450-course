{
  "nbformat": 4,
  "nbformat_minor": 0,
  "metadata": {
    "colab": {
      "name": "Exploration-03-Solved.ipynb",
      "provenance": [],
      "collapsed_sections": []
    },
    "kernelspec": {
      "name": "python3",
      "display_name": "Python 3"
    }
  },
  "cells": [
    {
      "cell_type": "markdown",
      "metadata": {
        "id": "LB9TN5GKEyhw",
        "colab_type": "text"
      },
      "source": [
        "# Data Exploration 03\n",
        "\n",
        "You're working on an exhibit for a local museum called \"The Titanic Disaster\". They've asked you to analyze the passenger manifests and see if you can find any interesting information for the exhibit. \n",
        "\n",
        "The museum curator is particularly interested in why some people might have been more likely to survive than others."
      ]
    },
    {
      "cell_type": "markdown",
      "metadata": {
        "id": "agqlq8RKFbry",
        "colab_type": "text"
      },
      "source": [
        "## Part 1: Import Pandas and load the data\n",
        "\n",
        "Remember to import Pandas the conventional way. If you've forgotten how, you may want to review [Data Exploration 01](https://byui-cse.github.io/cse450-course/module-01/exploration-01.html).\n",
        "\n",
        "The dataset for this exploration is stored at the following url:\n",
        "\n",
        "`https://raw.githubusercontent.com/byui-cse/cse450-course/master/data/titanic.csv`\n",
        "\n",
        "There are lots of ways to load data into your workspace. The easiest way in this case is to [ask Pandas to do it for you](https://pandas.pydata.org/docs/getting_started/intro_tutorials/02_read_write.html).\n",
        "\n",
        "### Initial Data Analysis\n",
        "Once you've loaded the data, it's a good idea to poke around a little bit to find out what you're dealing with.\n",
        "\n",
        "Some questions you might ask include:\n",
        "\n",
        "* What does the data look like?\n",
        "* What kind of data is in each column? \n",
        "* Do any of the columns have missing values? "
      ]
    },
    {
      "cell_type": "code",
      "metadata": {
        "id": "14b9y6LKEvEm",
        "colab_type": "code",
        "colab": {}
      },
      "source": [
        "# Part 1: Enter your code below to import Pandas according to the \n",
        "# conventional method. Then load the dataset into a Pandas dataframe.\n",
        "\n",
        "\n",
        "# Write any code needed to explore the data by seeing what the first few \n",
        "# rows look like. Then display a technical summary of the data to determine\n",
        "# the data types of each column, and which columns have missing data.\n"
      ],
      "execution_count": null,
      "outputs": []
    },
    {
      "cell_type": "markdown",
      "metadata": {
        "id": "q-O80D5JH9yA",
        "colab_type": "text"
      },
      "source": [
        "## Part 2: Initial Exploration\n",
        "\n",
        "Using seaborn, let's first look at some features in isolation. Generate visualizations showing:\n",
        "\n",
        "- A comparison of the total number of passengers who survived compared to those that died.\n",
        "- A comparison of the total number of males compared to females\n",
        "- A histogram showing the distribution of sibling/spouse counts\n",
        "- A histogram showing the distribution of parent/child counts"
      ]
    },
    {
      "cell_type": "code",
      "metadata": {
        "id": "AMKxXySGJVnC",
        "colab_type": "code",
        "colab": {}
      },
      "source": [
        "# Part 2: # Import the seaborn library the conventional way. Then optionally \n",
        "# configure the default chart style. Then, write the code needed to generate \n",
        "# the visualizations specified.\n",
        " \n"
      ],
      "execution_count": null,
      "outputs": []
    },
    {
      "cell_type": "markdown",
      "metadata": {
        "id": "CqdAa4EfJ9T0",
        "colab_type": "text"
      },
      "source": [
        "## Part 3: Pairwise Comparisons\n",
        "\n",
        "Create a subset of data containing only the qualitative columns. (But remember the warning given in the [Features in Disguise aside in Reading 02](https://byui-cse.github.io/cse450-course/module-01/preparation-02.html)).\n",
        "\n",
        "Use Seaborn's [Pairwise Relationships Plot](https://seaborn.pydata.org/tutorial/distributions.html#visualizing-pairwise-relationships-in-a-dataset) to find any interesting relationships between these features.\n",
        "\n"
      ]
    },
    {
      "cell_type": "code",
      "metadata": {
        "id": "i8wdC-qpPjqF",
        "colab_type": "code",
        "colab": {}
      },
      "source": [
        "# Write the code to show the pairwise relationships between the columns you selected.\n",
        "\n"
      ],
      "execution_count": null,
      "outputs": []
    },
    {
      "cell_type": "markdown",
      "metadata": {
        "id": "pbWoEw50GsmZ",
        "colab_type": "text"
      },
      "source": [
        "### Adding another dimension\n",
        "\n",
        "Use the `hue` variable of the pairplot function to visualize how the distributions vary based on whether or not the passenger survived.\n",
        "\n",
        "Try using other values for hue to see if it makes a difference."
      ]
    },
    {
      "cell_type": "code",
      "metadata": {
        "id": "4Vz12gFOHRcH",
        "colab_type": "code",
        "colab": {}
      },
      "source": [
        "# Write the code below to visualize the pairwise distributions based on whether \n",
        "# or not the passenger surived. Try using other values for hue to see if it makes\n",
        "# a difference."
      ],
      "execution_count": null,
      "outputs": []
    },
    {
      "cell_type": "markdown",
      "metadata": {
        "id": "cl30h29pWp26",
        "colab_type": "text"
      },
      "source": [
        "## Part 4: Feature Engineering\n",
        "\n",
        "The museum curator wonders if the passenger's rank and title might have anything to do with whether or not they survived. Since this information is embedded in their name, we'll use \"feature engineering\" to create two new columns:\n",
        "\n",
        "- Title: The passenger's title\n",
        "- Rank: A boolean (true/false) indicating if a passenger was someone of rank.\n",
        "\n",
        "For the first new column, you'll need to find a way to [extract the title portion of their name](https://pandas.pydata.org/docs/getting_started/intro_tutorials/10_text_data.html). Be sure to clean up any whitespace or extra punctuation.\n",
        "\n",
        "For the second new column, you'll need to first look at a summary of your list of titles and decide what exactly constitutes a title of rank. Will you include military and eccelsiastical titles? Once you've made your decision, create the second column.\n",
        "\n",
        "You may want to review prior Data Explorations for tips on creating new columns and checking for lists of values."
      ]
    },
    {
      "cell_type": "code",
      "metadata": {
        "id": "6UZKj1yMXTYg",
        "colab_type": "code",
        "colab": {}
      },
      "source": [
        "# Enter the code needed to create the two new columns"
      ],
      "execution_count": null,
      "outputs": []
    },
    {
      "cell_type": "markdown",
      "metadata": {
        "id": "StdIGjYSMWLu",
        "colab_type": "text"
      },
      "source": [
        "### Revisit Visualizations\n",
        "Now that you have the new columns in place. Revisit the pairwise comparison plots to see if the new columns reveal any interesting relationships. Don't forget to check with and without different `hue` variations."
      ]
    },
    {
      "cell_type": "code",
      "metadata": {
        "id": "y-F84gEyMnyk",
        "colab_type": "code",
        "colab": {}
      },
      "source": [
        "# Enter the code needed to recheck the pairwise comparison. Try different variations of the hue parameter."
      ],
      "execution_count": null,
      "outputs": []
    },
    {
      "cell_type": "markdown",
      "metadata": {
        "id": "QYzO-aanI1Qh",
        "colab_type": "text"
      },
      "source": [
        "### Simplifying Data\n",
        "There appears to be a lot of different variations of similar titles. (such as abbreviations for Miss and Mademoiselle). \n",
        "\n",
        "Scan through the different titles to see which titles can be consolidated, then use what you know about data manipulation to simplify the distribution.\n",
        "\n",
        "Once you've finished, check the visualizations again to see if that made any difference."
      ]
    },
    {
      "cell_type": "code",
      "metadata": {
        "id": "Bp1u2NXYNoS0",
        "colab_type": "code",
        "colab": {}
      },
      "source": [
        "# Enter the code needed to consolidate some of the different title variations \n",
        "# Recheck the pairwise distributions to see if it made a difference."
      ],
      "execution_count": null,
      "outputs": []
    },
    {
      "cell_type": "markdown",
      "metadata": {
        "id": "7EA2lAfbYRAc",
        "colab_type": "text"
      },
      "source": [
        "# Part 5: Conclusions\n",
        "\n",
        "Based on your analysis, what interesting relationships did you find? Write three interesting facts the museum can use in their exhibit."
      ]
    },
    {
      "cell_type": "markdown",
      "metadata": {
        "id": "3tOuwFOZYvVP",
        "colab_type": "text"
      },
      "source": [
        "## 🌟 Above and Beyond 🌟\n",
        "\n",
        "The museum curator has room for a couple of nice visualizations for the exhibit. \n",
        "\n",
        "1. Use Seaborn's customization features to clean up some of the more interesting visualizations to make them suitable for public display.\n",
        "\n",
        "2. Use the [GeoPandas library](https://geopandas.org) to create a [Choropleth Map](https://geopandas.org/mapping.html#choropleth-maps) of the likelihood of a Titanic passenger surviving based on their port of embarkation."
      ]
    }
  ]
}