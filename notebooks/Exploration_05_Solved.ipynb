{
  "nbformat": 4,
  "nbformat_minor": 0,
  "metadata": {
    "colab": {
      "name": "Exploration-05-Solved.ipynb",
      "provenance": [],
      "authorship_tag": "ABX9TyPvAd8pXBw9NPvpVOwavdgQ"
    },
    "kernelspec": {
      "name": "python3",
      "display_name": "Python 3"
    }
  },
  "cells": [
    {
      "cell_type": "markdown",
      "metadata": {
        "id": "ferRqThzfTTg",
        "colab_type": "text"
      },
      "source": [
        "# Covid 19 Probabilities\n",
        "\n",
        "The data analyst firm you work for has been contracted by a local Health Authority to conduct a risk assessment of Covid-19.\n",
        "\n",
        "Your research supervisor has asked you to use the latest CDC case data to preform a Bayesian analysis to calculate the probability of death from Covid-19 among certain demographics."
      ]
    },
    {
      "cell_type": "markdown",
      "metadata": {
        "id": "7T2v_mBtgmOZ",
        "colab_type": "text"
      },
      "source": [
        "# Part 1 - Download data\n",
        "In order to import the data from the CDC, you'll first need to install a python library to give you access to the Socrata API used by the CDC:\n",
        "\n",
        "    !pip install sodapy\n",
        "\n",
        "After that, you'll need to import the latest Covid-19 case data. For an example of how to do so, visit the [Socrata CDC API Site for the Covid-19 case data](https://dev.socrata.com/foundry/data.cdc.gov/vbim-akqf/), scroll down to the section labeled `Code Snippets`, and click on the `Python Pandas` tab.\n",
        "\n",
        "*Some things to note:*\n",
        "\n",
        "* Since this is public data, you do not need to use an authentication token. \n",
        "\n",
        "* Instead of fetching 2,000 records as in the example, set your limit to 3,000,000 records. This will retrieve approximately 3/4 of the data.\n",
        "\n",
        "* You can name your variables whatever you want. For example, when converting the data into a dataframe, you could do:\n",
        "\n",
        "\n",
        "    cases = pd.DataFrame.from_records(results)\n",
        "\n",
        "* With that many records, it will take a bit of time to download. Be careful to put the download command in a separate code cell from the rest of your analysis work, so that Colab doesn't rerun the download command everytime you make a change to your analysis."
      ]
    },
    {
      "cell_type": "code",
      "metadata": {
        "id": "iucCTDLijjZl",
        "colab_type": "code",
        "colab": {
          "base_uri": "https://localhost:8080/",
          "height": 136
        },
        "outputId": "6becb8e4-41e8-4eeb-887c-2be0e43ce232"
      },
      "source": [
        "# Install sodapy and import libraries\n",
        "!pip install sodapy\n",
        "from sodapy import Socrata\n",
        "import pandas as pd\n",
        "\n",
        "# Import data from CDC and convert to a pandas dataframe\n",
        "client = Socrata(\"data.cdc.gov\", None)\n",
        "results = client.get(\"vbim-akqf\", limit=3000000)\n",
        "\n",
        "cases = pd.DataFrame.from_records(results)"
      ],
      "execution_count": 1,
      "outputs": [
        {
          "output_type": "stream",
          "text": [
            "Requirement already satisfied: sodapy in /usr/local/lib/python3.6/dist-packages (2.1.0)\n",
            "Requirement already satisfied: requests>=2.20.0 in /usr/local/lib/python3.6/dist-packages (from sodapy) (2.23.0)\n",
            "Requirement already satisfied: idna<3,>=2.5 in /usr/local/lib/python3.6/dist-packages (from requests>=2.20.0->sodapy) (2.10)\n",
            "Requirement already satisfied: certifi>=2017.4.17 in /usr/local/lib/python3.6/dist-packages (from requests>=2.20.0->sodapy) (2020.6.20)\n",
            "Requirement already satisfied: chardet<4,>=3.0.2 in /usr/local/lib/python3.6/dist-packages (from requests>=2.20.0->sodapy) (3.0.4)\n",
            "Requirement already satisfied: urllib3!=1.25.0,!=1.25.1,<1.26,>=1.21.1 in /usr/local/lib/python3.6/dist-packages (from requests>=2.20.0->sodapy) (1.24.3)\n"
          ],
          "name": "stdout"
        },
        {
          "output_type": "stream",
          "text": [
            "WARNING:root:Requests made without an app_token will be subject to strict throttling limits.\n"
          ],
          "name": "stderr"
        }
      ]
    },
    {
      "cell_type": "markdown",
      "metadata": {
        "id": "OGOGWKLUj_QH",
        "colab_type": "text"
      },
      "source": [
        "### Initial data analysis\n",
        "Once you have imported the data, perform a brief analysis to become familiar with the data.\n"
      ]
    },
    {
      "cell_type": "code",
      "metadata": {
        "id": "OKy4tDgdj7y8",
        "colab_type": "code",
        "colab": {
          "base_uri": "https://localhost:8080/",
          "height": 595
        },
        "outputId": "5a91506a-cbcb-4c61-e537-98a18424557c"
      },
      "source": [
        "# Initial data analysis\n",
        "cases.info()\n",
        "cases.head()"
      ],
      "execution_count": 2,
      "outputs": [
        {
          "output_type": "stream",
          "text": [
            "<class 'pandas.core.frame.DataFrame'>\n",
            "RangeIndex: 3000000 entries, 0 to 2999999\n",
            "Data columns (total 11 columns):\n",
            " #   Column                   Dtype \n",
            "---  ------                   ----- \n",
            " 0   cdc_report_dt            object\n",
            " 1   pos_spec_dt              object\n",
            " 2   current_status           object\n",
            " 3   sex                      object\n",
            " 4   age_group                object\n",
            " 5   race_ethnicity_combined  object\n",
            " 6   hosp_yn                  object\n",
            " 7   icu_yn                   object\n",
            " 8   death_yn                 object\n",
            " 9   medcond_yn               object\n",
            " 10  onset_dt                 object\n",
            "dtypes: object(11)\n",
            "memory usage: 251.8+ MB\n"
          ],
          "name": "stdout"
        },
        {
          "output_type": "execute_result",
          "data": {
            "text/html": [
              "<div>\n",
              "<style scoped>\n",
              "    .dataframe tbody tr th:only-of-type {\n",
              "        vertical-align: middle;\n",
              "    }\n",
              "\n",
              "    .dataframe tbody tr th {\n",
              "        vertical-align: top;\n",
              "    }\n",
              "\n",
              "    .dataframe thead th {\n",
              "        text-align: right;\n",
              "    }\n",
              "</style>\n",
              "<table border=\"1\" class=\"dataframe\">\n",
              "  <thead>\n",
              "    <tr style=\"text-align: right;\">\n",
              "      <th></th>\n",
              "      <th>cdc_report_dt</th>\n",
              "      <th>pos_spec_dt</th>\n",
              "      <th>current_status</th>\n",
              "      <th>sex</th>\n",
              "      <th>age_group</th>\n",
              "      <th>race_ethnicity_combined</th>\n",
              "      <th>hosp_yn</th>\n",
              "      <th>icu_yn</th>\n",
              "      <th>death_yn</th>\n",
              "      <th>medcond_yn</th>\n",
              "      <th>onset_dt</th>\n",
              "    </tr>\n",
              "  </thead>\n",
              "  <tbody>\n",
              "    <tr>\n",
              "      <th>0</th>\n",
              "      <td>2020-03-03T00:00:00.000</td>\n",
              "      <td>2020-03-03T00:00:00.000</td>\n",
              "      <td>Laboratory-confirmed case</td>\n",
              "      <td>Male</td>\n",
              "      <td>0 - 9 Years</td>\n",
              "      <td>Unknown</td>\n",
              "      <td>Missing</td>\n",
              "      <td>Missing</td>\n",
              "      <td>Missing</td>\n",
              "      <td>Missing</td>\n",
              "      <td>NaN</td>\n",
              "    </tr>\n",
              "    <tr>\n",
              "      <th>1</th>\n",
              "      <td>2020-03-03T00:00:00.000</td>\n",
              "      <td>2020-03-03T00:00:00.000</td>\n",
              "      <td>Laboratory-confirmed case</td>\n",
              "      <td>Female</td>\n",
              "      <td>0 - 9 Years</td>\n",
              "      <td>Unknown</td>\n",
              "      <td>Missing</td>\n",
              "      <td>Missing</td>\n",
              "      <td>Missing</td>\n",
              "      <td>Missing</td>\n",
              "      <td>NaN</td>\n",
              "    </tr>\n",
              "    <tr>\n",
              "      <th>2</th>\n",
              "      <td>2020-04-07T00:00:00.000</td>\n",
              "      <td>2020-03-03T00:00:00.000</td>\n",
              "      <td>Laboratory-confirmed case</td>\n",
              "      <td>Unknown</td>\n",
              "      <td>0 - 9 Years</td>\n",
              "      <td>Unknown</td>\n",
              "      <td>No</td>\n",
              "      <td>Missing</td>\n",
              "      <td>Missing</td>\n",
              "      <td>Missing</td>\n",
              "      <td>2020-03-03T00:00:00.000</td>\n",
              "    </tr>\n",
              "    <tr>\n",
              "      <th>3</th>\n",
              "      <td>2020-08-04T00:00:00.000</td>\n",
              "      <td>2020-08-04T00:00:00.000</td>\n",
              "      <td>Probable Case</td>\n",
              "      <td>Male</td>\n",
              "      <td>0 - 9 Years</td>\n",
              "      <td>Unknown</td>\n",
              "      <td>Missing</td>\n",
              "      <td>Missing</td>\n",
              "      <td>Missing</td>\n",
              "      <td>Missing</td>\n",
              "      <td>NaN</td>\n",
              "    </tr>\n",
              "    <tr>\n",
              "      <th>4</th>\n",
              "      <td>2020-07-28T00:00:00.000</td>\n",
              "      <td>2020-08-04T00:00:00.000</td>\n",
              "      <td>Laboratory-confirmed case</td>\n",
              "      <td>Male</td>\n",
              "      <td>0 - 9 Years</td>\n",
              "      <td>Unknown</td>\n",
              "      <td>No</td>\n",
              "      <td>No</td>\n",
              "      <td>No</td>\n",
              "      <td>Missing</td>\n",
              "      <td>2020-07-28T00:00:00.000</td>\n",
              "    </tr>\n",
              "  </tbody>\n",
              "</table>\n",
              "</div>"
            ],
            "text/plain": [
              "             cdc_report_dt  ...                 onset_dt\n",
              "0  2020-03-03T00:00:00.000  ...                      NaN\n",
              "1  2020-03-03T00:00:00.000  ...                      NaN\n",
              "2  2020-04-07T00:00:00.000  ...  2020-03-03T00:00:00.000\n",
              "3  2020-08-04T00:00:00.000  ...                      NaN\n",
              "4  2020-07-28T00:00:00.000  ...  2020-07-28T00:00:00.000\n",
              "\n",
              "[5 rows x 11 columns]"
            ]
          },
          "metadata": {
            "tags": []
          },
          "execution_count": 2
        }
      ]
    },
    {
      "cell_type": "markdown",
      "metadata": {
        "id": "4nx7Hdmxkntb",
        "colab_type": "text"
      },
      "source": [
        "# Part 2 - Age Demographics\n",
        "\n",
        "The research director would like you to start by doing a simple age-based risk assessment. To do so, complete the following tasks:\n",
        "\n",
        "* First, check to see [how many samples there are in each age bracket](https://pandas.pydata.org/pandas-docs/stable/getting_started/intro_tutorials/06_calculate_statistics.html#count-number-of-records-by-category).\n",
        "* Next, [filter out any records](https://pandas.pydata.org/pandas-docs/stable/getting_started/intro_tutorials/03_subset_data.html#how-do-i-filter-specific-rows-from-a-dataframe) that have the values `NA` or `Unknown` for the `age_group` column, and check the counts again.  (You may find this task easier if you use a \"negation\" of the `isin()` function, as [discussed here](https://stackoverflow.com/questions/19960077/how-to-filter-pandas-dataframe-using-in-and-not-in-like-in-sql).\n"
      ]
    },
    {
      "cell_type": "code",
      "metadata": {
        "id": "MKIYffbIq3sM",
        "colab_type": "code",
        "colab": {
          "base_uri": "https://localhost:8080/",
          "height": 221
        },
        "outputId": "a17fbc96-1cfa-494a-ecb1-e2d1e47d98d5"
      },
      "source": [
        "# See what the values are\n",
        "cases['age_group'].value_counts()"
      ],
      "execution_count": 3,
      "outputs": [
        {
          "output_type": "execute_result",
          "data": {
            "text/plain": [
              "20 - 29 Years    614735\n",
              "40 - 49 Years    580660\n",
              "50 - 59 Years    564999\n",
              "60 - 69 Years    380136\n",
              "10 - 19 Years    234374\n",
              "30 - 39 Years    219768\n",
              "80+ Years        206172\n",
              "0 - 9 Years      108318\n",
              "70 - 79 Years     86698\n",
              "Unknown            4046\n",
              "NA                   94\n",
              "Name: age_group, dtype: int64"
            ]
          },
          "metadata": {
            "tags": []
          },
          "execution_count": 3
        }
      ]
    },
    {
      "cell_type": "code",
      "metadata": {
        "id": "I14J0UjykOxJ",
        "colab_type": "code",
        "colab": {
          "base_uri": "https://localhost:8080/",
          "height": 187
        },
        "outputId": "f541ef52-572c-40cb-b928-1d27cf1ed09a"
      },
      "source": [
        "# Filter out rows with missing age group values\n",
        "filtered = cases.loc[ ~cases['age_group'].isin(['NA', 'Unknown']) ]\n",
        "\n",
        "# Check the updated counts\n",
        "\n",
        "# Using sort_index() here to sort by the value names, could also use sort_values()\n",
        "# to sort by the counts, but that is done by default.\n",
        "filtered['age_group'].value_counts().sort_index()"
      ],
      "execution_count": 4,
      "outputs": [
        {
          "output_type": "execute_result",
          "data": {
            "text/plain": [
              "0 - 9 Years      108318\n",
              "10 - 19 Years    234374\n",
              "20 - 29 Years    614735\n",
              "30 - 39 Years    219768\n",
              "40 - 49 Years    580660\n",
              "50 - 59 Years    564999\n",
              "60 - 69 Years    380136\n",
              "70 - 79 Years     86698\n",
              "80+ Years        206172\n",
              "Name: age_group, dtype: int64"
            ]
          },
          "metadata": {
            "tags": []
          },
          "execution_count": 4
        }
      ]
    },
    {
      "cell_type": "markdown",
      "metadata": {
        "id": "hcOF5YM6o3f8",
        "colab_type": "text"
      },
      "source": [
        "### Additional Cleanup\n",
        "The research director tells you that you're going to be primarily working answer questions regarding age (`age_group`), pre-existing medical conditions (`medcond_yn`), and whether or not the patient died (`death_yn`). \n",
        "\n",
        "You've alread filtered out rows that were missing data for the `age_group` column, now check for missing values in the other two columns you'll be working with, then filter the data as needed, and see how many samples that leaves in the data set.\n",
        "\n",
        "* Make sure you start with the filtered dataset, not the original.\n",
        "* Make sure you pay attention to which values represent missing or unknown data for each column and filter accordingly."
      ]
    },
    {
      "cell_type": "code",
      "metadata": {
        "id": "yXfXEh3hoV1E",
        "colab_type": "code",
        "colab": {
          "base_uri": "https://localhost:8080/",
          "height": 102
        },
        "outputId": "897110e5-cd34-442b-8a2c-57919b589556"
      },
      "source": [
        "# Perform additional filtering\n",
        "\n",
        "# See what we have first\n",
        "filtered['death_yn'].value_counts()"
      ],
      "execution_count": 5,
      "outputs": [
        {
          "output_type": "execute_result",
          "data": {
            "text/plain": [
              "No         1332433\n",
              "Missing     993176\n",
              "Unknown     563791\n",
              "Yes         106460\n",
              "Name: death_yn, dtype: int64"
            ]
          },
          "metadata": {
            "tags": []
          },
          "execution_count": 5
        }
      ]
    },
    {
      "cell_type": "code",
      "metadata": {
        "id": "Go8nCsbZqkt_",
        "colab_type": "code",
        "colab": {
          "base_uri": "https://localhost:8080/",
          "height": 102
        },
        "outputId": "94aa7d37-d822-4ecf-9923-3f10a9f42f00"
      },
      "source": [
        "filtered['medcond_yn'].value_counts()"
      ],
      "execution_count": 6,
      "outputs": [
        {
          "output_type": "execute_result",
          "data": {
            "text/plain": [
              "Missing    1853372\n",
              "Unknown     452990\n",
              "Yes         428873\n",
              "No          260625\n",
              "Name: medcond_yn, dtype: int64"
            ]
          },
          "metadata": {
            "tags": []
          },
          "execution_count": 6
        }
      ]
    },
    {
      "cell_type": "code",
      "metadata": {
        "id": "6jWzmq6jp5Nv",
        "colab_type": "code",
        "colab": {
          "base_uri": "https://localhost:8080/",
          "height": 187
        },
        "outputId": "d527e39f-0777-4e0f-bec1-904f3f0f42c9"
      },
      "source": [
        "# Do additional filtering\n",
        "filtered = filtered.loc[ ~filtered['death_yn'].isin(['Missing', 'Unknown']) ]\n",
        "filtered = filtered.loc[ ~filtered['medcond_yn'].isin(['Missing', 'Unknown']) ]\n",
        "\n",
        "# See how many entries we have left\n",
        "filtered[['age_group', 'medcond_yn', 'death_yn']].info()"
      ],
      "execution_count": 7,
      "outputs": [
        {
          "output_type": "stream",
          "text": [
            "<class 'pandas.core.frame.DataFrame'>\n",
            "Int64Index: 482396 entries, 25 to 2999999\n",
            "Data columns (total 3 columns):\n",
            " #   Column      Non-Null Count   Dtype \n",
            "---  ------      --------------   ----- \n",
            " 0   age_group   482396 non-null  object\n",
            " 1   medcond_yn  482396 non-null  object\n",
            " 2   death_yn    482396 non-null  object\n",
            "dtypes: object(3)\n",
            "memory usage: 14.7+ MB\n"
          ],
          "name": "stdout"
        }
      ]
    },
    {
      "cell_type": "markdown",
      "metadata": {
        "id": "gwl81MLurby-",
        "colab_type": "text"
      },
      "source": [
        "# Part 3 - Marginal Probabilities\n",
        "\n",
        "Your research director would now like you to calculate the probability that someone in a given age demographic, given that they have Covid-19.\n",
        "\n",
        "Use the [`crosstab()` function](https://pandas.pydata.org/pandas-docs/stable/user_guide/reshaping.html#cross-tabulations) to answer this qustion. You may find [this guide](https://pbpython.com/pandas-crosstab.html) useful.\n",
        "\n",
        "* Be careful how your normalize...we want the probabilties within each age group.\n",
        "\n",
        "\n"
      ]
    },
    {
      "cell_type": "code",
      "metadata": {
        "id": "fsPoKu2crDFv",
        "colab_type": "code",
        "colab": {
          "base_uri": "https://localhost:8080/",
          "height": 142
        },
        "outputId": "1086d9f4-44d6-44e2-b9db-32545c0876f6"
      },
      "source": [
        "# Use the crosstab function to calcuate the probabilties \n",
        "summary = pd.crosstab(filtered['death_yn'], filtered['age_group'], margins=True, normalize='columns')\n",
        "summary"
      ],
      "execution_count": 8,
      "outputs": [
        {
          "output_type": "execute_result",
          "data": {
            "text/html": [
              "<div>\n",
              "<style scoped>\n",
              "    .dataframe tbody tr th:only-of-type {\n",
              "        vertical-align: middle;\n",
              "    }\n",
              "\n",
              "    .dataframe tbody tr th {\n",
              "        vertical-align: top;\n",
              "    }\n",
              "\n",
              "    .dataframe thead th {\n",
              "        text-align: right;\n",
              "    }\n",
              "</style>\n",
              "<table border=\"1\" class=\"dataframe\">\n",
              "  <thead>\n",
              "    <tr style=\"text-align: right;\">\n",
              "      <th>age_group</th>\n",
              "      <th>0 - 9 Years</th>\n",
              "      <th>10 - 19 Years</th>\n",
              "      <th>20 - 29 Years</th>\n",
              "      <th>30 - 39 Years</th>\n",
              "      <th>40 - 49 Years</th>\n",
              "      <th>50 - 59 Years</th>\n",
              "      <th>60 - 69 Years</th>\n",
              "      <th>70 - 79 Years</th>\n",
              "      <th>80+ Years</th>\n",
              "      <th>All</th>\n",
              "    </tr>\n",
              "    <tr>\n",
              "      <th>death_yn</th>\n",
              "      <th></th>\n",
              "      <th></th>\n",
              "      <th></th>\n",
              "      <th></th>\n",
              "      <th></th>\n",
              "      <th></th>\n",
              "      <th></th>\n",
              "      <th></th>\n",
              "      <th></th>\n",
              "      <th></th>\n",
              "    </tr>\n",
              "  </thead>\n",
              "  <tbody>\n",
              "    <tr>\n",
              "      <th>No</th>\n",
              "      <td>0.998715</td>\n",
              "      <td>0.99938</td>\n",
              "      <td>0.997281</td>\n",
              "      <td>0.991997</td>\n",
              "      <td>0.976428</td>\n",
              "      <td>0.937983</td>\n",
              "      <td>0.817037</td>\n",
              "      <td>0.662983</td>\n",
              "      <td>0.414779</td>\n",
              "      <td>0.882319</td>\n",
              "    </tr>\n",
              "    <tr>\n",
              "      <th>Yes</th>\n",
              "      <td>0.001285</td>\n",
              "      <td>0.00062</td>\n",
              "      <td>0.002719</td>\n",
              "      <td>0.008003</td>\n",
              "      <td>0.023572</td>\n",
              "      <td>0.062017</td>\n",
              "      <td>0.182963</td>\n",
              "      <td>0.337017</td>\n",
              "      <td>0.585221</td>\n",
              "      <td>0.117681</td>\n",
              "    </tr>\n",
              "  </tbody>\n",
              "</table>\n",
              "</div>"
            ],
            "text/plain": [
              "age_group  0 - 9 Years  10 - 19 Years  ...  80+ Years       All\n",
              "death_yn                               ...                     \n",
              "No            0.998715        0.99938  ...   0.414779  0.882319\n",
              "Yes           0.001285        0.00062  ...   0.585221  0.117681\n",
              "\n",
              "[2 rows x 10 columns]"
            ]
          },
          "metadata": {
            "tags": []
          },
          "execution_count": 8
        }
      ]
    },
    {
      "cell_type": "markdown",
      "metadata": {
        "id": "B-T6wtgHufes",
        "colab_type": "text"
      },
      "source": [
        "### Visualize the data\n",
        "\n",
        "Use Pandas' [built in plotting functions](https://pandas.pydata.org/docs/user_guide/visualization.html#bar-plots) to create a stacked bar chart of the crosstab summary.\n",
        "\n",
        "* In order to get a visualization that makes sense, you will first need to [Transpose](https://pandas.pydata.org/pandas-docs/stable/reference/api/pandas.DataFrame.transpose.html) the summary table."
      ]
    },
    {
      "cell_type": "code",
      "metadata": {
        "id": "Fw0bAv_fufKe",
        "colab_type": "code",
        "colab": {
          "base_uri": "https://localhost:8080/",
          "height": 418
        },
        "outputId": "57301582-db40-44a3-b023-efd49b38f05f"
      },
      "source": [
        "# Transpose and plot the summary table as a stacked bar chart\n",
        "\n",
        "# Even though I'm not using seaborn, I'm going to import it and \n",
        "# set it's theme, because it affects all matplotlib based charts\n",
        "# and will make pandas' charts look nicer.\n",
        "\n",
        "import seaborn as sns\n",
        "sns.set()\n",
        "sns.set_style('ticks')\n",
        "summary.T.plot(kind='bar', stacked=True)"
      ],
      "execution_count": 9,
      "outputs": [
        {
          "output_type": "stream",
          "text": [
            "/usr/local/lib/python3.6/dist-packages/statsmodels/tools/_testing.py:19: FutureWarning: pandas.util.testing is deprecated. Use the functions in the public API at pandas.testing instead.\n",
            "  import pandas.util.testing as tm\n"
          ],
          "name": "stderr"
        },
        {
          "output_type": "execute_result",
          "data": {
            "text/plain": [
              "<matplotlib.axes._subplots.AxesSubplot at 0x7fcfd8c599e8>"
            ]
          },
          "metadata": {
            "tags": []
          },
          "execution_count": 9
        },
        {
          "output_type": "display_data",
          "data": {
            "image/png": "[encoded data removed]",
            "text/plain": [
              "<Figure size 432x288 with 1 Axes>"
            ]
          },
          "metadata": {
            "tags": []
          }
        }
      ]
    },
    {
      "cell_type": "markdown",
      "metadata": {
        "id": "Hw9V7yMqtPwA",
        "colab_type": "text"
      },
      "source": [
        "# Part 4 - Bayesian Prediction\n",
        "\n",
        "Your research director would like you to use a Bayesian Classifier to predict the probability of someone with dying from Covid-19 given their age bracket and whether or not they have pre-existing medical conditions.\n",
        "\n",
        "You'll be using [SciKit Learn's Bayesian Classifer](https://scikit-learn.org/stable/modules/generated/sklearn.naive_bayes.GaussianNB.html) for this task.\n",
        "\n",
        "Our use of the Bayseian Classifier in SciKit learn will have four steps. As you'll see later in the semester, some machine learning taks involve additional steps:\n",
        "\n",
        "1. Create an instance of the classifer\n",
        "2. Provide the classifier with the data it will use to build its prediction model. This is sometimes called \"fitting\" or \"training\" the model.\n",
        "3. Ask the model to make a prediction by providing it with new data.\n",
        "4. Interpret the prediction.\n",
        "\n",
        "Parts of these steps will be provided for you in this exercise:"
      ]
    },
    {
      "cell_type": "code",
      "metadata": {
        "id": "wmc7vYm5tLQG",
        "colab_type": "code",
        "colab": {}
      },
      "source": [
        "# Step 1\n",
        "from sklearn.naive_bayes import GaussianNB\n",
        "classifier = GaussianNB()"
      ],
      "execution_count": 10,
      "outputs": []
    },
    {
      "cell_type": "markdown",
      "metadata": {
        "id": "VPTiDJ_GxIMD",
        "colab_type": "text"
      },
      "source": [
        "### Train the Classifer\n",
        "Now we need to teach the classifier how to make a prediction based on historic data. In terms of Bayes' Theorem, we are providing the classifier with the data it needs to calculate hte conditional and joint probabilties for a particuar event.\n",
        "\n",
        "One caveat to using most machine learning libraries is that they don't do well with textural feature data. For example, our `age_group` column contains strings indicating the patient's age bracket. The `medcond_yn` column contains strings (\"Yes\" or \"No\") indicating whether the patient had a pre-existing medical condition.\n",
        "\n",
        "Before we can give this data to the classifier, we'll need to \"encode\" it unto numeric form. There are lots of ways to do this, including some built-in ways in SciKit Learn, but for now we'll use the Pandas `map()` function, which we've used before. (If you've forgotten, see the teacher's solution to [Data Exploration 02](https://byui-cse.github.io/cse450-course/module-01/exploration-02.html))\n",
        "\n",
        "Below, the `age_group` column has been encoded into a set of numeric values. You may want to verify using the `value_counts()` function that the counts of the encoded values match up with the originals."
      ]
    },
    {
      "cell_type": "code",
      "metadata": {
        "id": "8M1XLeH6y0-L",
        "colab_type": "code",
        "colab": {
          "base_uri": "https://localhost:8080/",
          "height": 187
        },
        "outputId": "c0af5501-3a0a-4031-c84b-16e4d8c7238c"
      },
      "source": [
        "# This code assumes your filtered dataset is stored in a variable called \"filtered\". \n",
        "# If it isn't, you'll need to update the code accordingly.\n",
        "filtered['age_group_encoded'] = filtered['age_group'].map({\n",
        "    '0 - 9 Years' : 0,\n",
        "    '10 - 19 Years' : 1,\n",
        "    '20 - 29 Years' : 2,\n",
        "    '30 - 39 Years' : 3,\n",
        "    '40 - 49 Years' : 4,\n",
        "    '50 - 59 Years' : 5,\n",
        "    '60 - 69 Years' : 6,\n",
        "    '70 - 79 Years' : 7,\n",
        "    '80+ Years': 8})\n",
        "\n",
        "# Compare the below result to filtered['age_group'].value_counts()\n",
        "filtered['age_group_encoded'].value_counts()"
      ],
      "execution_count": 11,
      "outputs": [
        {
          "output_type": "execute_result",
          "data": {
            "text/plain": [
              "5    86605\n",
              "4    81114\n",
              "2    73551\n",
              "6    60821\n",
              "3    60230\n",
              "8    48110\n",
              "1    29043\n",
              "7    28141\n",
              "0    14781\n",
              "Name: age_group_encoded, dtype: int64"
            ]
          },
          "metadata": {
            "tags": []
          },
          "execution_count": 11
        }
      ]
    },
    {
      "cell_type": "markdown",
      "metadata": {
        "id": "YopnmQj-z7df",
        "colab_type": "text"
      },
      "source": [
        "Create two new columns called `death_yn_encoded` and `medcond_yn_encoded` by encoding the values of the `death_yn` and `medcond_yn` columns. \n",
        "\n",
        "For each column, encode \"Yes\" as `1` and \"No\" as `0`."
      ]
    },
    {
      "cell_type": "code",
      "metadata": {
        "id": "lLgfXMgqzo9J",
        "colab_type": "code",
        "colab": {}
      },
      "source": [
        "# Encode the columns\n",
        "filtered['death_yn_encoded'] = filtered['death_yn'].map({\n",
        "    'Yes': 1,\n",
        "    'No': 0\n",
        "})\n",
        "\n",
        "filtered['medcond_yn_encoded'] = filtered['medcond_yn'].map({\n",
        "    'Yes': 1,\n",
        "    'No': 0\n",
        "})"
      ],
      "execution_count": 12,
      "outputs": []
    },
    {
      "cell_type": "markdown",
      "metadata": {
        "id": "oJ93umb_0btm",
        "colab_type": "text"
      },
      "source": [
        "Now that you've encoded the textual features, the following code passes the data to the classifier to \"train\" or \"fit\" the model, allowing it to make predictions.\n",
        "\n",
        "* The first parameter to the `fit()` function is called \"X\" and is the set of features we want to use to make our predictions. In our case, that is age group, and pre-existing medical condition status.\n",
        "\n",
        "* The second parameter is called \"Y\" and is the target feature we're trying to predict. In our case, that is whether or not the patient died.\n",
        "\n",
        "Nearly all SciKit Learn algorithms follow this pattern."
      ]
    },
    {
      "cell_type": "code",
      "metadata": {
        "id": "YLZc-h1jzsXF",
        "colab_type": "code",
        "colab": {
          "base_uri": "https://localhost:8080/",
          "height": 34
        },
        "outputId": "25c49d62-a505-40d8-8224-361fdfd2e576"
      },
      "source": [
        "# Fit the data to the model\n",
        "# Again, this code assumes your filtered data is stored in a variable called\n",
        "# filtered. If not, update this code accordingly\n",
        "classifier.fit( filtered[ ['age_group_encoded', 'medcond_yn_encoded'] ], filtered['death_yn_encoded'])"
      ],
      "execution_count": 13,
      "outputs": [
        {
          "output_type": "execute_result",
          "data": {
            "text/plain": [
              "GaussianNB(priors=None, var_smoothing=1e-09)"
            ]
          },
          "metadata": {
            "tags": []
          },
          "execution_count": 13
        }
      ]
    },
    {
      "cell_type": "markdown",
      "metadata": {
        "id": "5Oh1fAAA1RkN",
        "colab_type": "text"
      },
      "source": [
        "### Make Predictions\n",
        "Now that the model is trained, it's time to use it to make predictions. To do so, we can either use:\n",
        "\n",
        "* The [`predict()`](https://scikit-learn.org/stable/modules/generated/sklearn.naive_bayes.GaussianNB.html#sklearn.naive_bayes.GaussianNB.predict) function, which in this case would tell us which event is most likely to occur.\n",
        "* The [`predict_proba()`](https://scikit-learn.org/stable/modules/generated/sklearn.naive_bayes.GaussianNB.html#sklearn.naive_bayes.GaussianNB.predict_proba) function, which tells us the probability that each event would occur.\n",
        "\n",
        "Since our research director wants to know the probabilities, we'll use the second option.\n",
        "\n",
        "For each prediction we want to make, we would pass the classifier an array of data containing an array of *encoded* values for the features it knows about.\n",
        "\n",
        "For example, for the first question (a 25 year-old with no pre-existing medical conditions):\n",
        "\n",
        "    # 20 - 29 year olds = 2\n",
        "    # No pre-existing medial condition = 0\n",
        "    classifier.predict_proba( [ [2, 0] ] )\n",
        "\n",
        "    # Result [ Probability of 0 (No), Probability of 1 (Yes)]\n",
        "    array([[1.00000000e+00, 9.58683956e-11]])\n",
        "\n",
        "By default, the classifier returns a numpy array using scientific notation to represent very small numbers. We can use [NumPy's set_printoptions function](https://numpy.org/doc/stable/reference/generated/numpy.set_printoptions.html) to change that, as shown in the code below.\n",
        "\n"
      ]
    },
    {
      "cell_type": "code",
      "metadata": {
        "id": "zDbMzVY81FMe",
        "colab_type": "code",
        "colab": {
          "base_uri": "https://localhost:8080/",
          "height": 34
        },
        "outputId": "d2303ebb-73d1-4e83-97fc-adab4ed66b8b"
      },
      "source": [
        "import numpy as np\n",
        "# How many decimal places\n",
        "np.set_printoptions(precision=8)\n",
        "# Don't use scientitic notation\n",
        "np.set_printoptions(suppress=True)\n",
        "\n",
        "classifier.predict_proba( [ [2, 0] ] )"
      ],
      "execution_count": 14,
      "outputs": [
        {
          "output_type": "execute_result",
          "data": {
            "text/plain": [
              "array([[1., 0.]])"
            ]
          },
          "metadata": {
            "tags": []
          },
          "execution_count": 14
        }
      ]
    },
    {
      "cell_type": "markdown",
      "metadata": {
        "id": "A_l047My3cmC",
        "colab_type": "text"
      },
      "source": [
        "For each of the following situations, use the classifier's `predict_proba()` function to predict the probability that a patient will die from Covid-19.\n",
        "\n",
        "* A 25 year-old with no pre-existing medical conditions.\n",
        "* A 25 year-old with pre-existing medical conditions.\n",
        "* A 55 year-old with no pre-existing medical conditions.\n",
        "* A 55 year-old with pre-existing medical conditions.\n",
        "* An 80 year-old with no pre-existing medical conditions.\n",
        "* An 80 year-old with pre-existing medical conditions.\n",
        "\n",
        "Note that you can make these predictions one at a time, or all at once by passing multiple sets of data to the classifier. The results will be returned in the same order as the sample data provided:\n",
        "\n",
        "    # Predict the probabilities for a 20 - 29 year old with and without pre-existing\n",
        "    # medical conditions, and a 50 - 59 year old with pre-existing medical \n",
        "    # conditions.\n",
        "    classifier.predict_proba( [ [2, 0], [2, 1], [5, 1] ] )\n",
        "\n",
        "    # Results\n",
        "    array([[1.        , 0.        ],\n",
        "       [0.99923393, 0.00076607],\n",
        "       [0.75363889, 0.24636111]])"
      ]
    },
    {
      "cell_type": "code",
      "metadata": {
        "id": "9qCeuZEg2ot7",
        "colab_type": "code",
        "colab": {
          "base_uri": "https://localhost:8080/",
          "height": 119
        },
        "outputId": "2b543f26-0583-40ce-c11f-03d0564c48c3"
      },
      "source": [
        "# Make the requested predictions\n",
        "classifier.predict_proba( [ [2, 0], [2, 1], [5, 0], [5, 1], [8, 0], [8, 1] ] )"
      ],
      "execution_count": 15,
      "outputs": [
        {
          "output_type": "execute_result",
          "data": {
            "text/plain": [
              "array([[1.        , 0.        ],\n",
              "       [0.99923393, 0.00076607],\n",
              "       [0.99999996, 0.00000004],\n",
              "       [0.75363889, 0.24636111],\n",
              "       [0.99999927, 0.00000073],\n",
              "       [0.14618217, 0.85381783]])"
            ]
          },
          "metadata": {
            "tags": []
          },
          "execution_count": 15
        }
      ]
    },
    {
      "cell_type": "markdown",
      "metadata": {
        "id": "pZzZXBPM4Mkl",
        "colab_type": "text"
      },
      "source": [
        "# Part 5: Conclusions\n",
        "\n",
        "Based on your results, what conclusions would your provide to your research manager to pass along to the health authority? What caveats about the analysis would you include?"
      ]
    },
    {
      "cell_type": "markdown",
      "metadata": {
        "id": "Ma3zcRcZ4XDs",
        "colab_type": "text"
      },
      "source": [
        "Based on the available, it appears that the a 20 - 29 year old who contracts Covid-19, with or without pre-existing medical conditions, has a greater than 99.99% chance of surviving.\n",
        "\n",
        "The greatest risk is for those 80 and older with preexisting medical condition. According to the data, the odds of an 80-year-old with a pre-existing medical condition dying after contracting Covid-19 is over 85%.\n",
        "\n",
        "3,000,000 cases were evaluated, but the data is in surprisingly poor shape for such important medical information. After removing cases where the medical history, age, and resultant mortality was unknown, just over 482,000 cases remained. \n",
        "\n",
        "Additional analysis should be done to evaluate the difference gender makes in the analysis, as well as to handle the difference between \"probable\" and \"laboratory confirmed\" cases.\n",
        "\n",
        "It's also possible that the time of year played a role in the results. For example, cases earlier in the pandemic being may have been more severe than those later in the pandemic, especially among the vulnerable populations. This could mean that the the risk of death today is different than the risk of death at the start of the pandemic for the same demographics.\n",
        "\n",
        "Finally, no analysis was done on the likelihood of an infection resulting in hospitalization and/or ICU vists, something of primary importance to many health authorities."
      ]
    },
    {
      "cell_type": "markdown",
      "metadata": {
        "id": "YXdttP20-MuX",
        "colab_type": "text"
      },
      "source": [
        "## 🌟 Above and Beyond 🌟\n",
        "\n",
        "The research director would like you to answer the following questions:\n",
        "\n",
        "* How does gender affect the probability of death from Covid-19?\n",
        "* If we look at likelihood of being admitted to the ICU instead of the likelihood of death, what are the probabilties across different age groups and medical statuses?\n",
        "* How do the probabilities you calculated compare to the probabilties you would get if you looked only at the last three months worth of cases? You may need to review the Pandas tutorial on [How to Handle Timeseries Data](https://pandas.pydata.org/pandas-docs/stable/getting_started/intro_tutorials/09_timeseries.html).\n",
        "* SciKit Learn has [several different Bayesian classifiers](https://scikit-learn.org/stable/modules/naive_bayes.html). Would a different classifier produce better results? How could you test that hypothesis?"
      ]
    }
  ]
}