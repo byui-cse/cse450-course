{
  "nbformat": 4,
  "nbformat_minor": 0,
  "metadata": {
    "colab": {
      "name": "Exploration-01-Solved.ipynb",
      "provenance": [],
      "collapsed_sections": []
    },
    "kernelspec": {
      "name": "python3",
      "display_name": "Python 3"
    }
  },
  "cells": [
    {
      "cell_type": "markdown",
      "metadata": {
        "id": "LB9TN5GKEyhw",
        "colab_type": "text"
      },
      "source": [
        "# Data Exploration 01\n",
        "\n",
        "A consumer watchdog group wants to see if Netflix has more movies for adults or children. \n",
        "\n",
        "Using a dataset containing metadata for all of the movies Netflix had available on their platform in 2019, use the [MPAA movie rating system](https://en.wikipedia.org/wiki/Motion_Picture_Association_film_rating_system#MPAA_film_ratings) to determine if they are correct.\n"
      ]
    },
    {
      "cell_type": "markdown",
      "metadata": {
        "id": "agqlq8RKFbry",
        "colab_type": "text"
      },
      "source": [
        "## Part 1: Import Pandas\n",
        "\n",
        "The [Pandas library](https://pandas.pydata.org) is a data analysis and manipulation tool that will provide the core functionality for most of what you do in the data exploration and preprocessing stages of most machine learning projects.\n",
        "\n",
        "Please see [this Getting Started Guide](https://pandas.pydata.org/docs/getting_started/intro_tutorials/01_table_oriented.html) for information on the conventional way to import Pandas into your project, as well as other helpful tips for common Pandas tasks.\n"
      ]
    },
    {
      "cell_type": "code",
      "metadata": {
        "id": "14b9y6LKEvEm",
        "colab_type": "code",
        "colab": {}
      },
      "source": [
        "# Part 1: Enter your code below to import Pandas according to the \n",
        "# conventional method.\n",
        "import pandas as pd\n"
      ],
      "execution_count": 1,
      "outputs": []
    },
    {
      "cell_type": "markdown",
      "metadata": {
        "id": "q-O80D5JH9yA",
        "colab_type": "text"
      },
      "source": [
        "## Part 2: Load the data\n",
        "\n",
        "The dataset for this exploration is stored at the following url:\n",
        "\n",
        "[https://raw.githubusercontent.com/byui-cse/cse450-course/master/data/netflix_titles.csv](https://raw.githubusercontent.com/byui-cse/cse450-course/master/data/netflix_titles.csv)\n",
        "\n",
        "There are lots of ways to load data into your workspace. The easiest way in this case is to [ask Pandas to do it for you](https://pandas.pydata.org/docs/getting_started/intro_tutorials/02_read_write.html).\n",
        "\n",
        "### Initial Data Analysis\n",
        "Once you've loaded the data, it's a good idea to poke around a little bit to find out what you're dealing with.\n",
        "\n",
        "Some questions you might ask include:\n",
        "\n",
        "* What does the data look like?\n",
        "* What kind of data is in each column? \n",
        "* Do any of the columns have missing values? "
      ]
    },
    {
      "cell_type": "code",
      "metadata": {
        "id": "AMKxXySGJVnC",
        "colab_type": "code",
        "colab": {
          "base_uri": "https://localhost:8080/",
          "height": 816
        },
        "outputId": "f1d17881-c6c4-44f2-b0ba-5fb007e75b43"
      },
      "source": [
        "# Part 2: Enter your code below to load the dataset into a Pandas dataframe.\n",
        "# Write any code needed to explore the data by first displaying a technical \n",
        "# summary to determine the data types of each column as well as to see which \n",
        "# columns have missing data. Then display the first few rows of the data\n",
        "\n",
        "netflix = pd.read_csv('https://raw.githubusercontent.com/byui-cse/cse450-course/master/data/netflix_titles.csv')\n",
        "\n",
        "# From the results of info(), it appears that most columns have some missing \n",
        "# values, with director, cast, country having the most missing\n",
        "netflix.info()\n",
        "\n",
        "# Note the missing values for director in the first few rows. Missing values\n",
        "# here are represented by \"NaN\" (Not a Number)\n",
        "netflix.head()"
      ],
      "execution_count": 2,
      "outputs": [
        {
          "output_type": "stream",
          "text": [
            "<class 'pandas.core.frame.DataFrame'>\n",
            "RangeIndex: 6234 entries, 0 to 6233\n",
            "Data columns (total 12 columns):\n",
            " #   Column        Non-Null Count  Dtype \n",
            "---  ------        --------------  ----- \n",
            " 0   show_id       6234 non-null   int64 \n",
            " 1   type          6234 non-null   object\n",
            " 2   title         6234 non-null   object\n",
            " 3   director      4265 non-null   object\n",
            " 4   cast          5664 non-null   object\n",
            " 5   country       5758 non-null   object\n",
            " 6   date_added    6223 non-null   object\n",
            " 7   release_year  6234 non-null   int64 \n",
            " 8   rating        6224 non-null   object\n",
            " 9   duration      6234 non-null   object\n",
            " 10  listed_in     6234 non-null   object\n",
            " 11  description   6234 non-null   object\n",
            "dtypes: int64(2), object(10)\n",
            "memory usage: 584.6+ KB\n"
          ],
          "name": "stdout"
        },
        {
          "output_type": "execute_result",
          "data": {
            "text/html": [
              "<div>\n",
              "<style scoped>\n",
              "    .dataframe tbody tr th:only-of-type {\n",
              "        vertical-align: middle;\n",
              "    }\n",
              "\n",
              "    .dataframe tbody tr th {\n",
              "        vertical-align: top;\n",
              "    }\n",
              "\n",
              "    .dataframe thead th {\n",
              "        text-align: right;\n",
              "    }\n",
              "</style>\n",
              "<table border=\"1\" class=\"dataframe\">\n",
              "  <thead>\n",
              "    <tr style=\"text-align: right;\">\n",
              "      <th></th>\n",
              "      <th>show_id</th>\n",
              "      <th>type</th>\n",
              "      <th>title</th>\n",
              "      <th>director</th>\n",
              "      <th>cast</th>\n",
              "      <th>country</th>\n",
              "      <th>date_added</th>\n",
              "      <th>release_year</th>\n",
              "      <th>rating</th>\n",
              "      <th>duration</th>\n",
              "      <th>listed_in</th>\n",
              "      <th>description</th>\n",
              "    </tr>\n",
              "  </thead>\n",
              "  <tbody>\n",
              "    <tr>\n",
              "      <th>0</th>\n",
              "      <td>81145628</td>\n",
              "      <td>Movie</td>\n",
              "      <td>Norm of the North: King Sized Adventure</td>\n",
              "      <td>Richard Finn, Tim Maltby</td>\n",
              "      <td>Alan Marriott, Andrew Toth, Brian Dobson, Cole...</td>\n",
              "      <td>United States, India, South Korea, China</td>\n",
              "      <td>September 9, 2019</td>\n",
              "      <td>2019</td>\n",
              "      <td>TV-PG</td>\n",
              "      <td>90 min</td>\n",
              "      <td>Children &amp; Family Movies, Comedies</td>\n",
              "      <td>Before planning an awesome wedding for his gra...</td>\n",
              "    </tr>\n",
              "    <tr>\n",
              "      <th>1</th>\n",
              "      <td>80117401</td>\n",
              "      <td>Movie</td>\n",
              "      <td>Jandino: Whatever it Takes</td>\n",
              "      <td>NaN</td>\n",
              "      <td>Jandino Asporaat</td>\n",
              "      <td>United Kingdom</td>\n",
              "      <td>September 9, 2016</td>\n",
              "      <td>2016</td>\n",
              "      <td>TV-MA</td>\n",
              "      <td>94 min</td>\n",
              "      <td>Stand-Up Comedy</td>\n",
              "      <td>Jandino Asporaat riffs on the challenges of ra...</td>\n",
              "    </tr>\n",
              "    <tr>\n",
              "      <th>2</th>\n",
              "      <td>70234439</td>\n",
              "      <td>TV Show</td>\n",
              "      <td>Transformers Prime</td>\n",
              "      <td>NaN</td>\n",
              "      <td>Peter Cullen, Sumalee Montano, Frank Welker, J...</td>\n",
              "      <td>United States</td>\n",
              "      <td>September 8, 2018</td>\n",
              "      <td>2013</td>\n",
              "      <td>TV-Y7-FV</td>\n",
              "      <td>1 Season</td>\n",
              "      <td>Kids' TV</td>\n",
              "      <td>With the help of three human allies, the Autob...</td>\n",
              "    </tr>\n",
              "    <tr>\n",
              "      <th>3</th>\n",
              "      <td>80058654</td>\n",
              "      <td>TV Show</td>\n",
              "      <td>Transformers: Robots in Disguise</td>\n",
              "      <td>NaN</td>\n",
              "      <td>Will Friedle, Darren Criss, Constance Zimmer, ...</td>\n",
              "      <td>United States</td>\n",
              "      <td>September 8, 2018</td>\n",
              "      <td>2016</td>\n",
              "      <td>TV-Y7</td>\n",
              "      <td>1 Season</td>\n",
              "      <td>Kids' TV</td>\n",
              "      <td>When a prison ship crash unleashes hundreds of...</td>\n",
              "    </tr>\n",
              "    <tr>\n",
              "      <th>4</th>\n",
              "      <td>80125979</td>\n",
              "      <td>Movie</td>\n",
              "      <td>#realityhigh</td>\n",
              "      <td>Fernando Lebrija</td>\n",
              "      <td>Nesta Cooper, Kate Walsh, John Michael Higgins...</td>\n",
              "      <td>United States</td>\n",
              "      <td>September 8, 2017</td>\n",
              "      <td>2017</td>\n",
              "      <td>TV-14</td>\n",
              "      <td>99 min</td>\n",
              "      <td>Comedies</td>\n",
              "      <td>When nerdy high schooler Dani finally attracts...</td>\n",
              "    </tr>\n",
              "  </tbody>\n",
              "</table>\n",
              "</div>"
            ],
            "text/plain": [
              "    show_id  ...                                        description\n",
              "0  81145628  ...  Before planning an awesome wedding for his gra...\n",
              "1  80117401  ...  Jandino Asporaat riffs on the challenges of ra...\n",
              "2  70234439  ...  With the help of three human allies, the Autob...\n",
              "3  80058654  ...  When a prison ship crash unleashes hundreds of...\n",
              "4  80125979  ...  When nerdy high schooler Dani finally attracts...\n",
              "\n",
              "[5 rows x 12 columns]"
            ]
          },
          "metadata": {
            "tags": []
          },
          "execution_count": 2
        }
      ]
    },
    {
      "cell_type": "markdown",
      "metadata": {
        "id": "CqdAa4EfJ9T0",
        "colab_type": "text"
      },
      "source": [
        "## Part 3: Filter the Data\n",
        "\n",
        "Since we're just interested in movies, we'll need to [filter out anything](https://pandas.pydata.org/docs/getting_started/intro_tutorials/03_subset_data.html) that isn't a movie for our analysis. It appears that the `type` column is our best bet.\n",
        "\n",
        "Once we have the subset, we should see how many rows it contains. There are a variety of ways to get the length of a data frame, [but most people just use `len()`](https://stackoverflow.com/a/38025280/28106)."
      ]
    },
    {
      "cell_type": "code",
      "metadata": {
        "id": "i8wdC-qpPjqF",
        "colab_type": "code",
        "colab": {
          "base_uri": "https://localhost:8080/",
          "height": 34
        },
        "outputId": "5f9d5e0a-e435-4ac1-9075-169d05b55647"
      },
      "source": [
        "# Use pandas's filtering abilitites to select the subset of data\n",
        "# that represents movies, then calculate how many rows are in the filtered data.\n",
        "movies = netflix[ netflix['type'] == 'Movie' ]\n",
        "len(movies)"
      ],
      "execution_count": 3,
      "outputs": [
        {
          "output_type": "execute_result",
          "data": {
            "text/plain": [
              "4265"
            ]
          },
          "metadata": {
            "tags": []
          },
          "execution_count": 3
        }
      ]
    },
    {
      "cell_type": "markdown",
      "metadata": {
        "id": "sxWEVnHyVV8c",
        "colab_type": "text"
      },
      "source": [
        "### MPAA Ratings\n",
        "Now that we have only movies, let's get a [quick count of the values being used](https://pandas.pydata.org/docs/getting_started/intro_tutorials/06_calculate_statistics.html)  in the `rating` column."
      ]
    },
    {
      "cell_type": "code",
      "metadata": {
        "id": "bH4pNyeVVx0R",
        "colab_type": "code",
        "colab": {
          "base_uri": "https://localhost:8080/",
          "height": 272
        },
        "outputId": "c4d131be-6e81-4e0e-ac91-694ae97fc750"
      },
      "source": [
        "# Use pandas's aggregation abilities to determine which ratings are appearing\n",
        "# in the rating column.\n",
        "movies['rating'].value_counts()"
      ],
      "execution_count": 4,
      "outputs": [
        {
          "output_type": "execute_result",
          "data": {
            "text/plain": [
              "TV-MA       1348\n",
              "TV-14       1038\n",
              "R            506\n",
              "TV-PG        432\n",
              "PG-13        286\n",
              "NR           202\n",
              "PG           183\n",
              "TV-G          80\n",
              "TV-Y7         69\n",
              "TV-Y          41\n",
              "G             36\n",
              "TV-Y7-FV      27\n",
              "UR             7\n",
              "NC-17          2\n",
              "Name: rating, dtype: int64"
            ]
          },
          "metadata": {
            "tags": []
          },
          "execution_count": 4
        }
      ]
    },
    {
      "cell_type": "markdown",
      "metadata": {
        "id": "81bBg3tbV_5s",
        "colab_type": "text"
      },
      "source": [
        "### More Filtering\n",
        "\n",
        "There are apparently some \"made for TV\" movies in the list that don't fit the\n",
        "[MPAA rating scheme](https://en.wikipedia.org/wiki/Motion_Picture_Association_film_rating_system#MPAA_film_ratings). \n",
        "\n",
        "Let's [filter some more](https://pandas.pydata.org/docs/getting_started/intro_tutorials/03_subset_data.html) to just see movies rated with the standard MPAA ratings of G, PG, PG-13, R, and NC-17."
      ]
    },
    {
      "cell_type": "code",
      "metadata": {
        "id": "kQmlZqO5Wb_N",
        "colab_type": "code",
        "colab": {
          "base_uri": "https://localhost:8080/",
          "height": 119
        },
        "outputId": "144b5c4f-46bb-4ce3-870b-846454323d20"
      },
      "source": [
        "# Filter the list of movies to select a new subset containing only movies with\n",
        "# a standard MPAA rating. Calculate how many rows are in this new set, and\n",
        "# see which ratings appear most often.\n",
        "mpaa = movies[ movies['rating'].isin( ['G', 'PG', 'PG-13', 'R', 'NC-17']) ]\n",
        "len(mpaa)\n",
        "\n",
        "mpaa['rating'].value_counts()"
      ],
      "execution_count": 5,
      "outputs": [
        {
          "output_type": "execute_result",
          "data": {
            "text/plain": [
              "R        506\n",
              "PG-13    286\n",
              "PG       183\n",
              "G         36\n",
              "NC-17      2\n",
              "Name: rating, dtype: int64"
            ]
          },
          "metadata": {
            "tags": []
          },
          "execution_count": 5
        }
      ]
    },
    {
      "cell_type": "markdown",
      "metadata": {
        "id": "cl30h29pWp26",
        "colab_type": "text"
      },
      "source": [
        "## Part 4: Visualization \n",
        "\n",
        "Now that we have explored and preprocessed our data, let's create a visualization to summarize our findings.\n",
        "\n",
        "### Seaborn\n",
        "While Pandas includes some basic visuzliation functions, the [Seaborn library](https://seaborn.pydata.org) provides a large variety of very easy to use statistical charting tools.\n",
        "\n",
        "Like with Pandas, there is a [conventional way to import Seaborn](https://seaborn.pydata.org/tutorial/relational.html) into your projects.\n",
        "\n",
        "Optionally, you may wish to set some default chart aesthetics by [setting the chart style](https://seaborn.pydata.org/tutorial/aesthetics.html)."
      ]
    },
    {
      "cell_type": "code",
      "metadata": {
        "id": "6UZKj1yMXTYg",
        "colab_type": "code",
        "colab": {
          "base_uri": "https://localhost:8080/",
          "height": 71
        },
        "outputId": "b0d680ec-e229-4c1a-b4f2-696041439f9c"
      },
      "source": [
        "# Import the seaborn library the conventional way. Then optionally configure\n",
        "# the default chart style.\n",
        "import seaborn as sns\n",
        "sns.set()\n",
        "sns.set_style('ticks')"
      ],
      "execution_count": 6,
      "outputs": [
        {
          "output_type": "stream",
          "text": [
            "/usr/local/lib/python3.6/dist-packages/statsmodels/tools/_testing.py:19: FutureWarning: pandas.util.testing is deprecated. Use the functions in the public API at pandas.testing instead.\n",
            "  import pandas.util.testing as tm\n"
          ],
          "name": "stderr"
        }
      ]
    },
    {
      "cell_type": "markdown",
      "metadata": {
        "id": "AWlh7ipsXaYM",
        "colab_type": "text"
      },
      "source": [
        "### Create the visualization\n",
        "Since the `rating` column uses categorical data (which you'll read more about in [Preparation Reading 02](https://byui-cse.github.io/cse450-course/module-01/preparation-02.html), we need to use Seaborn's [categorical visualizations](https://seaborn.pydata.org/tutorial/categorical.html).\n",
        "\n",
        "In particular, we want a chart that will display a [count](https://seaborn.pydata.org/generated/seaborn.countplot.html#seaborn.countplot) of movie ratings.\n",
        "\n"
      ]
    },
    {
      "cell_type": "code",
      "metadata": {
        "id": "-T6xRLvAYJIf",
        "colab_type": "code",
        "colab": {
          "base_uri": "https://localhost:8080/",
          "height": 382
        },
        "outputId": "fd3b60c5-62a8-4bbf-d4f1-c9cb0a8ed9f3"
      },
      "source": [
        "# Use seaborn to create a visualization comparint the count of each movie rating\n",
        "sns.catplot(data=mpaa, x='rating', kind='count')"
      ],
      "execution_count": 7,
      "outputs": [
        {
          "output_type": "execute_result",
          "data": {
            "text/plain": [
              "<seaborn.axisgrid.FacetGrid at 0x7f9d9e1c6f98>"
            ]
          },
          "metadata": {
            "tags": []
          },
          "execution_count": 7
        },
        {
          "output_type": "display_data",
          "data": {
            "image/png": "[encoded data removed]",
            "text/plain": [
              "<Figure size 360x360 with 1 Axes>"
            ]
          },
          "metadata": {
            "tags": []
          }
        }
      ]
    },
    {
      "cell_type": "markdown",
      "metadata": {
        "id": "7EA2lAfbYRAc",
        "colab_type": "text"
      },
      "source": [
        "# Part 5: Interpretation and Conclusions\n",
        "\n",
        "Now that you've seen the data, what is your conclusion? Is the watchdog group\n",
        "correct that Netflix has more movies for adults than for children? Are there any\n",
        "caveats you'd include in your analysis?"
      ]
    },
    {
      "cell_type": "markdown",
      "metadata": {
        "id": "EMBvHrExYr24",
        "colab_type": "text"
      },
      "source": [
        "Write your summary here:\n",
        "\n",
        "> At first glance it appears that there are many more movies for adults than kids, if you look only at the difference between the number of R and G-rated movies.\n",
        "> \n",
        "> However, this depends a great deal on what you consider to be a \"kid's movie\". Are 15-year-olds considered kids? If so, then you could consider PG-13 movies to be \"movies for kids\". Including G, PG, and PG-13 movies together would give a total of 505 movies, compared to 506 R rated movies.\n",
        ">\n",
        "> In addition, Netflix had over 3,000 items listed as \"movies\", but which had TV ratings rather than MPAA ratings. Including those items in the analysis may result in a different distribution of \"for kids\" vs \"for adults\"."
      ]
    },
    {
      "cell_type": "markdown",
      "metadata": {
        "id": "3tOuwFOZYvVP",
        "colab_type": "text"
      },
      "source": [
        "## 🌟 Above and Beyond 🌟\n",
        "\n",
        "After reviewing your findings, the watchdog group would like some additional questions answered:\n",
        "\n",
        "1. How are things affected if you include the \"made for TV movies\" that have been assigned [TV ratings](https://en.wikipedia.org/wiki/Television_content_rating_system#United_States) in your analysis, but still exclude unrated movies?\n",
        "\n",
        "2. They would also like to see a separate report that includes only TV shows.\n",
        "\n",
        "3. For an upcoming community meeting, the group would like to present a simple\n",
        "chart showing \"For Kids\" and \"For Adults\" categories. The easiest way to accomplish this would be to [create a new column in your data frame that maps](https://pandas.pydata.org/docs/getting_started/intro_tutorials/10_text_data.html) each rating to the appropriate \"For Kids\" or \"For Adults\" label, then create a new visualization based on that column."
      ]
    }
  ]
}