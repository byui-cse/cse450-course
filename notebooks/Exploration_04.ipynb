{
  "nbformat": 4,
  "nbformat_minor": 0,
  "metadata": {
    "colab": {
      "name": "Exploration-04.ipynb",
      "provenance": [],
      "collapsed_sections": []
    },
    "kernelspec": {
      "name": "python3",
      "display_name": "Python 3"
    }
  },
  "cells": [
    {
      "cell_type": "markdown",
      "metadata": {
        "id": "LB9TN5GKEyhw",
        "colab_type": "text"
      },
      "source": [
        "# Data Exploration 04\n",
        "\n",
        "A political think tank is preparing a public relations campain on a variety of policy issues.\n",
        "\n",
        "In order to understand how they should best allocate their time, they've asked you to calculate some probabilities based on prior Congressional voting history."
      ]
    },
    {
      "cell_type": "markdown",
      "metadata": {
        "id": "agqlq8RKFbry",
        "colab_type": "text"
      },
      "source": [
        "## Part 1: Import Pandas and load the data\n",
        "\n",
        "The dataset for this exploration is stored at the following url:\n",
        "\n",
        "`https://raw.githubusercontent.com/byui-cse/cse450-course/master/data/house-votes-84.csv`\n",
        "\n",
        "\n",
        "### Initial Data Analysis\n",
        "Once you've loaded the data, it's a good idea to poke around a little bit to find out what you're dealing with.\n",
        "\n",
        "Some questions you might ask include:\n",
        "\n",
        "* What does the data look like?\n",
        "* What kind of data is in each column? \n",
        "* Do any of the columns have missing values? "
      ]
    },
    {
      "cell_type": "code",
      "metadata": {
        "id": "14b9y6LKEvEm",
        "colab_type": "code",
        "colab": {}
      },
      "source": [
        "# Part 1: Enter your code below to import Pandas according to the \n",
        "# conventional method. Then load the dataset into a Pandas dataframe.\n",
        "\n",
        "# Write any code needed to explore the data by seeing what the first few \n",
        "# rows look like. Then display a technical summary of the data to determine\n",
        "# the data types of each column, and which columns have missing data.\n"
      ],
      "execution_count": null,
      "outputs": []
    },
    {
      "cell_type": "markdown",
      "metadata": {
        "id": "q-O80D5JH9yA",
        "colab_type": "text"
      },
      "source": [
        "## Part 2: Simple Probabilities\n",
        "\n",
        "An easy way to calcuate simple categorical feature probabilities in Pandas is through the [value_counts() function](https://pandas.pydata.org/pandas-docs/stable/reference/api/pandas.DataFrame.value_counts.html).\n",
        "\n",
        "Calculate the following:\n",
        "   * P(class = 'republican')\n",
        "   * P(class = 'democrat')\n",
        "   * P(voted 'Y' on education-spending)"
      ]
    },
    {
      "cell_type": "code",
      "metadata": {
        "id": "AMKxXySGJVnC",
        "colab_type": "code",
        "colab": {}
      },
      "source": [
        "# Write the code to calculate the specified probabilities\n"
      ],
      "execution_count": null,
      "outputs": []
    },
    {
      "cell_type": "markdown",
      "metadata": {
        "id": "CqdAa4EfJ9T0",
        "colab_type": "text"
      },
      "source": [
        "## Part 3: Joint Probabilities\n",
        "An easy way to calculate joint probabilities in Pandas is by combining the [groupby() function](https://pandas.pydata.org/pandas-docs/stable/getting_started/intro_tutorials/06_calculate_statistics.html#aggregating-statistics-grouped-by-category) with the [value_counts() function](https://pandas.pydata.org/pandas-docs/stable/reference/api/pandas.DataFrame.value_counts.html).\n",
        "\n",
        "Though note that value_counts() is a Pandas Series method, and will therefore not work on an entire DataFrame. See [this article](https://pandas.pydata.org/pandas-docs/stable/getting_started/intro_tutorials/01_table_oriented.html#each-column-in-a-dataframe-is-a-series) for details on the difference.\n",
        "\n",
        "In 1984, congress [voted on two similar foreign-aid bills](https://www.nytimes.com/1984/05/25/world/military-aid-bill-for-el-salvador-passed-by-house.html), one to provide military aid to El Salvador `el-salvador-aid`, the other to provide military aid to rebels in Nicaragua `aid-to-nicaraguan-contras`.\n",
        "\n",
        "Calculate the following probabilities:\n",
        "\n",
        "* The probability that a representative voted *for* both aid packages.\n",
        "* The probability that a representative voted *against* both aid packages.\n",
        "* The probability that a representative voted to provide aid to El Salvador, but not Nicaragua.\n",
        "* The probability that a representative voted to provide aid to Nicaragua, but not El Savador.\n"
      ]
    },
    {
      "cell_type": "code",
      "metadata": {
        "id": "i8wdC-qpPjqF",
        "colab_type": "code",
        "colab": {}
      },
      "source": [
        "# Write the code to calculate the specified probabilities"
      ],
      "execution_count": null,
      "outputs": []
    },
    {
      "cell_type": "markdown",
      "metadata": {
        "id": "cl30h29pWp26",
        "colab_type": "text"
      },
      "source": [
        "## Part 4: Conditional Probabilities\n",
        "\n",
        "In 1984, congress passed the [Equal Access Act](https://mtsu.edu/first-amendment/article/1077/equal-access-act-of-1984), which forbids public secondary schools from receiving federal funds if they deny students the First Amendment right to conduct meetings because of the “religious, political, philosophical, or other content of the speech at such meetings.”\n",
        "\n",
        "The results of this vote are recorded in the `religious-groups-in-schools` column of the dataset, coded as one of the following:\n",
        "\n",
        "* Y - Voted yea (in favor of passage)\n",
        "* N - Voted nay (against passage)\n",
        "* ? - Abstained\n",
        "\n",
        "Calcualte the following joint probabilities:\n",
        "\n",
        "* The probability of a Democratic representative voting Yea on the Equal Access Act.\n",
        "* The probability of a Republican representative voting Yea on the Equal Access Act.\n"
      ]
    },
    {
      "cell_type": "code",
      "metadata": {
        "id": "6UZKj1yMXTYg",
        "colab_type": "code",
        "colab": {}
      },
      "source": [
        "# Write the code to calculate the specified probabilities"
      ],
      "execution_count": null,
      "outputs": []
    },
    {
      "cell_type": "markdown",
      "metadata": {
        "id": "7EA2lAfbYRAc",
        "colab_type": "text"
      },
      "source": [
        "# Part 5: Bayes' Theorem\n",
        "\n",
        "Page 252 of your text defines Bayes' Theorem, a formula that is used in a few area of machine learning.\n",
        "\n",
        "Using Bayes' Theorem, calculate the following probability:\n",
        "\n",
        "* The probability that a representative is a Democrat given that they voted Nay on the Equal Access Act."
      ]
    },
    {
      "cell_type": "code",
      "metadata": {
        "id": "lpqLCZhQLLU1",
        "colab_type": "code",
        "colab": {}
      },
      "source": [
        "# Use Bayes' Theorem to calcuate the specified probability"
      ],
      "execution_count": null,
      "outputs": []
    },
    {
      "cell_type": "markdown",
      "metadata": {
        "id": "3tOuwFOZYvVP",
        "colab_type": "text"
      },
      "source": [
        "## 🌟 Above and Beyond 🌟\n",
        "\n",
        "1. Create some visualizations that demonstrate party values based on candidate voting history.\n",
        "\n",
        "2. Explore other interesting relationships. Some examples might include: How likely is a candidate to vote for military spending in general if they also support religious freedom? How does party affiliation affect a candidate's likelihood to vote for or against spending in general? "
      ]
    }
  ]
}